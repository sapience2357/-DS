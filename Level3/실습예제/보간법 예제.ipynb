{
 "cells": [
  {
   "cell_type": "code",
   "execution_count": 1,
   "metadata": {},
   "outputs": [],
   "source": [
    "import warnings\n",
    "warnings.filterwarnings('always')\n",
    "warnings.filterwarnings('ignore')\n",
    "\n",
    "import pandas as pd\n",
    "import numpy as np\n",
    "\n",
    "import matplotlib.pyplot as plt\n",
    "import seaborn as sns\n",
    "\n",
    "plt.style.use('ggplot')"
   ]
  },
  {
   "attachments": {},
   "cell_type": "markdown",
   "metadata": {},
   "source": [
    "# sklearn.impute.SimpleImputer\n",
    "- 각 열에 따라서, 기술통계(평균, 중앙값, 등)를 사용하거나 상수 값을 사용하여 결측치를 대체\n",
    "- 클래스 원형\n",
    "```\n",
    "class sklearn.impute.SimpleImputer(\n",
    "  *, missing_values=nan, strategy='mean', \n",
    "  fill_value=None, verbose='deprecated', \n",
    "  copy=True, add_indicator=False, keep_empty_features=False)\n",
    "```"
   ]
  },
  {
   "attachments": {},
   "cell_type": "markdown",
   "metadata": {},
   "source": [
    "## 주요 파라미터\n",
    "- missing_values: 결측치 지정, default=np.nan\n",
    "- strategy: 결측치를 대체할 값, default='mean'\n",
    "- fill_value: strategy = 'constant'인 경우에 사용"
   ]
  },
  {
   "cell_type": "code",
   "execution_count": 5,
   "metadata": {},
   "outputs": [
    {
     "name": "stdout",
     "output_type": "stream",
     "text": [
      "[[ 7.   2.   3. ]\n",
      " [ 4.   3.5  6. ]\n",
      " [10.   3.5  9. ]]\n"
     ]
    }
   ],
   "source": [
    "from sklearn.impute import SimpleImputer\n",
    "imputer = SimpleImputer( missing_values=np.nan, strategy='mean' )\n",
    "imputer.fit([\n",
    "  [7, 2, 3], \n",
    "  [4, np.nan, 6], \n",
    "  [10, 5, 9]\n",
    "])\n",
    "\n",
    "X = [\n",
    "  [np.nan, 2, 3], \n",
    "  [4, np.nan, 6], \n",
    "  [10, np.nan, 9]\n",
    "]\n",
    "print(imputer.transform(X))"
   ]
  },
  {
   "attachments": {},
   "cell_type": "markdown",
   "metadata": {},
   "source": [
    "# sklearn.impute.IterativeImputer\n",
    "- 다른 모든 입력변수를 이용하여 결측치를 추정하는 다변량 보간법\n",
    "- 클래스 원형\n",
    "```\n",
    "class sklearn.impute.IterativeImputer(\n",
    "  estimator=None, *, \n",
    "  missing_values=nan, \n",
    "  sample_posterior=False, max_iter=10, tol=0.001, \n",
    "  n_nearest_features=None, \n",
    "  initial_strategy='mean', \n",
    "  imputation_order='ascending', \n",
    "  skip_complete=False, \n",
    "  min_value=-inf, \n",
    "  max_value=inf, verbose=0, random_state=None, \n",
    "  add_indicator=False, keep_empty_features=False\n",
    ")\n",
    "```"
   ]
  },
  {
   "attachments": {},
   "cell_type": "markdown",
   "metadata": {},
   "source": [
    "## 주요 파라미터\n",
    "- estimator: 각 단계에서 사용할 추정기(classifier, regressor), default=BaysianRidge()\n",
    "- n_nearest_features: 결측치를 추정하는 데 사용할 다른 변수의 수, default=None(모든 변수를 사용)\n",
    "- initial_strategy: 결측치 초기값(mean, median, mode, constant), default=mean   \n",
    "..."
   ]
  },
  {
   "cell_type": "code",
   "execution_count": 3,
   "metadata": {},
   "outputs": [],
   "source": [
    "from sklearn.experimental import enable_iterative_imputer\n",
    "from sklearn.impute import IterativeImputer\n",
    "from sklearn.linear_model import LinearRegression"
   ]
  },
  {
   "cell_type": "code",
   "execution_count": 4,
   "metadata": {},
   "outputs": [
    {
     "data": {
      "text/plain": [
       "array([[ 7. ,  2. ,  3. ],\n",
       "       [ 4. ,  2.6,  6. ],\n",
       "       [10. ,  5. ,  9. ]])"
      ]
     },
     "execution_count": 4,
     "metadata": {},
     "output_type": "execute_result"
    }
   ],
   "source": [
    "model = LinearRegression()\n",
    "imputer = IterativeImputer( estimator=model )\n",
    "\n",
    "imputer.fit([\n",
    "  [7, 2, 3], \n",
    "  [4, np.nan, 6], \n",
    "  [10, 5, 9]\n",
    "])\n",
    "\n",
    "X = [\n",
    "  [np.nan, 2, 3], \n",
    "  [4, np.nan, 6], \n",
    "  [10, np.nan, 9]\n",
    "]\n",
    "imputer.transform(X)"
   ]
  },
  {
   "attachments": {},
   "cell_type": "markdown",
   "metadata": {},
   "source": [
    "# sklearn.impute.KNNImputer\n",
    "- 최근접 이웃을 사용하여 결측치를 대체\n",
    "- 클래스 원형\n",
    "```\n",
    "class sklearn.impute.KNNImputer(\n",
    "  *, missing_values=nan, n_neighbors=5, \n",
    "  weights='uniform', metric='nan_euclidean', \n",
    "  copy=True, add_indicator=False, keep_empty_features=False)\n",
    "```"
   ]
  },
  {
   "attachments": {},
   "cell_type": "markdown",
   "metadata": {},
   "source": [
    "## 주요 파라미터\n",
    "- n_neighbors: 결측치를 대체할 인접한 샘플의 수, default=5\n",
    "- weights: 예측에 사용되는 가중치(uniform, distance, callable), default='uniform'\n",
    "- metric: 이웃 검색을 위한 거리 메트릭, default='nan_euclidean'"
   ]
  },
  {
   "cell_type": "code",
   "execution_count": null,
   "metadata": {},
   "outputs": [],
   "source": [
    "# 시험 버전에는 없는 기능\n",
    "from sklearn.impute import KNNImputer\n",
    "\n",
    "X = [\n",
    "  [1, 2, np.nan], \n",
    "  [3, 4, 3], \n",
    "  [np.nan, 6, 5], \n",
    "  [8, 8, 7]\n",
    "]\n",
    "imputer = KNNImputer(n_neighbors=2)\n",
    "imputer.fit_transform(X)"
   ]
  }
 ],
 "metadata": {
  "kernelspec": {
   "display_name": "exam",
   "language": "python",
   "name": "python3"
  },
  "language_info": {
   "codemirror_mode": {
    "name": "ipython",
    "version": 3
   },
   "file_extension": ".py",
   "mimetype": "text/x-python",
   "name": "python",
   "nbconvert_exporter": "python",
   "pygments_lexer": "ipython3",
   "version": "3.7.4"
  },
  "orig_nbformat": 4
 },
 "nbformat": 4,
 "nbformat_minor": 2
}
