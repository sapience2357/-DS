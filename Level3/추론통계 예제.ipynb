{
 "cells": [
  {
   "cell_type": "code",
   "execution_count": 4,
   "metadata": {},
   "outputs": [],
   "source": [
    "import warnings\n",
    "warnings.filterwarnings('always')\n",
    "warnings.filterwarnings('ignore')\n",
    "\n",
    "import pandas as pd\n",
    "import numpy as np\n",
    "\n",
    "import scipy as sp\n",
    "import scipy.stats as sps\n",
    "\n",
    "import matplotlib.pyplot as plt\n",
    "import seaborn as sns\n",
    "\n",
    "plt.style.use('ggplot')"
   ]
  },
  {
   "attachments": {},
   "cell_type": "markdown",
   "metadata": {},
   "source": [
    "# Z-검정"
   ]
  },
  {
   "attachments": {},
   "cell_type": "markdown",
   "metadata": {},
   "source": [
    "## 1-표본 Z-검정\n",
    "- 분산의 값을 정확히 알고 있는 경우에 사용\n",
    "- 별도의 라이브러리는 존재하지 않는다."
   ]
  },
  {
   "cell_type": "code",
   "execution_count": 2,
   "metadata": {},
   "outputs": [],
   "source": [
    "import scipy.stats as sp"
   ]
  },
  {
   "cell_type": "code",
   "execution_count": 16,
   "metadata": {},
   "outputs": [],
   "source": [
    "# 귀무가설 기각(1종 오류)\n",
    "# 귀무가설이 맞미나 유의확률은 낮은 경우\n",
    "n = 10 \n",
    "mu = 0\n",
    "sigma2 = 1"
   ]
  },
  {
   "cell_type": "code",
   "execution_count": 19,
   "metadata": {},
   "outputs": [],
   "source": [
    "np.random.seed(0)\n",
    "x = sp.norm(mu).rvs(n) # 정규분포가 맞는데 ..."
   ]
  },
  {
   "cell_type": "code",
   "execution_count": 20,
   "metadata": {},
   "outputs": [
    {
     "data": {
      "text/plain": [
       "(2.3338341854824276, 0.009802203010841769)"
      ]
     },
     "execution_count": 20,
     "metadata": {},
     "output_type": "execute_result"
    }
   ],
   "source": [
    "z = (x.mean() - mu) / (sigma2 / len(x)) ** 0.5\n",
    "pval = sp.norm().sf(np.abs(z) )\n",
    "z, pval # 아니라고 한다"
   ]
  },
  {
   "attachments": {},
   "cell_type": "markdown",
   "metadata": {},
   "source": [
    "# T-검정"
   ]
  },
  {
   "attachments": {},
   "cell_type": "markdown",
   "metadata": {},
   "source": [
    "## 1-표본 t-검정"
   ]
  },
  {
   "attachments": {},
   "cell_type": "markdown",
   "metadata": {},
   "source": [
    "### scipy.stats.ttest_1samp\n",
    "- [바로가기](https://docs.scipy.org/doc/scipy/reference/generated/scipy.stats.ttest_1samp.html#scipy.stats.ttest_1samp)\n",
    "- 함수 원형\n",
    "```\n",
    "scipy.stats.ttest_1samp(\n",
    "    a, \n",
    "    popmean, \n",
    "    axis=0, \n",
    "    nan_policy='propagate', \n",
    "    alternative='two-sided', \n",
    "    *, \n",
    "    keepdims=False\n",
    ")\n",
    "```"
   ]
  },
  {
   "cell_type": "code",
   "execution_count": 6,
   "metadata": {},
   "outputs": [],
   "source": [
    "from scipy import stats\n",
    "from scipy.stats import ttest_1samp"
   ]
  },
  {
   "cell_type": "code",
   "execution_count": 7,
   "metadata": {},
   "outputs": [
    {
     "data": {
      "text/plain": [
       "array([0.25691911, 0.43241898, 0.7326889 , 0.63158396, 0.2808299 ,\n",
       "       0.25246772, 0.56543942, 0.82385406, 0.76467736, 0.4472907 ,\n",
       "       0.86489482, 0.47100526, 0.51030858, 0.37065626, 0.18033817,\n",
       "       0.64428006, 0.36896558, 0.55330826, 0.92948127, 0.02073572,\n",
       "       0.35590362, 0.96954492, 0.46370323, 0.85590093, 0.50330489,\n",
       "       0.76555636, 0.91585124, 0.16673639, 0.27592016, 0.90471617,\n",
       "       0.0603725 , 0.45840118, 0.37958094, 0.39954663, 0.77094704,\n",
       "       0.04780625, 0.48910092, 0.75954953, 0.8612784 , 0.0216658 ,\n",
       "       0.68094188, 0.19456357, 0.44886555, 0.92208057, 0.86952715,\n",
       "       0.10335217, 0.23461862, 0.77008103, 0.30421902, 0.2421083 ])"
      ]
     },
     "execution_count": 7,
     "metadata": {},
     "output_type": "execute_result"
    }
   ],
   "source": [
    "rvs = stats.uniform.rvs( size=50 )\n",
    "rvs"
   ]
  },
  {
   "cell_type": "code",
   "execution_count": 8,
   "metadata": {},
   "outputs": [
    {
     "data": {
      "text/plain": [
       "Ttest_1sampResult(statistic=0.15041820561146496, pvalue=0.8810521735195176)"
      ]
     },
     "execution_count": 8,
     "metadata": {},
     "output_type": "execute_result"
    }
   ],
   "source": [
    "ttest_1samp( rvs, popmean=0.5 )"
   ]
  },
  {
   "cell_type": "code",
   "execution_count": 10,
   "metadata": {},
   "outputs": [
    {
     "data": {
      "text/plain": [
       "Ttest_1sampResult(statistic=-3.15977004064562, pvalue=0.00270547830242588)"
      ]
     },
     "execution_count": 10,
     "metadata": {},
     "output_type": "execute_result"
    }
   ],
   "source": [
    "rvs = stats.norm.rvs( size=50 )\n",
    "ttest_1samp( rvs, popmean=0.5 )"
   ]
  },
  {
   "attachments": {},
   "cell_type": "markdown",
   "metadata": {},
   "source": [
    "## 독립표본 t-검정"
   ]
  },
  {
   "attachments": {},
   "cell_type": "markdown",
   "metadata": {},
   "source": [
    "### scipy.stats.ttest_ind\n",
    "- [바로가기](https://docs.scipy.org/doc/scipy/reference/generated/scipy.stats.ttest_ind.html#scipy.stats.ttest_ind)\n",
    "- 함수 원형\n",
    "```\n",
    "scipy.stats.ttest_ind(\n",
    "    a, b, \n",
    "    axis=0, \n",
    "    equal_var=True, \n",
    "    nan_policy='propagate', \n",
    "    permutations=None, \n",
    "    random_state=None, \n",
    "    alternative='two-sided', \n",
    "    trim=0\n",
    ")\n",
    "```"
   ]
  },
  {
   "cell_type": "code",
   "execution_count": 11,
   "metadata": {},
   "outputs": [],
   "source": [
    "from scipy.stats import ttest_ind"
   ]
  },
  {
   "cell_type": "code",
   "execution_count": 17,
   "metadata": {},
   "outputs": [],
   "source": [
    "rvs1 = stats.norm.rvs(loc=5, scale=10, size=500 )\n",
    "rvs2 = stats.norm.rvs(loc=5, scale=10, size=500 )"
   ]
  },
  {
   "cell_type": "code",
   "execution_count": 18,
   "metadata": {},
   "outputs": [
    {
     "data": {
      "text/plain": [
       "Ttest_indResult(statistic=-0.5100072468266222, pvalue=0.6101591522653469)"
      ]
     },
     "execution_count": 18,
     "metadata": {},
     "output_type": "execute_result"
    }
   ],
   "source": [
    "ttest_ind(rvs1, rvs2)"
   ]
  },
  {
   "cell_type": "code",
   "execution_count": 23,
   "metadata": {},
   "outputs": [
    {
     "name": "stdout",
     "output_type": "stream",
     "text": [
      "Ttest_indResult(statistic=-1.057508488707401, pvalue=0.2907065809390743)\n",
      "Ttest_indResult(statistic=-0.6743455315767852, pvalue=0.501531096392113)\n"
     ]
    }
   ],
   "source": [
    "rvs3 = stats.norm.rvs(loc=5, scale=20, size=100 )\n",
    "print( ttest_ind(rvs1, rvs3) )\n",
    "print( ttest_ind(rvs1, rvs3, equal_var=False ) )"
   ]
  },
  {
   "cell_type": "code",
   "execution_count": 25,
   "metadata": {},
   "outputs": [
    {
     "name": "stdout",
     "output_type": "stream",
     "text": [
      "Ttest_indResult(statistic=-2.6730441206912032, pvalue=0.0077218051227199115)\n",
      "Ttest_indResult(statistic=-1.727698920566838, pvalue=0.08688409419284876)\n"
     ]
    }
   ],
   "source": [
    "rvs4 = stats.norm.rvs( loc=8, scale=20, size=100 )\n",
    "print( ttest_ind( rvs1, rvs4 ) )\n",
    "print( ttest_ind( rvs1, rvs4, equal_var=False ) )"
   ]
  },
  {
   "attachments": {},
   "cell_type": "markdown",
   "metadata": {},
   "source": [
    "## 대응표본 t-검정\n",
    "- 독립표본 t-검정을 두 집단의 표본이 1:1 대응하는 경우에 대해서 수정한 것"
   ]
  },
  {
   "attachments": {},
   "cell_type": "markdown",
   "metadata": {},
   "source": [
    "### scipy.stats.ttest_rel\n",
    "- [바로가기](https://docs.scipy.org/doc/scipy/reference/generated/scipy.stats.ttest_rel.html#scipy.stats.ttest_rel)\n",
    "- 함수 원형\n",
    "```\n",
    "scipy.stats.ttest_rel(\n",
    "    a, b, \n",
    "    axis=0, \n",
    "    nan_policy='propagate', \n",
    "    alternative='two-sided', \n",
    "    *, \n",
    "    keepdims=False\n",
    ")\n",
    "```"
   ]
  },
  {
   "cell_type": "code",
   "execution_count": 26,
   "metadata": {},
   "outputs": [],
   "source": [
    "from scipy.stats import ttest_rel"
   ]
  },
  {
   "cell_type": "code",
   "execution_count": 27,
   "metadata": {},
   "outputs": [],
   "source": [
    "rvs1 = stats.norm.rvs(loc=5, scale=10, size=500 )\n",
    "rvs2 = (\n",
    "\tstats.norm.rvs(loc=5, scale=10, size=500 ) + \n",
    "\tstats.norm.rvs(scale=0.2, size=500 )\n",
    ")"
   ]
  },
  {
   "cell_type": "code",
   "execution_count": 28,
   "metadata": {},
   "outputs": [
    {
     "data": {
      "text/plain": [
       "Ttest_relResult(statistic=1.6087429083883615, pvalue=0.10830501950364764)"
      ]
     },
     "execution_count": 28,
     "metadata": {},
     "output_type": "execute_result"
    }
   ],
   "source": [
    "stats.ttest_rel(rvs1, rvs2)"
   ]
  },
  {
   "cell_type": "code",
   "execution_count": 29,
   "metadata": {},
   "outputs": [],
   "source": [
    "rvs3 = (\n",
    "    stats.norm.rvs(loc=8, scale=10, size=500 ) + \n",
    "    stats.norm.rvs(scale=0.2, size=500 )\n",
    ")"
   ]
  },
  {
   "cell_type": "code",
   "execution_count": 30,
   "metadata": {},
   "outputs": [
    {
     "data": {
      "text/plain": [
       "Ttest_relResult(statistic=-3.2730639987375207, pvalue=0.0011376410245255264)"
      ]
     },
     "execution_count": 30,
     "metadata": {},
     "output_type": "execute_result"
    }
   ],
   "source": [
    "stats.ttest_rel(rvs1, rvs3)"
   ]
  },
  {
   "attachments": {},
   "cell_type": "markdown",
   "metadata": {},
   "source": [
    "# 모비율 검정\n",
    "- 모비율 p가 어떤값을 가질 때, 설정된 2개의 가설 중에서 `하나의 가설을 선택`하는 방법\n",
    "- 예)\n",
    "  $$\n",
    "    H_0: p = 0.06, \\\\\n",
    "    H_1: p \\neq 0.06 \\\\ \n",
    "  $$\n",
    "  \n",
    "- 표본비율\n",
    "  - x = 발생건수\n",
    "  - n = 전체 관측된 수\n",
    "$$\n",
    "  \n",
    "  \\hat{p} = { x \\over n }\n",
    "$$\n",
    "\n",
    "- 표준화\n",
    "$$\n",
    "  z = { \\hat{p} - p \\over \\sqrt{ { p(1-p) \\over n}}} \\sim N(0,1)\n",
    "$$\n",
    "\n"
   ]
  },
  {
   "attachments": {},
   "cell_type": "markdown",
   "metadata": {},
   "source": [
    "# F-검정\n",
    "- 두 집단 이상의 분산의 차이에 대한 검정\n",
    "- 함수 원형\n",
    "```\n",
    "scipy.stats.f_oneway(*samples, axis=0)\n",
    "```"
   ]
  },
  {
   "cell_type": "code",
   "execution_count": 90,
   "metadata": {},
   "outputs": [],
   "source": [
    "a = [0.0571, 0.0813, 0.0831, 0.0976, 0.0817, 0.0859, 0.0735, 0.0659, 0.0923, 0.0836]\n",
    "b = [0.0873, 0.0662, 0.0672, 0.0819, 0.0749, 0.0649, 0.0835, 0.0725]\n",
    "c = [0.0974, 0.1352, 0.0817, 0.1016, 0.0968, 0.1064, 0.105]\n",
    "d = [0.1033, 0.0915, 0.0781, 0.0685, 0.0677, 0.0697, 0.0764, 0.0689]\n",
    "e = [0.0703, 0.1026, 0.0956, 0.0973, 0.1039, 0.1045]"
   ]
  },
  {
   "cell_type": "code",
   "execution_count": 92,
   "metadata": {},
   "outputs": [
    {
     "data": {
      "image/png": "[encoded data removed]",
      "text/plain": [
       "<Figure size 640x480 with 1 Axes>"
      ]
     },
     "metadata": {},
     "output_type": "display_data"
    }
   ],
   "source": [
    "sns.distplot( a )\n",
    "sns.distplot( b )\n",
    "sns.distplot( c )\n",
    "sns.distplot( d )\n",
    "sns.distplot( e )\n",
    "plt.show()"
   ]
  },
  {
   "cell_type": "code",
   "execution_count": 91,
   "metadata": {},
   "outputs": [
    {
     "data": {
      "text/plain": [
       "F_onewayResult(statistic=7.121019471642447, pvalue=0.0002812242314534544)"
      ]
     },
     "execution_count": 91,
     "metadata": {},
     "output_type": "execute_result"
    }
   ],
   "source": [
    "sp.f_oneway( a, b, c, d, e )"
   ]
  },
  {
   "attachments": {},
   "cell_type": "markdown",
   "metadata": {},
   "source": [
    "# 카이제곱 검정"
   ]
  },
  {
   "attachments": {},
   "cell_type": "markdown",
   "metadata": {},
   "source": [
    "## 적합성 검정\n",
    "- k개의 범주를 가지는 한 개인 요인(factor)에 대해서 어떤 이론적 분포를 따르고 있는지를 검정\n",
    "  - 즉, 하나의 범주형 변수에 대한 관측 값들이 어떤 이론적 분포를 띄는지 검정\n",
    "\n",
    "- 가설 예시\n",
    "  - 귀무가설(H0): 각 범주 별로 주어진 확률이 사실이다.\n",
    "  - 대립가설(H1): 각 범주 별로 주어진 확률 중 하나 이상은 사실이 아니다."
   ]
  },
  {
   "attachments": {},
   "cell_type": "markdown",
   "metadata": {},
   "source": [
    "### scipy.stats.chisquare\n",
    "- 함수 원형\n",
    "```\n",
    "scipy.stats.chisquare(f_obs, f_exp=None, ddof=0, axis=0)\n",
    "```\n",
    "\n",
    "- 주요 파라미터\n",
    "  - f_obs: 각 범주에서 관찰된 빈도\n",
    "  - f_exp: 각 범주의 예상 빈도(기본적으로 범주는 동일한 가능성이 있다고 가정)\n",
    "  - ddof: 자유도\n",
    "  - axis: 축\n",
    "\n",
    "- 교재 예제\n",
    "\n",
    "| 구분 | N사 | O사 | S사 | P사 | 합계 |\n",
    "|:---:|:---:|:---:|:---:|:---:|:---:|\n",
    "| 점유율 | 68% | 13% | 11% | 8% | 100% |\n",
    "| 구입 라면(명) | 285 | 66 | 55 | 44 | 450 |"
   ]
  },
  {
   "cell_type": "code",
   "execution_count": 6,
   "metadata": {},
   "outputs": [
    {
     "name": "stdout",
     "output_type": "stream",
     "text": [
      "observed: [285  66  55  44]\n",
      "proportion: [0.68 0.13 0.11 0.08]\n",
      "expected: [306.   58.5  49.5  36. ]\n"
     ]
    }
   ],
   "source": [
    "# 관찰된 빈도\n",
    "obs = np.array([ 285, 66, 55, 44] )\n",
    "\n",
    "# 각 범주의 예상 빈도\n",
    "pr = np.array( [0.68, 0.13, 0.11, 0.08] )\n",
    "n = obs.sum()\n",
    "E = n * pr\n",
    "\n",
    "print(\"observed:\", obs)\n",
    "print(\"proportion:\", pr)\n",
    "print(\"expected:\", E)"
   ]
  },
  {
   "cell_type": "code",
   "execution_count": 8,
   "metadata": {},
   "outputs": [
    {
     "data": {
      "text/plain": [
       "Power_divergenceResult(statistic=4.791603821015586, pvalue=0.1877085977311163)"
      ]
     },
     "execution_count": 8,
     "metadata": {},
     "output_type": "execute_result"
    }
   ],
   "source": [
    "# p-value 0.18로 귀무가설을 기각할 수 없다.\n",
    "# 즉, 통계적으로 변화가 없다. \n",
    "sps.chisquare( obs, E)"
   ]
  },
  {
   "attachments": {},
   "cell_type": "markdown",
   "metadata": {},
   "source": [
    "## 독립성 검정\n",
    "- 서로 다른 두 범주형 변수에 대해 연관성이 있는지를 검정\n",
    "  - 즉, 두 범주형 변수들 사이의 관계가 서로 독립인지 아닌지를 검정\n",
    "\n",
    "- 가설 예시\n",
    "  - 귀무가설(H0): 두 범주형 변수는 서로 독립이다.(연관성이 없다.)\n",
    "  - 대립가설(H1): 두 범주형 변수는 독립적인 관계가 아니다(연관성이 있다.)"
   ]
  },
  {
   "attachments": {},
   "cell_type": "markdown",
   "metadata": {},
   "source": [
    "### scipy.stats.chi2_contingency\n",
    "- 함수 원형\n",
    "```\n",
    "scipy.stats.chi2_contingency(observed, correction=True, lambda_=None)\n",
    "```\n",
    "\n",
    "- 주요 파라미터\n",
    "  - observed: 빈도 테이블, 각 범주에서 관찰된 빈도\n",
    "\n",
    "- 교재 예제\n",
    "\n",
    "| 결함유형구분 | 생산라인1 | 생산라인2 | 생산라인3 |\n",
    "|:---:|:---:|:---:|:---:|\n",
    "| 상판 | 11 | 25 | 27 |\n",
    "| 다리 | 15 | 31 | 28 |\n",
    "| 서랍 | 44 | 24 | 52 |\n",
    "| 도색 | 10 | 17 | 16 |"
   ]
  },
  {
   "cell_type": "code",
   "execution_count": 10,
   "metadata": {},
   "outputs": [
    {
     "data": {
      "text/html": [
       "<div>\n",
       "<style scoped>\n",
       "    .dataframe tbody tr th:only-of-type {\n",
       "        vertical-align: middle;\n",
       "    }\n",
       "\n",
       "    .dataframe tbody tr th {\n",
       "        vertical-align: top;\n",
       "    }\n",
       "\n",
       "    .dataframe thead th {\n",
       "        text-align: right;\n",
       "    }\n",
       "</style>\n",
       "<table border=\"1\" class=\"dataframe\">\n",
       "  <thead>\n",
       "    <tr style=\"text-align: right;\">\n",
       "      <th></th>\n",
       "      <th>Line1</th>\n",
       "      <th>Line2</th>\n",
       "      <th>Line3</th>\n",
       "    </tr>\n",
       "  </thead>\n",
       "  <tbody>\n",
       "    <tr>\n",
       "      <td>상판</td>\n",
       "      <td>11</td>\n",
       "      <td>25</td>\n",
       "      <td>27</td>\n",
       "    </tr>\n",
       "    <tr>\n",
       "      <td>다리</td>\n",
       "      <td>15</td>\n",
       "      <td>31</td>\n",
       "      <td>28</td>\n",
       "    </tr>\n",
       "    <tr>\n",
       "      <td>서랍</td>\n",
       "      <td>44</td>\n",
       "      <td>24</td>\n",
       "      <td>52</td>\n",
       "    </tr>\n",
       "    <tr>\n",
       "      <td>도색</td>\n",
       "      <td>10</td>\n",
       "      <td>17</td>\n",
       "      <td>16</td>\n",
       "    </tr>\n",
       "  </tbody>\n",
       "</table>\n",
       "</div>"
      ],
      "text/plain": [
       "    Line1  Line2  Line3\n",
       "상판     11     25     27\n",
       "다리     15     31     28\n",
       "서랍     44     24     52\n",
       "도색     10     17     16"
      ]
     },
     "execution_count": 10,
     "metadata": {},
     "output_type": "execute_result"
    }
   ],
   "source": [
    "defective = np.array([\n",
    "  [11, 25, 27],\n",
    "  [15, 31, 28],\n",
    "  [44, 24, 52],\n",
    "  [10, 17, 16],\n",
    "])\n",
    "\n",
    "column_names = [ 'Line1', 'Line2', 'Line3']\n",
    "row_names = [ '상판', '다리', '서랍', '도색']\n",
    "table = pd.DataFrame( defective, columns=column_names, index=row_names)\n",
    "table"
   ]
  },
  {
   "cell_type": "code",
   "execution_count": 13,
   "metadata": {},
   "outputs": [
    {
     "name": "stdout",
     "output_type": "stream",
     "text": [
      "17.8473725144853 0.006625156046928181\n"
     ]
    },
    {
     "name": "stderr",
     "output_type": "stream",
     "text": [
      "Bad pipe message: %s [b'\\x1a_dq\\xc1\\xdb\\xb1\\x1a-\\x99\\x14\\raD\\xa3\\xd0\\x98Z \\xd2%\\x03\\xe5\\xa8\\xd5\\xb8\\xe6\\xf1m\\xf6\\xfb*1\\xe3\\xc5?\\x0e\\xde$x\\x9c\\x8c\\xab\\x15Qk\\xac\\xa8S\\xbd\\xac\\x00\\x08\\x13\\x02\\x13\\x03\\x13\\x01\\x00\\xff\\x01\\x00\\x00\\x8f\\x00\\x00\\x00\\x0e\\x00\\x0c\\x00\\x00\\t127.0.0.1\\x00\\x0b\\x00\\x04\\x03\\x00\\x01\\x02\\x00\\n\\x00\\x0c\\x00\\n\\x00', b'\\x17\\x00\\x1e\\x00\\x19\\x00\\x18\\x00#\\x00\\x00\\x00\\x16\\x00\\x00\\x00\\x17\\x00\\x00\\x00\\r\\x00\\x1e\\x00\\x1c\\x04\\x03\\x05']\n",
      "Bad pipe message: %s [b'\\x03\\x08']\n",
      "Bad pipe message: %s [b'\\x08\\x08\\t\\x08\\n\\x08']\n",
      "Bad pipe message: %s [b'\\x04\\x08\\x05\\x08\\x06\\x04\\x01\\x05\\x01\\x06']\n",
      "Bad pipe message: %s [b'']\n",
      "Bad pipe message: %s [b'\\x03\\x02\\x03\\x04\\x00-\\x00\\x02\\x01\\x01\\x003\\x00&\\x00$\\x00\\x1d\\x00 s\\x90\\x1b\\xab\\x8ek\\x06\\xacQ\\x02\\xfe\\xfa\\x05?\\x15\\xec \\xb8\\xcd\\xc3\\xc3\\xf3']\n",
      "Bad pipe message: %s [b'\\xc9\\xd6\\xf2\\xae\\xa9\\xc2\\x9212a\\x97\\x04\\x95\\xb7\\xd5\\x89\\x87( \\xb4\\xbeE\\\\\\xcb\\xd2\\x0b\\x88\\xd7]\\xc1 n\\xd2\\x7f\\xf7KT\\x12\\xe0\\xa6^\\xd9\\xcb\\xa3\\xae\\xce\\xa9\\xdf`m\\x05\\x00\\x08\\x13\\x02\\x13\\x03\\x13\\x01\\x00\\xff\\x01\\x00\\x00\\x8f\\x00\\x00\\x00\\x0e\\x00\\x0c\\x00\\x00\\t127.']\n",
      "Bad pipe message: %s [b'0.1\\x00\\x0b\\x00\\x04\\x03\\x00\\x01\\x02\\x00\\n\\x00\\x0c\\x00\\n\\x00\\x1d\\x00\\x17\\x00\\x1e\\x00\\x19\\x00\\x18\\x00#\\x00\\x00\\x00\\x16\\x00\\x00\\x00\\x17\\x00\\x00\\x00\\r\\x00\\x1e\\x00\\x1c\\x04\\x03']\n",
      "Bad pipe message: %s [b'\\x1c B4a.\\xb5\\t\\xe0y\\x15!^\\x90t\\xb9S5\\x00\\x00|\\xc0']\n",
      "Bad pipe message: %s [b'\\x06\\x03\\x08\\x07', b'\\x08\\t\\x08\\n\\x08\\x0b\\x08']\n",
      "Bad pipe message: %s [b'0\\x00\\xa3\\x00\\x9f\\xcc\\xa9\\xcc\\xa8\\xcc\\xaa\\xc0\\xaf\\xc0\\xad\\xc0\\xa3\\xc0\\x9f\\xc0]\\xc0a\\xc0W\\xc0S\\xc0+\\xc0/\\x00\\xa2\\x00\\x9e\\xc0\\xae\\xc0\\xac\\xc0\\xa2\\xc0\\x9e']\n",
      "Bad pipe message: %s [b'\\x05\\x08\\x06']\n",
      "Bad pipe message: %s [b'\\x05\\x01\\x06', b'']\n",
      "Bad pipe message: %s [b'\\x03\\x02\\x03\\x04\\x00-\\x00\\x02\\x01\\x01\\x003\\x00&\\x00$\\x00\\x1d\\x00 \\xee[\\x1c\\x97\\xed|\\r\\x9ca\\x1f\\xc7\\x10\\xa7&+\\xf7CWo\\x0cQ\\xa5']\n",
      "Bad pipe message: %s [b\"a\\x04\\xe4\\x1f<\\xb2\\xa5V\\xf6\\t\\xd2\\x02\\xb3\\x9a|a\\x88P\\x00\\x00\\xa6\\xc0,\\xc00\\x00\\xa3\\x00\\x9f\\xcc\\xa9\\xcc\\xa8\\xcc\\xaa\\xc0\\xaf\\xc0\\xad\\xc0\\xa3\\xc0\\x9f\\xc0]\\xc0a\\xc0W\\xc0S\\xc0+\\xc0/\\x00\\xa2\\x00\\x9e\\xc0\\xae\\xc0\\xac\\xc0\\xa2\\xc0\\x9e\\xc0\\\\\\xc0`\\xc0V\\xc0R\\xc0$\\xc0(\\x00k\\x00j\\xc0s\\xc0w\\x00\\xc4\\x00\\xc3\\xc0#\\xc0'\\x00g\\x00@\\xc0r\\xc0v\\x00\\xbe\\x00\\xbd\\xc0\\n\\xc0\\x14\\x009\\x008\\x00\\x88\\x00\\x87\\xc0\\t\\xc0\\x13\\x003\\x002\\x00\\x9a\\x00\\x99\\x00E\\x00D\\xc0\\x07\\xc0\", b'\\x08\\xc0\\x12\\x00\\x16\\x00\\x13\\x00\\x9d\\xc0\\xa1\\xc0\\x9d\\xc0Q\\x00']\n",
      "Bad pipe message: %s [b'C7\\xc5\\xb9%\\xc0\\xc6g\\xd3\\xb2\\x02\\xa5\\xbb\\x90\\x9b\\x16At\\x00\\x00\\xa2\\xc0\\x14\\xc0\\n\\x009\\x008\\x007\\x006\\x00\\x88\\x00\\x87\\x00\\x86\\x00\\x85\\xc0\\x19\\x00:\\x00\\x89\\xc0\\x0f\\xc0\\x05\\x005\\x00\\x84\\xc0\\x13\\xc0\\t\\x003\\x002\\x001\\x000\\x00\\x9a\\x00\\x99\\x00\\x98\\x00\\x97\\x00E\\x00D\\x00C\\x00B\\xc0\\x18\\x004\\x00\\x9b\\x00F\\xc0\\x0e\\xc0\\x04\\x00/\\x00\\x96\\x00A\\x00\\x07\\xc0\\x11\\xc0\\x07\\xc0\\x16\\x00\\x18\\xc0\\x0c\\xc0\\x02\\x00\\x05\\x00\\x04\\xc0\\x12\\xc0\\x08\\x00\\x16\\x00']\n",
      "Bad pipe message: %s [b'\\x10\\x00\\r\\xc0\\x17\\x00\\x1b\\xc0\\r\\xc0\\x03\\x00\\n\\x00\\x15\\x00\\x12\\x00']\n",
      "Bad pipe message: %s [b'\\x0c\\x00\\x1a\\x00\\t\\x00\\x14\\x00\\x11\\x00\\x19\\x00\\x08\\x00']\n",
      "Bad pipe message: %s [b\"\\x88\\xea\\x12,\\x93\\x9d_\\xa9+b\\xcd\\x1b\\x15\\x81\\xc5\\xa2'\\xca\\x00\\x00>\\xc0\\x14\\xc0\\n\\x009\\x008\\x007\\x006\\xc0\\x0f\\xc0\\x05\\x005\\xc0\\x13\\xc0\\t\\x003\\x002\\x001\\x000\\xc0\\x0e\\xc0\\x04\\x00/\\x00\\x9a\\x00\\x99\\x00\\x98\\x00\\x97\\x00\\x96\\x00\\x07\\xc0\\x11\\xc0\\x07\\xc0\\x0c\\xc0\\x02\\x00\\x05\\x00\\x04\\x00\\xff\\x02\\x01\\x00\\x00C\\x00\\x00\\x00\\x0e\\x00\\x0c\\x00\\x00\\t127.0.0.1\\x00\", b'\\x04\\x03\\x00\\x01\\x02\\x00\\n\\x00\\x1c\\x00']\n",
      "Bad pipe message: %s [b'\\x17\\x00\\x03\\xc0\\x10']\n",
      "Bad pipe message: %s [b'\\x17\\x00\\x19\\x00\\x1c\\x00\\x1b\\x00\\x18\\x00\\x1a\\x00\\x16\\x00\\x0e\\x00\\r\\x00\\x0b\\x00\\x0c\\x00\\t\\x00\\n']\n",
      "Bad pipe message: %s [b'\\xa6l\\x92~K4q\\x10\\xdfw\\x8a\\x8c\\xc0@\\xa3\\x802\\xa9\\x00\\x00\\xa2\\xc0\\x14\\xc0\\n\\x009\\x008\\x007\\x006\\x00\\x88\\x00\\x87\\x00\\x86\\x00\\x85\\xc0\\x19\\x00:\\x00\\x89\\xc0\\x0f\\xc0\\x05\\x005\\x00\\x84\\xc0\\x13\\xc0\\t\\x003\\x002\\x001\\x000\\x00\\x9a\\x00\\x99\\x00\\x98\\x00\\x97\\x00E\\x00D\\x00C\\x00B\\xc0\\x18\\x004\\x00\\x9b\\x00F\\xc0\\x0e\\xc0\\x04\\x00/\\x00\\x96\\x00A\\x00\\x07\\xc0\\x11\\xc0\\x07\\xc0\\x16\\x00\\x18\\xc0\\x0c\\xc0\\x02\\x00\\x05\\x00\\x04\\xc0\\x12\\xc0\\x08\\x00\\x16\\x00\\x13\\x00\\x10\\x00\\r\\xc0\\x17\\x00\\x1b\\xc0\\r\\xc0\\x03\\x00\\n\\x00\\x15\\x00\\x12\\x00\\x0f\\x00\\x0c\\x00']\n",
      "Bad pipe message: %s [b'\\t\\x00\\x14\\x00\\x11\\x00\\x19\\x00\\x08\\x00\\x06\\x00\\x17\\x00\\x03\\xc0\\x10\\xc0\\x06\\xc0\\x15\\xc0\\x0b\\xc0\\x01']\n",
      "Bad pipe message: %s [b\"s\\xca/x\\xb9\\x93\\xac,CZ\\x9a\\xb1\\xdc/\\x13\\xe9(\\xe2\\x00\\x00\\x86\\xc00\\xc0,\\xc0(\\xc0$\\xc0\\x14\\xc0\\n\\x00\\xa5\\x00\\xa3\\x00\\xa1\\x00\\x9f\\x00k\\x00j\\x00i\\x00h\\x009\\x008\\x007\\x006\\xc02\\xc0.\\xc0*\\xc0&\\xc0\\x0f\\xc0\\x05\\x00\\x9d\\x00=\\x005\\xc0/\\xc0+\\xc0'\\xc0#\\xc0\\x13\\xc0\\t\\x00\\xa4\\x00\\xa2\\x00\\xa0\\x00\\x9e\\x00g\\x00@\\x00?\\x00>\\x003\\x002\\x001\\x000\\xc01\\xc0-\\xc0)\\xc0%\\xc0\\x0e\\xc0\\x04\\x00\\x9c\\x00<\\x00/\\x00\\x9a\\x00\\x99\\x00\\x98\\x00\\x97\\x00\\x96\\x00\\x07\\xc0\\x11\\xc0\\x07\\xc0\\x0c\\xc0\\x02\\x00\\x05\\x00\\x04\\x00\\xff\\x02\\x01\\x00\\x00g\\x00\\x00\\x00\\x0e\\x00\\x0c\\x00\\x00\\t127.0.0.1\\x00\\x0b\\x00\\x04\\x03\\x00\\x01\\x02\\x00\\n\\x00\\x1c\\x00\\x1a\\x00\\x17\\x00\\x19\\x00\\x1c\\x00\\x1b\\x00\\x18\\x00\\x1a\\x00\\x16\\x00\\x0e\\x00\\r\\x00\\x0b\\x00\\x0c\\x00\\t\\x00\\n\\x00#\\x00\\x00\\x00\\r\\x00 \\x00\\x1e\\x06\\x01\\x06\\x02\\x06\\x03\\x05\\x01\\x05\\x02\\x05\", b'\\x01\\x04']\n",
      "Bad pipe message: %s [b'`<\\xfb\\xbb\\x16\\xff2,4\\xe1`\\xe7\\xa6\\xaa\\xda(\"|\\x00\\x00\\xf4\\xc00\\xc0,\\xc0(\\xc0$\\xc0\\x14\\xc0\\n\\x00\\xa5\\x00\\xa3\\x00\\xa1\\x00\\x9f\\x00k\\x00j\\x00i\\x00h\\x009\\x008\\x007\\x006\\x00\\x88\\x00\\x87\\x00\\x86\\x00']\n",
      "Bad pipe message: %s [b\"\\x19\\x00\\xa7\\x00m\\x00:\\x00\\x89\\xc02\\xc0.\\xc0*\\xc0&\\xc0\\x0f\\xc0\\x05\\x00\\x9d\\x00=\\x005\\x00\\x84\\xc0/\\xc0+\\xc0'\\xc0#\\xc0\\x13\\xc0\\t\\x00\\xa4\\x00\\xa2\\x00\\xa0\\x00\\x9e\\x00g\\x00@\\x00?\\x00>\\x003\\x002\\x001\\x000\\x00\\x9a\\x00\\x99\\x00\\x98\\x00\\x97\\x00E\\x00D\\x00C\\x00B\\xc0\\x18\\x00\\xa6\\x00l\\x004\\x00\\x9b\\x00F\\xc01\\xc0-\\xc0)\\xc0%\\xc0\\x0e\\xc0\\x04\\x00\\x9c\\x00<\\x00/\\x00\\x96\\x00A\\x00\\x07\\xc0\\x11\\xc0\\x07\\xc0\\x16\\x00\\x18\\xc0\\x0c\\xc0\\x02\\x00\\x05\\x00\"]\n",
      "Bad pipe message: %s [b'\\x03']\n",
      "Bad pipe message: %s [b'\\x12\\xc0\\x08']\n",
      "Bad pipe message: %s [b'\\x03\\x02', b'\\x02\\x01', b'\\x02']\n",
      "Bad pipe message: %s [b'\\x0f\\x00']\n"
     ]
    }
   ],
   "source": [
    "# 귀무가설 기각\n",
    "# 즉, 생상라인과 결함유형은 통계적으로 관련성이 있다. \n",
    "chi2, p_value, dof, expected = sps.chi2_contingency( table )\n",
    "print(chi2, p_value)"
   ]
  },
  {
   "attachments": {},
   "cell_type": "markdown",
   "metadata": {},
   "source": [
    "## 동질성 검정\n",
    "- 가설 예시\n",
    "  - 귀무가설(H0): 각 생산라인별 결함유형의 비율은 같다(동질적이다.)\n",
    "  - 대립가설(H1): 각 생산라인별 결함유형의 비율은 같지 않다.(동질적이지 않다. )\n",
    "- 절차는 독립성 검정과 동일"
   ]
  },
  {
   "attachments": {},
   "cell_type": "markdown",
   "metadata": {},
   "source": [
    "# 비모수 검정\n",
    "- 검정하고자 하는 모집단의 분포에 대한 가정을 할 수 없을 때사용\n",
    "- 명목, 서열, 구간, 비율 등 어떠한 척도에 대해서도 사용이 가능 \n",
    "  - 단, 정확도는 모수적 검정에 비하면 낮다.\n",
    "\n",
    "| 구분 | 모수적 검정 | 비모수적 검정 |\n",
    "|:---|:---|:---|\n",
    "| 독립적 | 독립표본 T-검정 | Mann-Whitney U 검정 |\n",
    "| 비독립적 | 대응 표본 T-검정 | Wilcoxon Singned-Ranked 검정 |\n",
    "| 세 집단 이상 | One-Way Anova | Kruskal-Wallis H 검정 |\n",
    "| 비독립적, 세 집단 이상 | AnovaRM | Friedman 검정 |"
   ]
  },
  {
   "attachments": {},
   "cell_type": "markdown",
   "metadata": {},
   "source": [
    "## Mann-Whitney U 검정\n",
    "- Wilcoxon rank-sum(순위합) 검정으로 불리기도 한다.\n",
    "- 두 독립인 모집단의 분포를 비교하는 검정, 독립표본 T-검정의 비모수 버전\n",
    "- 두 집단 각각의 값들의 순위합을 구하고, 그것의 차이가 통계적으로 유의한지 확인\n",
    "  - 두 집단의 평균과 표준편차는 상관없기 때문에 정규분포를 따르지않아도 검정이 가능\n",
    "  - 순위만 비교하기 때문에 두 그룹의 크기의 차이는 언급할 수 없다.\n",
    "\n",
    "- 가설 예시\n",
    "  - 귀무가설(H0): 두 모집단의 분포가 동일하다.\n",
    "  - 대립가설(H1): 두 모집단의 분포가 동일하지 않다."
   ]
  },
  {
   "cell_type": "code",
   "execution_count": 15,
   "metadata": {},
   "outputs": [
    {
     "data": {
      "text/plain": [
       "MannwhitneyuResult(statistic=18.5, pvalue=0.38724665305627315)"
      ]
     },
     "execution_count": 15,
     "metadata": {},
     "output_type": "execute_result"
    }
   ],
   "source": [
    "# 귀무가설 채택\n",
    "# 두 모집단의 분포는 동일하다.\n",
    "x = [170, 60, 45, 90, 95, 80, 85 ]\n",
    "y = [100, 95, 55, 65, 75, 75 ]\n",
    "sps.mannwhitneyu(x, y)"
   ]
  },
  {
   "attachments": {},
   "cell_type": "markdown",
   "metadata": {},
   "source": [
    "## Wilcoxon 부호-순위 검정\n",
    "- 두 짝을 이룬 모집단의 분포를 비교하는 검정으로 대응표본-T 검정의 비모수 버전\n",
    "- 가설 예시\n",
    "  - 귀무가설(H0): 두 짝을 이룬 표본은 동일한 모집단에서 나온 것이다.\n",
    "  - 대립가설(H1): 두 짝을 이룬 표본은 동일한 모집단에서 나온 것이 아니다."
   ]
  },
  {
   "cell_type": "code",
   "execution_count": 17,
   "metadata": {},
   "outputs": [
    {
     "data": {
      "text/plain": [
       "WilcoxonResult(statistic=18.0, pvalue=0.65234375)"
      ]
     },
     "execution_count": 17,
     "metadata": {},
     "output_type": "execute_result"
    }
   ],
   "source": [
    "# 사전과 사후가 함께 있으니 두 집단이지만\n",
    "# 사전 - 사후 이니 결국엔 한 집단\n",
    "# 결국 d(difference)만 본다면 일표본 검정과 같아진다.\n",
    "\n",
    "# 귀무가설 채택\n",
    "# 두 표본은 동일한 모집단에서 나온 것\n",
    "d = [ 1.5, 1.5, -3, -4, -5, -6, 7, 8, 9 ]\n",
    "sps.wilcoxon(d)"
   ]
  },
  {
   "attachments": {},
   "cell_type": "markdown",
   "metadata": {},
   "source": [
    "## Kruskal - Wallis H 검정\n",
    "- 분산분석에 대응하는 비모수적 검정 방법\n",
    "  - 그룹의 순위차가 통계적으로 유의한지 검정\n",
    "  - 모든 자료를 한데 모아 크기순으로 정렬한 다음 가장 작은 값부터 순위를 매겨 그룹별 순위를 구한다.\n",
    "  - 이 순위합이 통계적으로 유의한 차이가 있는지 검정\n",
    "\n",
    "- 가설 예시\n",
    "  - 위의 두 가설의 예시와 동일"
   ]
  },
  {
   "cell_type": "code",
   "execution_count": 18,
   "metadata": {},
   "outputs": [],
   "source": [
    "from sklearn.datasets import load_iris"
   ]
  },
  {
   "cell_type": "code",
   "execution_count": 42,
   "metadata": {},
   "outputs": [
    {
     "data": {
      "text/html": [
       "<div>\n",
       "<style scoped>\n",
       "    .dataframe tbody tr th:only-of-type {\n",
       "        vertical-align: middle;\n",
       "    }\n",
       "\n",
       "    .dataframe tbody tr th {\n",
       "        vertical-align: top;\n",
       "    }\n",
       "\n",
       "    .dataframe thead th {\n",
       "        text-align: right;\n",
       "    }\n",
       "</style>\n",
       "<table border=\"1\" class=\"dataframe\">\n",
       "  <thead>\n",
       "    <tr style=\"text-align: right;\">\n",
       "      <th></th>\n",
       "      <th>sepal length (cm)</th>\n",
       "      <th>sepal width (cm)</th>\n",
       "      <th>petal length (cm)</th>\n",
       "      <th>petal width (cm)</th>\n",
       "      <th>target</th>\n",
       "    </tr>\n",
       "  </thead>\n",
       "  <tbody>\n",
       "    <tr>\n",
       "      <td>0</td>\n",
       "      <td>5.1</td>\n",
       "      <td>3.5</td>\n",
       "      <td>1.4</td>\n",
       "      <td>0.2</td>\n",
       "      <td>0</td>\n",
       "    </tr>\n",
       "    <tr>\n",
       "      <td>1</td>\n",
       "      <td>4.9</td>\n",
       "      <td>3.0</td>\n",
       "      <td>1.4</td>\n",
       "      <td>0.2</td>\n",
       "      <td>0</td>\n",
       "    </tr>\n",
       "    <tr>\n",
       "      <td>2</td>\n",
       "      <td>4.7</td>\n",
       "      <td>3.2</td>\n",
       "      <td>1.3</td>\n",
       "      <td>0.2</td>\n",
       "      <td>0</td>\n",
       "    </tr>\n",
       "    <tr>\n",
       "      <td>3</td>\n",
       "      <td>4.6</td>\n",
       "      <td>3.1</td>\n",
       "      <td>1.5</td>\n",
       "      <td>0.2</td>\n",
       "      <td>0</td>\n",
       "    </tr>\n",
       "    <tr>\n",
       "      <td>4</td>\n",
       "      <td>5.0</td>\n",
       "      <td>3.6</td>\n",
       "      <td>1.4</td>\n",
       "      <td>0.2</td>\n",
       "      <td>0</td>\n",
       "    </tr>\n",
       "    <tr>\n",
       "      <td>...</td>\n",
       "      <td>...</td>\n",
       "      <td>...</td>\n",
       "      <td>...</td>\n",
       "      <td>...</td>\n",
       "      <td>...</td>\n",
       "    </tr>\n",
       "    <tr>\n",
       "      <td>145</td>\n",
       "      <td>6.7</td>\n",
       "      <td>3.0</td>\n",
       "      <td>5.2</td>\n",
       "      <td>2.3</td>\n",
       "      <td>2</td>\n",
       "    </tr>\n",
       "    <tr>\n",
       "      <td>146</td>\n",
       "      <td>6.3</td>\n",
       "      <td>2.5</td>\n",
       "      <td>5.0</td>\n",
       "      <td>1.9</td>\n",
       "      <td>2</td>\n",
       "    </tr>\n",
       "    <tr>\n",
       "      <td>147</td>\n",
       "      <td>6.5</td>\n",
       "      <td>3.0</td>\n",
       "      <td>5.2</td>\n",
       "      <td>2.0</td>\n",
       "      <td>2</td>\n",
       "    </tr>\n",
       "    <tr>\n",
       "      <td>148</td>\n",
       "      <td>6.2</td>\n",
       "      <td>3.4</td>\n",
       "      <td>5.4</td>\n",
       "      <td>2.3</td>\n",
       "      <td>2</td>\n",
       "    </tr>\n",
       "    <tr>\n",
       "      <td>149</td>\n",
       "      <td>5.9</td>\n",
       "      <td>3.0</td>\n",
       "      <td>5.1</td>\n",
       "      <td>1.8</td>\n",
       "      <td>2</td>\n",
       "    </tr>\n",
       "  </tbody>\n",
       "</table>\n",
       "<p>150 rows × 5 columns</p>\n",
       "</div>"
      ],
      "text/plain": [
       "     sepal length (cm)  sepal width (cm)  petal length (cm)  petal width (cm)  \\\n",
       "0                  5.1               3.5                1.4               0.2   \n",
       "1                  4.9               3.0                1.4               0.2   \n",
       "2                  4.7               3.2                1.3               0.2   \n",
       "3                  4.6               3.1                1.5               0.2   \n",
       "4                  5.0               3.6                1.4               0.2   \n",
       "..                 ...               ...                ...               ...   \n",
       "145                6.7               3.0                5.2               2.3   \n",
       "146                6.3               2.5                5.0               1.9   \n",
       "147                6.5               3.0                5.2               2.0   \n",
       "148                6.2               3.4                5.4               2.3   \n",
       "149                5.9               3.0                5.1               1.8   \n",
       "\n",
       "     target  \n",
       "0         0  \n",
       "1         0  \n",
       "2         0  \n",
       "3         0  \n",
       "4         0  \n",
       "..      ...  \n",
       "145       2  \n",
       "146       2  \n",
       "147       2  \n",
       "148       2  \n",
       "149       2  \n",
       "\n",
       "[150 rows x 5 columns]"
      ]
     },
     "execution_count": 42,
     "metadata": {},
     "output_type": "execute_result"
    }
   ],
   "source": [
    "rawData = load_iris()\n",
    "iris = pd.DataFrame( rawData['data'], columns=rawData['feature_names'] )\n",
    "iris['target'] = rawData['target']\n",
    "iris"
   ]
  },
  {
   "cell_type": "code",
   "execution_count": 48,
   "metadata": {},
   "outputs": [
    {
     "data": {
      "text/plain": [
       "KruskalResult(statistic=130.41104857977163, pvalue=4.803973591157605e-29)"
      ]
     },
     "execution_count": 48,
     "metadata": {},
     "output_type": "execute_result"
    }
   ],
   "source": [
    "# 귀무가설 기각\n",
    "# 품종에 따라서 꽃잎의 길이가 통계적으로 유의미한 차이가 있다.\n",
    "\n",
    "sps.kruskal(\n",
    "  iris.loc[ iris.target == 0, 'petal length (cm)'],\n",
    "  iris.loc[ iris.target == 1, 'petal length (cm)'],\n",
    "  iris.loc[ iris.target == 2, 'petal length (cm)']\n",
    ")"
   ]
  },
  {
   "attachments": {},
   "cell_type": "markdown",
   "metadata": {},
   "source": [
    "## Friedman 검정\n",
    "- 반복측정 분산분석에 대응한 비모수적 검정 방법\n",
    "  - 그룹의 순위합으로 차이가 통계적으로 유의미한지 검정\n",
    "  - 비독립적 검정 방법으로, 같은 그룹의 세 번 이상의 기간 동안의 변화를 비교하는데 유용"
   ]
  },
  {
   "cell_type": "code",
   "execution_count": 54,
   "metadata": {},
   "outputs": [
    {
     "data": {
      "text/plain": [
       "FriedmanchisquareResult(statistic=7.695999999999913, pvalue=0.02132233849911491)"
      ]
     },
     "execution_count": 54,
     "metadata": {},
     "output_type": "execute_result"
    }
   ],
   "source": [
    "# 평균과 분산이 동일한 모집단으로 부터\n",
    "# 분산만 변화를 준 경우\n",
    "\n",
    "# 귀무가설 기각, 대립가설 채택\n",
    "# 각 표본별 분포의 차이가 있다.\n",
    "rvs1 = sps.norm.rvs(loc=5, scale=10, size=500 )\n",
    "rvs2 = (\n",
    "\tsps.norm.rvs(loc=5, scale=10, size=500 ) + \n",
    "\tsps.norm.rvs(scale=0.2, size=500 )\n",
    ")\n",
    "rvs3 = (\n",
    "\tsps.norm.rvs(loc=5, scale=10, size=500 ) + \n",
    "\tsps.norm.rvs(scale=0.8, size=500 )\n",
    ")\n",
    "\n",
    "sps.friedmanchisquare( rvs1, rvs2, rvs3 )"
   ]
  },
  {
   "attachments": {},
   "cell_type": "markdown",
   "metadata": {},
   "source": [
    "# 등분산 검정\n",
    "- bartlett, levene 등"
   ]
  },
  {
   "attachments": {},
   "cell_type": "markdown",
   "metadata": {},
   "source": [
    "## bartlett\n",
    "- 함수 원형\n",
    "```\n",
    "scipy.stats.bartlett(*samples)\n",
    "```"
   ]
  },
  {
   "cell_type": "code",
   "execution_count": 21,
   "metadata": {},
   "outputs": [],
   "source": [
    "a = [8.88, 9.12, 9.04, 8.98, 9.00, 9.08, 9.01, 8.85, 9.06, 8.99]\n",
    "b = [8.88, 8.95, 9.29, 9.44, 9.15, 9.58, 8.36, 9.18, 8.67, 9.05]\n",
    "c = [8.95, 9.12, 8.95, 8.85, 9.03, 8.84, 9.07, 8.98, 8.86, 8.98]"
   ]
  },
  {
   "cell_type": "code",
   "execution_count": 26,
   "metadata": {},
   "outputs": [
    {
     "data": {
      "image/png": "[encoded data removed]",
      "text/plain": [
       "<Figure size 640x480 with 1 Axes>"
      ]
     },
     "metadata": {},
     "output_type": "display_data"
    }
   ],
   "source": [
    "sns.distplot( a )\n",
    "sns.distplot( b )\n",
    "sns.distplot( c )\n",
    "plt.show()"
   ]
  },
  {
   "cell_type": "code",
   "execution_count": 22,
   "metadata": {},
   "outputs": [
    {
     "data": {
      "text/plain": [
       "BartlettResult(statistic=22.789434813726768, pvalue=1.1254782518834628e-05)"
      ]
     },
     "execution_count": 22,
     "metadata": {},
     "output_type": "execute_result"
    }
   ],
   "source": [
    "sp.bartlett( a, b, c )"
   ]
  },
  {
   "attachments": {},
   "cell_type": "markdown",
   "metadata": {},
   "source": [
    "# 정규성 검정\n",
    "- shapiro-wilk, kolmogorov-smirnov, jarque-bera"
   ]
  },
  {
   "attachments": {},
   "cell_type": "markdown",
   "metadata": {},
   "source": [
    "## shapiro-wilk\n",
    "- 함수원형\n",
    "```\n",
    "scipy.stats.shapiro(x)[source]\n",
    "```"
   ]
  },
  {
   "cell_type": "code",
   "execution_count": 85,
   "metadata": {},
   "outputs": [],
   "source": [
    "# 5000개 이하의 샘플\n",
    "x = sp.norm.rvs( loc=5, scale=3, size=100 )"
   ]
  },
  {
   "cell_type": "code",
   "execution_count": 86,
   "metadata": {},
   "outputs": [
    {
     "data": {
      "text/plain": [
       "<AxesSubplot:ylabel='Density'>"
      ]
     },
     "execution_count": 86,
     "metadata": {},
     "output_type": "execute_result"
    },
    {
     "data": {
      "image/png": "[encoded data removed]",
      "text/plain": [
       "<Figure size 640x480 with 1 Axes>"
      ]
     },
     "metadata": {},
     "output_type": "display_data"
    }
   ],
   "source": [
    "sns.distplot( x )"
   ]
  },
  {
   "cell_type": "code",
   "execution_count": 87,
   "metadata": {},
   "outputs": [
    {
     "data": {
      "text/plain": [
       "ShapiroResult(statistic=0.9858458638191223, pvalue=0.364793062210083)"
      ]
     },
     "execution_count": 87,
     "metadata": {},
     "output_type": "execute_result"
    }
   ],
   "source": [
    "sp.shapiro(x)"
   ]
  },
  {
   "attachments": {},
   "cell_type": "markdown",
   "metadata": {},
   "source": [
    "## jarque-bera\n",
    "- 함수원형\n",
    "```\n",
    "scipy.stats.jarque_bera(x, *, axis=None, nan_policy='propagate', keepdims=False)\n",
    "```"
   ]
  },
  {
   "cell_type": "code",
   "execution_count": 88,
   "metadata": {},
   "outputs": [
    {
     "data": {
      "text/plain": [
       "Jarque_beraResult(statistic=1.385433062312748, pvalue=0.5002153710731693)"
      ]
     },
     "execution_count": 88,
     "metadata": {},
     "output_type": "execute_result"
    }
   ],
   "source": [
    "# 데이터가 충분히 큰 경우(> 2000)\n",
    "sp.jarque_bera(x)"
   ]
  },
  {
   "attachments": {},
   "cell_type": "markdown",
   "metadata": {},
   "source": [
    "## kolmorov-smirnov\n",
    "- 2 데이터의 분포를 확인할때에도 사용이 가능\n",
    "  - 1개의 데이터를 입력하고, 정규분포를 입력하면 1개의 데이터가 정규분포를 따르는지 확인이 가능\n",
    "  - 2개의 데이터에 대한 검증이 가능하기 때문에 양측, 단측 검정이 가능\n",
    "  - 누적확률분포를 사용하여 분포에 대한 검정 가능\n",
    "- 함수원형\n",
    "```\n",
    "scipy.stats.kstest(rvs, cdf, args=(), N=20, alternative='two-sided', method='auto')\n",
    "```"
   ]
  },
  {
   "cell_type": "code",
   "execution_count": 89,
   "metadata": {},
   "outputs": [
    {
     "data": {
      "text/plain": [
       "KstestResult(statistic=0.8029819487166002, pvalue=4.245063668706878e-70)"
      ]
     },
     "execution_count": 89,
     "metadata": {},
     "output_type": "execute_result"
    }
   ],
   "source": [
    "sp.kstest( x, 'norm' )"
   ]
  },
  {
   "attachments": {},
   "cell_type": "markdown",
   "metadata": {},
   "source": [
    "# 상관 분석"
   ]
  },
  {
   "attachments": {},
   "cell_type": "markdown",
   "metadata": {},
   "source": [
    "## 피어슨 상관계수(scipy.stats.pearsonr)\n",
    "- 연속형의 두 변수들의 상관관계 측정 방식으로 변수가 정규분포를 따른다고 가정할 때 사용\n",
    "- 함수 원형\n",
    "```\n",
    "scipy.stats.pearsonr(x, y, *, alternative='two-sided')\n",
    "```"
   ]
  },
  {
   "cell_type": "code",
   "execution_count": 56,
   "metadata": {},
   "outputs": [
    {
     "name": "stdout",
     "output_type": "stream",
     "text": [
      "-1.0 0.0\n"
     ]
    }
   ],
   "source": [
    "x = [1, 2, 3, 4, 5]\n",
    "y = [9, 8, 7, 6, 5]\n",
    "statistic, pvalue = sps.pearsonr(x, y)\n",
    "print( statistic, pvalue )"
   ]
  },
  {
   "attachments": {},
   "cell_type": "markdown",
   "metadata": {},
   "source": [
    "## 스피어만 상관계수(scipy.stats.spearmanr)\n",
    "- 정규분포를 심하게 벗어나는 두 변수들의 상관관계를 측정\n",
    "  - 순서 자료의 상관관계를 측정하는 경우에도 사용\n",
    "  - 자료의 순위를 이용한 상관계수\n",
    "\n",
    "- 함수원형\n",
    "```\n",
    "scipy.stats.spearmanr(a, b=None, axis=0, nan_policy='propagate', alternative='two-sided')\n",
    "```"
   ]
  },
  {
   "cell_type": "code",
   "execution_count": 57,
   "metadata": {},
   "outputs": [
    {
     "data": {
      "text/plain": [
       "SpearmanrResult(correlation=-0.9999999999999999, pvalue=1.4042654220543672e-24)"
      ]
     },
     "execution_count": 57,
     "metadata": {},
     "output_type": "execute_result"
    }
   ],
   "source": [
    "sps.spearmanr( x, y )"
   ]
  },
  {
   "attachments": {},
   "cell_type": "markdown",
   "metadata": {},
   "source": [
    "## 켄달 순위상관계수(scipy.stats.kendalltau)\n",
    "- 스피어만 상관계수와 목적은 동일하지만, 계산방식이 다름\n",
    "  - 자료의 순위를 이용한 상관계수\n",
    "\n",
    "- 함수원형 \n",
    "```\n",
    "scipy.stats.kendalltau(x, y, initial_lexsort=None, nan_policy='propagate', method='auto', variant='b', alternative='two-sided')\n",
    "```"
   ]
  },
  {
   "cell_type": "code",
   "execution_count": 58,
   "metadata": {},
   "outputs": [
    {
     "data": {
      "text/plain": [
       "KendalltauResult(correlation=-0.9999999999999999, pvalue=0.016666666666666666)"
      ]
     },
     "execution_count": 58,
     "metadata": {},
     "output_type": "execute_result"
    }
   ],
   "source": [
    "sps.kendalltau( x, y )"
   ]
  }
 ],
 "metadata": {
  "kernelspec": {
   "display_name": "exam",
   "language": "python",
   "name": "python3"
  },
  "language_info": {
   "codemirror_mode": {
    "name": "ipython",
    "version": 3
   },
   "file_extension": ".py",
   "mimetype": "text/x-python",
   "name": "python",
   "nbconvert_exporter": "python",
   "pygments_lexer": "ipython3",
   "version": "3.7.4"
  },
  "orig_nbformat": 4,
  "vscode": {
   "interpreter": {
    "hash": "1f017810c1c394a354833b19fdf24d2ab77af603d5933853027f9bd32adeba14"
   }
  }
 },
 "nbformat": 4,
 "nbformat_minor": 2
}
