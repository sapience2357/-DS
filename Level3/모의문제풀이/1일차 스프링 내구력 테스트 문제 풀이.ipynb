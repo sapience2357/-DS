{
 "cells": [
  {
   "cell_type": "code",
   "execution_count": 1,
   "id": "436e49ca",
   "metadata": {},
   "outputs": [],
   "source": [
    "import warnings\n",
    "warnings.filterwarnings('always')\n",
    "warnings.filterwarnings('ignore')\n",
    "\n",
    "import numpy as np\n",
    "import pandas as pd\n",
    "\n",
    "import scipy as sp\n",
    "import scipy.stats as sps\n",
    "\n",
    "import matplotlib.pyplot as plt\n",
    "import seaborn as sns\n",
    "\n",
    "plt.style.use('ggplot')"
   ]
  },
  {
   "cell_type": "code",
   "execution_count": 2,
   "id": "37845bd8",
   "metadata": {},
   "outputs": [
    {
     "data": {
      "text/html": [
       "<div>\n",
       "<style scoped>\n",
       "    .dataframe tbody tr th:only-of-type {\n",
       "        vertical-align: middle;\n",
       "    }\n",
       "\n",
       "    .dataframe tbody tr th {\n",
       "        vertical-align: top;\n",
       "    }\n",
       "\n",
       "    .dataframe thead th {\n",
       "        text-align: right;\n",
       "    }\n",
       "</style>\n",
       "<table border=\"1\" class=\"dataframe\">\n",
       "  <thead>\n",
       "    <tr style=\"text-align: right;\">\n",
       "      <th></th>\n",
       "      <th>id</th>\n",
       "      <th>product_code</th>\n",
       "      <th>loading</th>\n",
       "      <th>attribute_0</th>\n",
       "      <th>attribute_1</th>\n",
       "      <th>attribute_2</th>\n",
       "      <th>attribute_3</th>\n",
       "      <th>measurement_0</th>\n",
       "      <th>measurement_1</th>\n",
       "      <th>measurement_2</th>\n",
       "      <th>...</th>\n",
       "      <th>measurement_9</th>\n",
       "      <th>measurement_10</th>\n",
       "      <th>measurement_11</th>\n",
       "      <th>measurement_12</th>\n",
       "      <th>measurement_13</th>\n",
       "      <th>measurement_14</th>\n",
       "      <th>measurement_15</th>\n",
       "      <th>measurement_16</th>\n",
       "      <th>measurement_17</th>\n",
       "      <th>failure</th>\n",
       "    </tr>\n",
       "  </thead>\n",
       "  <tbody>\n",
       "    <tr>\n",
       "      <td>0</td>\n",
       "      <td>0</td>\n",
       "      <td>A</td>\n",
       "      <td>80.10</td>\n",
       "      <td>material_7</td>\n",
       "      <td>material_8</td>\n",
       "      <td>9</td>\n",
       "      <td>5</td>\n",
       "      <td>7</td>\n",
       "      <td>8</td>\n",
       "      <td>4</td>\n",
       "      <td>...</td>\n",
       "      <td>10.672</td>\n",
       "      <td>15.859</td>\n",
       "      <td>17.594</td>\n",
       "      <td>15.193</td>\n",
       "      <td>15.029</td>\n",
       "      <td>NaN</td>\n",
       "      <td>13.034</td>\n",
       "      <td>14.684</td>\n",
       "      <td>764.100</td>\n",
       "      <td>0</td>\n",
       "    </tr>\n",
       "    <tr>\n",
       "      <td>1</td>\n",
       "      <td>1</td>\n",
       "      <td>A</td>\n",
       "      <td>84.89</td>\n",
       "      <td>material_7</td>\n",
       "      <td>material_8</td>\n",
       "      <td>9</td>\n",
       "      <td>5</td>\n",
       "      <td>14</td>\n",
       "      <td>3</td>\n",
       "      <td>3</td>\n",
       "      <td>...</td>\n",
       "      <td>12.448</td>\n",
       "      <td>17.947</td>\n",
       "      <td>17.915</td>\n",
       "      <td>11.755</td>\n",
       "      <td>14.732</td>\n",
       "      <td>15.425</td>\n",
       "      <td>14.395</td>\n",
       "      <td>15.631</td>\n",
       "      <td>682.057</td>\n",
       "      <td>0</td>\n",
       "    </tr>\n",
       "    <tr>\n",
       "      <td>2</td>\n",
       "      <td>2</td>\n",
       "      <td>A</td>\n",
       "      <td>82.43</td>\n",
       "      <td>material_7</td>\n",
       "      <td>material_8</td>\n",
       "      <td>9</td>\n",
       "      <td>5</td>\n",
       "      <td>12</td>\n",
       "      <td>1</td>\n",
       "      <td>5</td>\n",
       "      <td>...</td>\n",
       "      <td>12.715</td>\n",
       "      <td>15.607</td>\n",
       "      <td>NaN</td>\n",
       "      <td>13.798</td>\n",
       "      <td>16.711</td>\n",
       "      <td>18.631</td>\n",
       "      <td>14.094</td>\n",
       "      <td>17.946</td>\n",
       "      <td>663.376</td>\n",
       "      <td>0</td>\n",
       "    </tr>\n",
       "    <tr>\n",
       "      <td>3</td>\n",
       "      <td>3</td>\n",
       "      <td>A</td>\n",
       "      <td>101.07</td>\n",
       "      <td>material_7</td>\n",
       "      <td>material_8</td>\n",
       "      <td>9</td>\n",
       "      <td>5</td>\n",
       "      <td>13</td>\n",
       "      <td>2</td>\n",
       "      <td>6</td>\n",
       "      <td>...</td>\n",
       "      <td>12.471</td>\n",
       "      <td>16.346</td>\n",
       "      <td>18.377</td>\n",
       "      <td>10.020</td>\n",
       "      <td>15.250</td>\n",
       "      <td>15.562</td>\n",
       "      <td>16.154</td>\n",
       "      <td>17.172</td>\n",
       "      <td>826.282</td>\n",
       "      <td>0</td>\n",
       "    </tr>\n",
       "    <tr>\n",
       "      <td>4</td>\n",
       "      <td>4</td>\n",
       "      <td>A</td>\n",
       "      <td>188.06</td>\n",
       "      <td>material_7</td>\n",
       "      <td>material_8</td>\n",
       "      <td>9</td>\n",
       "      <td>5</td>\n",
       "      <td>9</td>\n",
       "      <td>2</td>\n",
       "      <td>8</td>\n",
       "      <td>...</td>\n",
       "      <td>10.337</td>\n",
       "      <td>17.082</td>\n",
       "      <td>19.932</td>\n",
       "      <td>12.428</td>\n",
       "      <td>16.182</td>\n",
       "      <td>12.760</td>\n",
       "      <td>13.153</td>\n",
       "      <td>16.412</td>\n",
       "      <td>579.885</td>\n",
       "      <td>0</td>\n",
       "    </tr>\n",
       "    <tr>\n",
       "      <td>...</td>\n",
       "      <td>...</td>\n",
       "      <td>...</td>\n",
       "      <td>...</td>\n",
       "      <td>...</td>\n",
       "      <td>...</td>\n",
       "      <td>...</td>\n",
       "      <td>...</td>\n",
       "      <td>...</td>\n",
       "      <td>...</td>\n",
       "      <td>...</td>\n",
       "      <td>...</td>\n",
       "      <td>...</td>\n",
       "      <td>...</td>\n",
       "      <td>...</td>\n",
       "      <td>...</td>\n",
       "      <td>...</td>\n",
       "      <td>...</td>\n",
       "      <td>...</td>\n",
       "      <td>...</td>\n",
       "      <td>...</td>\n",
       "      <td>...</td>\n",
       "    </tr>\n",
       "    <tr>\n",
       "      <td>21453</td>\n",
       "      <td>26565</td>\n",
       "      <td>E</td>\n",
       "      <td>158.95</td>\n",
       "      <td>material_7</td>\n",
       "      <td>material_6</td>\n",
       "      <td>6</td>\n",
       "      <td>9</td>\n",
       "      <td>6</td>\n",
       "      <td>16</td>\n",
       "      <td>4</td>\n",
       "      <td>...</td>\n",
       "      <td>NaN</td>\n",
       "      <td>12.177</td>\n",
       "      <td>17.942</td>\n",
       "      <td>10.112</td>\n",
       "      <td>15.795</td>\n",
       "      <td>18.572</td>\n",
       "      <td>16.144</td>\n",
       "      <td>NaN</td>\n",
       "      <td>729.131</td>\n",
       "      <td>0</td>\n",
       "    </tr>\n",
       "    <tr>\n",
       "      <td>21454</td>\n",
       "      <td>26566</td>\n",
       "      <td>E</td>\n",
       "      <td>146.02</td>\n",
       "      <td>material_7</td>\n",
       "      <td>material_6</td>\n",
       "      <td>6</td>\n",
       "      <td>9</td>\n",
       "      <td>10</td>\n",
       "      <td>12</td>\n",
       "      <td>8</td>\n",
       "      <td>...</td>\n",
       "      <td>11.242</td>\n",
       "      <td>14.179</td>\n",
       "      <td>20.564</td>\n",
       "      <td>10.234</td>\n",
       "      <td>14.450</td>\n",
       "      <td>14.322</td>\n",
       "      <td>13.146</td>\n",
       "      <td>16.471</td>\n",
       "      <td>853.924</td>\n",
       "      <td>0</td>\n",
       "    </tr>\n",
       "    <tr>\n",
       "      <td>21455</td>\n",
       "      <td>26567</td>\n",
       "      <td>E</td>\n",
       "      <td>115.62</td>\n",
       "      <td>material_7</td>\n",
       "      <td>material_6</td>\n",
       "      <td>6</td>\n",
       "      <td>9</td>\n",
       "      <td>1</td>\n",
       "      <td>10</td>\n",
       "      <td>1</td>\n",
       "      <td>...</td>\n",
       "      <td>11.407</td>\n",
       "      <td>16.437</td>\n",
       "      <td>17.476</td>\n",
       "      <td>8.668</td>\n",
       "      <td>15.069</td>\n",
       "      <td>16.599</td>\n",
       "      <td>15.590</td>\n",
       "      <td>14.065</td>\n",
       "      <td>750.364</td>\n",
       "      <td>0</td>\n",
       "    </tr>\n",
       "    <tr>\n",
       "      <td>21456</td>\n",
       "      <td>26568</td>\n",
       "      <td>E</td>\n",
       "      <td>106.38</td>\n",
       "      <td>material_7</td>\n",
       "      <td>material_6</td>\n",
       "      <td>6</td>\n",
       "      <td>9</td>\n",
       "      <td>2</td>\n",
       "      <td>9</td>\n",
       "      <td>4</td>\n",
       "      <td>...</td>\n",
       "      <td>11.392</td>\n",
       "      <td>17.064</td>\n",
       "      <td>17.814</td>\n",
       "      <td>14.928</td>\n",
       "      <td>16.273</td>\n",
       "      <td>15.485</td>\n",
       "      <td>13.624</td>\n",
       "      <td>12.865</td>\n",
       "      <td>730.156</td>\n",
       "      <td>0</td>\n",
       "    </tr>\n",
       "    <tr>\n",
       "      <td>21457</td>\n",
       "      <td>26569</td>\n",
       "      <td>E</td>\n",
       "      <td>131.20</td>\n",
       "      <td>material_7</td>\n",
       "      <td>material_6</td>\n",
       "      <td>6</td>\n",
       "      <td>9</td>\n",
       "      <td>6</td>\n",
       "      <td>19</td>\n",
       "      <td>1</td>\n",
       "      <td>...</td>\n",
       "      <td>10.611</td>\n",
       "      <td>15.603</td>\n",
       "      <td>19.703</td>\n",
       "      <td>11.006</td>\n",
       "      <td>15.875</td>\n",
       "      <td>13.366</td>\n",
       "      <td>16.527</td>\n",
       "      <td>17.890</td>\n",
       "      <td>602.354</td>\n",
       "      <td>0</td>\n",
       "    </tr>\n",
       "  </tbody>\n",
       "</table>\n",
       "<p>21458 rows × 26 columns</p>\n",
       "</div>"
      ],
      "text/plain": [
       "          id product_code  loading attribute_0 attribute_1  attribute_2  \\\n",
       "0          0            A    80.10  material_7  material_8            9   \n",
       "1          1            A    84.89  material_7  material_8            9   \n",
       "2          2            A    82.43  material_7  material_8            9   \n",
       "3          3            A   101.07  material_7  material_8            9   \n",
       "4          4            A   188.06  material_7  material_8            9   \n",
       "...      ...          ...      ...         ...         ...          ...   \n",
       "21453  26565            E   158.95  material_7  material_6            6   \n",
       "21454  26566            E   146.02  material_7  material_6            6   \n",
       "21455  26567            E   115.62  material_7  material_6            6   \n",
       "21456  26568            E   106.38  material_7  material_6            6   \n",
       "21457  26569            E   131.20  material_7  material_6            6   \n",
       "\n",
       "       attribute_3  measurement_0  measurement_1  measurement_2  ...  \\\n",
       "0                5              7              8              4  ...   \n",
       "1                5             14              3              3  ...   \n",
       "2                5             12              1              5  ...   \n",
       "3                5             13              2              6  ...   \n",
       "4                5              9              2              8  ...   \n",
       "...            ...            ...            ...            ...  ...   \n",
       "21453            9              6             16              4  ...   \n",
       "21454            9             10             12              8  ...   \n",
       "21455            9              1             10              1  ...   \n",
       "21456            9              2              9              4  ...   \n",
       "21457            9              6             19              1  ...   \n",
       "\n",
       "       measurement_9  measurement_10  measurement_11  measurement_12  \\\n",
       "0             10.672          15.859          17.594          15.193   \n",
       "1             12.448          17.947          17.915          11.755   \n",
       "2             12.715          15.607             NaN          13.798   \n",
       "3             12.471          16.346          18.377          10.020   \n",
       "4             10.337          17.082          19.932          12.428   \n",
       "...              ...             ...             ...             ...   \n",
       "21453            NaN          12.177          17.942          10.112   \n",
       "21454         11.242          14.179          20.564          10.234   \n",
       "21455         11.407          16.437          17.476           8.668   \n",
       "21456         11.392          17.064          17.814          14.928   \n",
       "21457         10.611          15.603          19.703          11.006   \n",
       "\n",
       "       measurement_13  measurement_14  measurement_15  measurement_16  \\\n",
       "0              15.029             NaN          13.034          14.684   \n",
       "1              14.732          15.425          14.395          15.631   \n",
       "2              16.711          18.631          14.094          17.946   \n",
       "3              15.250          15.562          16.154          17.172   \n",
       "4              16.182          12.760          13.153          16.412   \n",
       "...               ...             ...             ...             ...   \n",
       "21453          15.795          18.572          16.144             NaN   \n",
       "21454          14.450          14.322          13.146          16.471   \n",
       "21455          15.069          16.599          15.590          14.065   \n",
       "21456          16.273          15.485          13.624          12.865   \n",
       "21457          15.875          13.366          16.527          17.890   \n",
       "\n",
       "       measurement_17  failure  \n",
       "0             764.100        0  \n",
       "1             682.057        0  \n",
       "2             663.376        0  \n",
       "3             826.282        0  \n",
       "4             579.885        0  \n",
       "...               ...      ...  \n",
       "21453         729.131        0  \n",
       "21454         853.924        0  \n",
       "21455         750.364        0  \n",
       "21456         730.156        0  \n",
       "21457         602.354        0  \n",
       "\n",
       "[21458 rows x 26 columns]"
      ]
     },
     "execution_count": 2,
     "metadata": {},
     "output_type": "execute_result"
    }
   ],
   "source": [
    "rawData = pd.read_csv('../00. Data/train_prob-1.csv')\n",
    "rawData"
   ]
  },
  {
   "cell_type": "code",
   "execution_count": 3,
   "id": "c70a9329",
   "metadata": {},
   "outputs": [
    {
     "name": "stdout",
     "output_type": "stream",
     "text": [
      "<class 'pandas.core.frame.DataFrame'>\n",
      "RangeIndex: 21458 entries, 0 to 21457\n",
      "Data columns (total 26 columns):\n",
      "id                21458 non-null int64\n",
      "product_code      21458 non-null object\n",
      "loading           21257 non-null float64\n",
      "attribute_0       21458 non-null object\n",
      "attribute_1       21458 non-null object\n",
      "attribute_2       21458 non-null int64\n",
      "attribute_3       21458 non-null int64\n",
      "measurement_0     21458 non-null int64\n",
      "measurement_1     21458 non-null int64\n",
      "measurement_2     21458 non-null int64\n",
      "measurement_3     21146 non-null float64\n",
      "measurement_4     21016 non-null float64\n",
      "measurement_5     20893 non-null float64\n",
      "measurement_6     20818 non-null float64\n",
      "measurement_7     20692 non-null float64\n",
      "measurement_8     20605 non-null float64\n",
      "measurement_9     20469 non-null float64\n",
      "measurement_10    20399 non-null float64\n",
      "measurement_11    20278 non-null float64\n",
      "measurement_12    20171 non-null float64\n",
      "measurement_13    20063 non-null float64\n",
      "measurement_14    19976 non-null float64\n",
      "measurement_15    19855 non-null float64\n",
      "measurement_16    19750 non-null float64\n",
      "measurement_17    19640 non-null float64\n",
      "failure           21458 non-null int64\n",
      "dtypes: float64(16), int64(7), object(3)\n",
      "memory usage: 4.3+ MB\n"
     ]
    }
   ],
   "source": [
    "rawData.info()"
   ]
  },
  {
   "cell_type": "code",
   "execution_count": 4,
   "id": "dc156171",
   "metadata": {},
   "outputs": [
    {
     "data": {
      "text/plain": [
       "<AxesSubplot:>"
      ]
     },
     "execution_count": 4,
     "metadata": {},
     "output_type": "execute_result"
    },
    {
     "data": {
      "image/png": "[encoded data removed]",
      "text/plain": [
       "<Figure size 640x480 with 2 Axes>"
      ]
     },
     "metadata": {},
     "output_type": "display_data"
    }
   ],
   "source": [
    "sns.heatmap( rawData.isna() )"
   ]
  },
  {
   "cell_type": "code",
   "execution_count": 5,
   "id": "4d31fe9a",
   "metadata": {},
   "outputs": [
    {
     "data": {
      "text/html": [
       "<div>\n",
       "<style scoped>\n",
       "    .dataframe tbody tr th:only-of-type {\n",
       "        vertical-align: middle;\n",
       "    }\n",
       "\n",
       "    .dataframe tbody tr th {\n",
       "        vertical-align: top;\n",
       "    }\n",
       "\n",
       "    .dataframe thead th {\n",
       "        text-align: right;\n",
       "    }\n",
       "</style>\n",
       "<table border=\"1\" class=\"dataframe\">\n",
       "  <thead>\n",
       "    <tr style=\"text-align: right;\">\n",
       "      <th></th>\n",
       "      <th>count</th>\n",
       "      <th>mean</th>\n",
       "      <th>std</th>\n",
       "      <th>min</th>\n",
       "      <th>25%</th>\n",
       "      <th>50%</th>\n",
       "      <th>75%</th>\n",
       "      <th>max</th>\n",
       "    </tr>\n",
       "  </thead>\n",
       "  <tbody>\n",
       "    <tr>\n",
       "      <td>id</td>\n",
       "      <td>21458.0</td>\n",
       "      <td>12001.377994</td>\n",
       "      <td>7985.775793</td>\n",
       "      <td>0.000</td>\n",
       "      <td>5364.25000</td>\n",
       "      <td>10728.5000</td>\n",
       "      <td>16092.75000</td>\n",
       "      <td>26569.000</td>\n",
       "    </tr>\n",
       "    <tr>\n",
       "      <td>loading</td>\n",
       "      <td>21257.0</td>\n",
       "      <td>127.680897</td>\n",
       "      <td>38.987953</td>\n",
       "      <td>33.160</td>\n",
       "      <td>100.01000</td>\n",
       "      <td>122.2500</td>\n",
       "      <td>148.77000</td>\n",
       "      <td>385.860</td>\n",
       "    </tr>\n",
       "    <tr>\n",
       "      <td>attribute_2</td>\n",
       "      <td>21458.0</td>\n",
       "      <td>6.933684</td>\n",
       "      <td>1.585791</td>\n",
       "      <td>5.000</td>\n",
       "      <td>5.00000</td>\n",
       "      <td>6.0000</td>\n",
       "      <td>8.00000</td>\n",
       "      <td>9.000</td>\n",
       "    </tr>\n",
       "    <tr>\n",
       "      <td>attribute_3</td>\n",
       "      <td>21458.0</td>\n",
       "      <td>7.535977</td>\n",
       "      <td>1.474057</td>\n",
       "      <td>5.000</td>\n",
       "      <td>8.00000</td>\n",
       "      <td>8.0000</td>\n",
       "      <td>8.00000</td>\n",
       "      <td>9.000</td>\n",
       "    </tr>\n",
       "    <tr>\n",
       "      <td>measurement_0</td>\n",
       "      <td>21458.0</td>\n",
       "      <td>7.311912</td>\n",
       "      <td>4.261533</td>\n",
       "      <td>0.000</td>\n",
       "      <td>4.00000</td>\n",
       "      <td>7.0000</td>\n",
       "      <td>10.00000</td>\n",
       "      <td>29.000</td>\n",
       "    </tr>\n",
       "    <tr>\n",
       "      <td>measurement_1</td>\n",
       "      <td>21458.0</td>\n",
       "      <td>7.861264</td>\n",
       "      <td>4.152362</td>\n",
       "      <td>0.000</td>\n",
       "      <td>5.00000</td>\n",
       "      <td>8.0000</td>\n",
       "      <td>10.00000</td>\n",
       "      <td>28.000</td>\n",
       "    </tr>\n",
       "    <tr>\n",
       "      <td>measurement_2</td>\n",
       "      <td>21458.0</td>\n",
       "      <td>6.016917</td>\n",
       "      <td>3.299464</td>\n",
       "      <td>0.000</td>\n",
       "      <td>4.00000</td>\n",
       "      <td>6.0000</td>\n",
       "      <td>8.00000</td>\n",
       "      <td>24.000</td>\n",
       "    </tr>\n",
       "    <tr>\n",
       "      <td>measurement_3</td>\n",
       "      <td>21146.0</td>\n",
       "      <td>17.795325</td>\n",
       "      <td>1.002861</td>\n",
       "      <td>13.968</td>\n",
       "      <td>17.11825</td>\n",
       "      <td>17.7910</td>\n",
       "      <td>18.47300</td>\n",
       "      <td>21.499</td>\n",
       "    </tr>\n",
       "    <tr>\n",
       "      <td>measurement_4</td>\n",
       "      <td>21016.0</td>\n",
       "      <td>11.736571</td>\n",
       "      <td>0.997623</td>\n",
       "      <td>8.008</td>\n",
       "      <td>11.05400</td>\n",
       "      <td>11.7370</td>\n",
       "      <td>12.41800</td>\n",
       "      <td>16.484</td>\n",
       "    </tr>\n",
       "    <tr>\n",
       "      <td>measurement_5</td>\n",
       "      <td>20893.0</td>\n",
       "      <td>17.130985</td>\n",
       "      <td>0.996501</td>\n",
       "      <td>12.073</td>\n",
       "      <td>16.44700</td>\n",
       "      <td>17.1360</td>\n",
       "      <td>17.80800</td>\n",
       "      <td>21.425</td>\n",
       "    </tr>\n",
       "    <tr>\n",
       "      <td>measurement_6</td>\n",
       "      <td>20818.0</td>\n",
       "      <td>17.507452</td>\n",
       "      <td>0.995234</td>\n",
       "      <td>13.566</td>\n",
       "      <td>16.83600</td>\n",
       "      <td>17.5150</td>\n",
       "      <td>18.18075</td>\n",
       "      <td>21.543</td>\n",
       "    </tr>\n",
       "    <tr>\n",
       "      <td>measurement_7</td>\n",
       "      <td>20692.0</td>\n",
       "      <td>11.718086</td>\n",
       "      <td>0.999211</td>\n",
       "      <td>7.968</td>\n",
       "      <td>11.05075</td>\n",
       "      <td>11.7135</td>\n",
       "      <td>12.39300</td>\n",
       "      <td>15.419</td>\n",
       "    </tr>\n",
       "    <tr>\n",
       "      <td>measurement_8</td>\n",
       "      <td>20605.0</td>\n",
       "      <td>19.022928</td>\n",
       "      <td>1.010219</td>\n",
       "      <td>15.220</td>\n",
       "      <td>18.33600</td>\n",
       "      <td>19.0180</td>\n",
       "      <td>19.70800</td>\n",
       "      <td>23.807</td>\n",
       "    </tr>\n",
       "    <tr>\n",
       "      <td>measurement_9</td>\n",
       "      <td>20469.0</td>\n",
       "      <td>11.430473</td>\n",
       "      <td>0.997290</td>\n",
       "      <td>7.537</td>\n",
       "      <td>10.75700</td>\n",
       "      <td>11.4310</td>\n",
       "      <td>12.10400</td>\n",
       "      <td>15.412</td>\n",
       "    </tr>\n",
       "    <tr>\n",
       "      <td>measurement_10</td>\n",
       "      <td>20399.0</td>\n",
       "      <td>16.033571</td>\n",
       "      <td>1.310508</td>\n",
       "      <td>9.323</td>\n",
       "      <td>15.19500</td>\n",
       "      <td>16.0590</td>\n",
       "      <td>16.89500</td>\n",
       "      <td>22.479</td>\n",
       "    </tr>\n",
       "    <tr>\n",
       "      <td>measurement_11</td>\n",
       "      <td>20278.0</td>\n",
       "      <td>19.192888</td>\n",
       "      <td>1.622360</td>\n",
       "      <td>12.461</td>\n",
       "      <td>18.07225</td>\n",
       "      <td>19.2640</td>\n",
       "      <td>20.33600</td>\n",
       "      <td>25.640</td>\n",
       "    </tr>\n",
       "    <tr>\n",
       "      <td>measurement_12</td>\n",
       "      <td>20171.0</td>\n",
       "      <td>11.733070</td>\n",
       "      <td>1.474817</td>\n",
       "      <td>5.167</td>\n",
       "      <td>10.75400</td>\n",
       "      <td>11.7570</td>\n",
       "      <td>12.72300</td>\n",
       "      <td>17.392</td>\n",
       "    </tr>\n",
       "    <tr>\n",
       "      <td>measurement_13</td>\n",
       "      <td>20063.0</td>\n",
       "      <td>15.665751</td>\n",
       "      <td>1.188068</td>\n",
       "      <td>10.890</td>\n",
       "      <td>14.88500</td>\n",
       "      <td>15.6330</td>\n",
       "      <td>16.40000</td>\n",
       "      <td>22.713</td>\n",
       "    </tr>\n",
       "    <tr>\n",
       "      <td>measurement_14</td>\n",
       "      <td>19976.0</td>\n",
       "      <td>16.033379</td>\n",
       "      <td>1.513745</td>\n",
       "      <td>9.140</td>\n",
       "      <td>15.04400</td>\n",
       "      <td>16.0130</td>\n",
       "      <td>17.05700</td>\n",
       "      <td>22.303</td>\n",
       "    </tr>\n",
       "    <tr>\n",
       "      <td>measurement_15</td>\n",
       "      <td>19855.0</td>\n",
       "      <td>15.050491</td>\n",
       "      <td>1.532690</td>\n",
       "      <td>9.158</td>\n",
       "      <td>14.02600</td>\n",
       "      <td>15.0330</td>\n",
       "      <td>16.05750</td>\n",
       "      <td>21.626</td>\n",
       "    </tr>\n",
       "    <tr>\n",
       "      <td>measurement_16</td>\n",
       "      <td>19750.0</td>\n",
       "      <td>16.396950</td>\n",
       "      <td>1.740309</td>\n",
       "      <td>9.701</td>\n",
       "      <td>15.18600</td>\n",
       "      <td>16.3165</td>\n",
       "      <td>17.58200</td>\n",
       "      <td>24.094</td>\n",
       "    </tr>\n",
       "    <tr>\n",
       "      <td>measurement_17</td>\n",
       "      <td>19640.0</td>\n",
       "      <td>701.530765</td>\n",
       "      <td>119.519590</td>\n",
       "      <td>231.396</td>\n",
       "      <td>622.17150</td>\n",
       "      <td>700.7625</td>\n",
       "      <td>781.46175</td>\n",
       "      <td>1312.794</td>\n",
       "    </tr>\n",
       "    <tr>\n",
       "      <td>failure</td>\n",
       "      <td>21458.0</td>\n",
       "      <td>0.211436</td>\n",
       "      <td>0.408337</td>\n",
       "      <td>0.000</td>\n",
       "      <td>0.00000</td>\n",
       "      <td>0.0000</td>\n",
       "      <td>0.00000</td>\n",
       "      <td>1.000</td>\n",
       "    </tr>\n",
       "  </tbody>\n",
       "</table>\n",
       "</div>"
      ],
      "text/plain": [
       "                  count          mean          std      min         25%  \\\n",
       "id              21458.0  12001.377994  7985.775793    0.000  5364.25000   \n",
       "loading         21257.0    127.680897    38.987953   33.160   100.01000   \n",
       "attribute_2     21458.0      6.933684     1.585791    5.000     5.00000   \n",
       "attribute_3     21458.0      7.535977     1.474057    5.000     8.00000   \n",
       "measurement_0   21458.0      7.311912     4.261533    0.000     4.00000   \n",
       "measurement_1   21458.0      7.861264     4.152362    0.000     5.00000   \n",
       "measurement_2   21458.0      6.016917     3.299464    0.000     4.00000   \n",
       "measurement_3   21146.0     17.795325     1.002861   13.968    17.11825   \n",
       "measurement_4   21016.0     11.736571     0.997623    8.008    11.05400   \n",
       "measurement_5   20893.0     17.130985     0.996501   12.073    16.44700   \n",
       "measurement_6   20818.0     17.507452     0.995234   13.566    16.83600   \n",
       "measurement_7   20692.0     11.718086     0.999211    7.968    11.05075   \n",
       "measurement_8   20605.0     19.022928     1.010219   15.220    18.33600   \n",
       "measurement_9   20469.0     11.430473     0.997290    7.537    10.75700   \n",
       "measurement_10  20399.0     16.033571     1.310508    9.323    15.19500   \n",
       "measurement_11  20278.0     19.192888     1.622360   12.461    18.07225   \n",
       "measurement_12  20171.0     11.733070     1.474817    5.167    10.75400   \n",
       "measurement_13  20063.0     15.665751     1.188068   10.890    14.88500   \n",
       "measurement_14  19976.0     16.033379     1.513745    9.140    15.04400   \n",
       "measurement_15  19855.0     15.050491     1.532690    9.158    14.02600   \n",
       "measurement_16  19750.0     16.396950     1.740309    9.701    15.18600   \n",
       "measurement_17  19640.0    701.530765   119.519590  231.396   622.17150   \n",
       "failure         21458.0      0.211436     0.408337    0.000     0.00000   \n",
       "\n",
       "                       50%          75%        max  \n",
       "id              10728.5000  16092.75000  26569.000  \n",
       "loading           122.2500    148.77000    385.860  \n",
       "attribute_2         6.0000      8.00000      9.000  \n",
       "attribute_3         8.0000      8.00000      9.000  \n",
       "measurement_0       7.0000     10.00000     29.000  \n",
       "measurement_1       8.0000     10.00000     28.000  \n",
       "measurement_2       6.0000      8.00000     24.000  \n",
       "measurement_3      17.7910     18.47300     21.499  \n",
       "measurement_4      11.7370     12.41800     16.484  \n",
       "measurement_5      17.1360     17.80800     21.425  \n",
       "measurement_6      17.5150     18.18075     21.543  \n",
       "measurement_7      11.7135     12.39300     15.419  \n",
       "measurement_8      19.0180     19.70800     23.807  \n",
       "measurement_9      11.4310     12.10400     15.412  \n",
       "measurement_10     16.0590     16.89500     22.479  \n",
       "measurement_11     19.2640     20.33600     25.640  \n",
       "measurement_12     11.7570     12.72300     17.392  \n",
       "measurement_13     15.6330     16.40000     22.713  \n",
       "measurement_14     16.0130     17.05700     22.303  \n",
       "measurement_15     15.0330     16.05750     21.626  \n",
       "measurement_16     16.3165     17.58200     24.094  \n",
       "measurement_17    700.7625    781.46175   1312.794  \n",
       "failure             0.0000      0.00000      1.000  "
      ]
     },
     "execution_count": 5,
     "metadata": {},
     "output_type": "execute_result"
    }
   ],
   "source": [
    "rawData.describe().T"
   ]
  },
  {
   "cell_type": "markdown",
   "id": "31e67307",
   "metadata": {},
   "source": [
    "# 전처리"
   ]
  },
  {
   "cell_type": "markdown",
   "id": "673c1f73",
   "metadata": {},
   "source": [
    "## 단계 1"
   ]
  },
  {
   "cell_type": "code",
   "execution_count": 6,
   "id": "41f4c0cd",
   "metadata": {},
   "outputs": [],
   "source": [
    "# 얕은 복사 Vs. 깊은 복사\n",
    "# 필터링 하는 경우에는 얕은 복사가 됩니다.\n",
    "org = rawData.copy()"
   ]
  },
  {
   "cell_type": "code",
   "execution_count": 7,
   "id": "8983e507",
   "metadata": {},
   "outputs": [],
   "source": [
    "for i, col in enumerate( org.loc[ :, 'measurement_3':'measurement_17'].columns ):\n",
    "    org[ f'isna_{i+3}' ] = org[col].isna()"
   ]
  },
  {
   "cell_type": "code",
   "execution_count": 8,
   "id": "f7f18cfc",
   "metadata": {},
   "outputs": [
    {
     "data": {
      "text/html": [
       "<div>\n",
       "<style scoped>\n",
       "    .dataframe tbody tr th:only-of-type {\n",
       "        vertical-align: middle;\n",
       "    }\n",
       "\n",
       "    .dataframe tbody tr th {\n",
       "        vertical-align: top;\n",
       "    }\n",
       "\n",
       "    .dataframe thead th {\n",
       "        text-align: right;\n",
       "    }\n",
       "</style>\n",
       "<table border=\"1\" class=\"dataframe\">\n",
       "  <thead>\n",
       "    <tr style=\"text-align: right;\">\n",
       "      <th></th>\n",
       "      <th>id</th>\n",
       "      <th>product_code</th>\n",
       "      <th>loading</th>\n",
       "      <th>attribute_0</th>\n",
       "      <th>attribute_1</th>\n",
       "      <th>attribute_2</th>\n",
       "      <th>attribute_3</th>\n",
       "      <th>measurement_0</th>\n",
       "      <th>measurement_1</th>\n",
       "      <th>measurement_2</th>\n",
       "      <th>...</th>\n",
       "      <th>isna_8</th>\n",
       "      <th>isna_9</th>\n",
       "      <th>isna_10</th>\n",
       "      <th>isna_11</th>\n",
       "      <th>isna_12</th>\n",
       "      <th>isna_13</th>\n",
       "      <th>isna_14</th>\n",
       "      <th>isna_15</th>\n",
       "      <th>isna_16</th>\n",
       "      <th>isna_17</th>\n",
       "    </tr>\n",
       "  </thead>\n",
       "  <tbody>\n",
       "    <tr>\n",
       "      <td>0</td>\n",
       "      <td>0</td>\n",
       "      <td>A</td>\n",
       "      <td>80.10</td>\n",
       "      <td>material_7</td>\n",
       "      <td>material_8</td>\n",
       "      <td>9</td>\n",
       "      <td>5</td>\n",
       "      <td>7</td>\n",
       "      <td>8</td>\n",
       "      <td>4</td>\n",
       "      <td>...</td>\n",
       "      <td>False</td>\n",
       "      <td>False</td>\n",
       "      <td>False</td>\n",
       "      <td>False</td>\n",
       "      <td>False</td>\n",
       "      <td>False</td>\n",
       "      <td>True</td>\n",
       "      <td>False</td>\n",
       "      <td>False</td>\n",
       "      <td>False</td>\n",
       "    </tr>\n",
       "    <tr>\n",
       "      <td>1</td>\n",
       "      <td>1</td>\n",
       "      <td>A</td>\n",
       "      <td>84.89</td>\n",
       "      <td>material_7</td>\n",
       "      <td>material_8</td>\n",
       "      <td>9</td>\n",
       "      <td>5</td>\n",
       "      <td>14</td>\n",
       "      <td>3</td>\n",
       "      <td>3</td>\n",
       "      <td>...</td>\n",
       "      <td>False</td>\n",
       "      <td>False</td>\n",
       "      <td>False</td>\n",
       "      <td>False</td>\n",
       "      <td>False</td>\n",
       "      <td>False</td>\n",
       "      <td>False</td>\n",
       "      <td>False</td>\n",
       "      <td>False</td>\n",
       "      <td>False</td>\n",
       "    </tr>\n",
       "    <tr>\n",
       "      <td>2</td>\n",
       "      <td>2</td>\n",
       "      <td>A</td>\n",
       "      <td>82.43</td>\n",
       "      <td>material_7</td>\n",
       "      <td>material_8</td>\n",
       "      <td>9</td>\n",
       "      <td>5</td>\n",
       "      <td>12</td>\n",
       "      <td>1</td>\n",
       "      <td>5</td>\n",
       "      <td>...</td>\n",
       "      <td>False</td>\n",
       "      <td>False</td>\n",
       "      <td>False</td>\n",
       "      <td>True</td>\n",
       "      <td>False</td>\n",
       "      <td>False</td>\n",
       "      <td>False</td>\n",
       "      <td>False</td>\n",
       "      <td>False</td>\n",
       "      <td>False</td>\n",
       "    </tr>\n",
       "    <tr>\n",
       "      <td>3</td>\n",
       "      <td>3</td>\n",
       "      <td>A</td>\n",
       "      <td>101.07</td>\n",
       "      <td>material_7</td>\n",
       "      <td>material_8</td>\n",
       "      <td>9</td>\n",
       "      <td>5</td>\n",
       "      <td>13</td>\n",
       "      <td>2</td>\n",
       "      <td>6</td>\n",
       "      <td>...</td>\n",
       "      <td>False</td>\n",
       "      <td>False</td>\n",
       "      <td>False</td>\n",
       "      <td>False</td>\n",
       "      <td>False</td>\n",
       "      <td>False</td>\n",
       "      <td>False</td>\n",
       "      <td>False</td>\n",
       "      <td>False</td>\n",
       "      <td>False</td>\n",
       "    </tr>\n",
       "    <tr>\n",
       "      <td>4</td>\n",
       "      <td>4</td>\n",
       "      <td>A</td>\n",
       "      <td>188.06</td>\n",
       "      <td>material_7</td>\n",
       "      <td>material_8</td>\n",
       "      <td>9</td>\n",
       "      <td>5</td>\n",
       "      <td>9</td>\n",
       "      <td>2</td>\n",
       "      <td>8</td>\n",
       "      <td>...</td>\n",
       "      <td>False</td>\n",
       "      <td>False</td>\n",
       "      <td>False</td>\n",
       "      <td>False</td>\n",
       "      <td>False</td>\n",
       "      <td>False</td>\n",
       "      <td>False</td>\n",
       "      <td>False</td>\n",
       "      <td>False</td>\n",
       "      <td>False</td>\n",
       "    </tr>\n",
       "    <tr>\n",
       "      <td>...</td>\n",
       "      <td>...</td>\n",
       "      <td>...</td>\n",
       "      <td>...</td>\n",
       "      <td>...</td>\n",
       "      <td>...</td>\n",
       "      <td>...</td>\n",
       "      <td>...</td>\n",
       "      <td>...</td>\n",
       "      <td>...</td>\n",
       "      <td>...</td>\n",
       "      <td>...</td>\n",
       "      <td>...</td>\n",
       "      <td>...</td>\n",
       "      <td>...</td>\n",
       "      <td>...</td>\n",
       "      <td>...</td>\n",
       "      <td>...</td>\n",
       "      <td>...</td>\n",
       "      <td>...</td>\n",
       "      <td>...</td>\n",
       "      <td>...</td>\n",
       "    </tr>\n",
       "    <tr>\n",
       "      <td>21453</td>\n",
       "      <td>26565</td>\n",
       "      <td>E</td>\n",
       "      <td>158.95</td>\n",
       "      <td>material_7</td>\n",
       "      <td>material_6</td>\n",
       "      <td>6</td>\n",
       "      <td>9</td>\n",
       "      <td>6</td>\n",
       "      <td>16</td>\n",
       "      <td>4</td>\n",
       "      <td>...</td>\n",
       "      <td>False</td>\n",
       "      <td>True</td>\n",
       "      <td>False</td>\n",
       "      <td>False</td>\n",
       "      <td>False</td>\n",
       "      <td>False</td>\n",
       "      <td>False</td>\n",
       "      <td>False</td>\n",
       "      <td>True</td>\n",
       "      <td>False</td>\n",
       "    </tr>\n",
       "    <tr>\n",
       "      <td>21454</td>\n",
       "      <td>26566</td>\n",
       "      <td>E</td>\n",
       "      <td>146.02</td>\n",
       "      <td>material_7</td>\n",
       "      <td>material_6</td>\n",
       "      <td>6</td>\n",
       "      <td>9</td>\n",
       "      <td>10</td>\n",
       "      <td>12</td>\n",
       "      <td>8</td>\n",
       "      <td>...</td>\n",
       "      <td>False</td>\n",
       "      <td>False</td>\n",
       "      <td>False</td>\n",
       "      <td>False</td>\n",
       "      <td>False</td>\n",
       "      <td>False</td>\n",
       "      <td>False</td>\n",
       "      <td>False</td>\n",
       "      <td>False</td>\n",
       "      <td>False</td>\n",
       "    </tr>\n",
       "    <tr>\n",
       "      <td>21455</td>\n",
       "      <td>26567</td>\n",
       "      <td>E</td>\n",
       "      <td>115.62</td>\n",
       "      <td>material_7</td>\n",
       "      <td>material_6</td>\n",
       "      <td>6</td>\n",
       "      <td>9</td>\n",
       "      <td>1</td>\n",
       "      <td>10</td>\n",
       "      <td>1</td>\n",
       "      <td>...</td>\n",
       "      <td>False</td>\n",
       "      <td>False</td>\n",
       "      <td>False</td>\n",
       "      <td>False</td>\n",
       "      <td>False</td>\n",
       "      <td>False</td>\n",
       "      <td>False</td>\n",
       "      <td>False</td>\n",
       "      <td>False</td>\n",
       "      <td>False</td>\n",
       "    </tr>\n",
       "    <tr>\n",
       "      <td>21456</td>\n",
       "      <td>26568</td>\n",
       "      <td>E</td>\n",
       "      <td>106.38</td>\n",
       "      <td>material_7</td>\n",
       "      <td>material_6</td>\n",
       "      <td>6</td>\n",
       "      <td>9</td>\n",
       "      <td>2</td>\n",
       "      <td>9</td>\n",
       "      <td>4</td>\n",
       "      <td>...</td>\n",
       "      <td>False</td>\n",
       "      <td>False</td>\n",
       "      <td>False</td>\n",
       "      <td>False</td>\n",
       "      <td>False</td>\n",
       "      <td>False</td>\n",
       "      <td>False</td>\n",
       "      <td>False</td>\n",
       "      <td>False</td>\n",
       "      <td>False</td>\n",
       "    </tr>\n",
       "    <tr>\n",
       "      <td>21457</td>\n",
       "      <td>26569</td>\n",
       "      <td>E</td>\n",
       "      <td>131.20</td>\n",
       "      <td>material_7</td>\n",
       "      <td>material_6</td>\n",
       "      <td>6</td>\n",
       "      <td>9</td>\n",
       "      <td>6</td>\n",
       "      <td>19</td>\n",
       "      <td>1</td>\n",
       "      <td>...</td>\n",
       "      <td>False</td>\n",
       "      <td>False</td>\n",
       "      <td>False</td>\n",
       "      <td>False</td>\n",
       "      <td>False</td>\n",
       "      <td>False</td>\n",
       "      <td>False</td>\n",
       "      <td>False</td>\n",
       "      <td>False</td>\n",
       "      <td>False</td>\n",
       "    </tr>\n",
       "  </tbody>\n",
       "</table>\n",
       "<p>21458 rows × 41 columns</p>\n",
       "</div>"
      ],
      "text/plain": [
       "          id product_code  loading attribute_0 attribute_1  attribute_2  \\\n",
       "0          0            A    80.10  material_7  material_8            9   \n",
       "1          1            A    84.89  material_7  material_8            9   \n",
       "2          2            A    82.43  material_7  material_8            9   \n",
       "3          3            A   101.07  material_7  material_8            9   \n",
       "4          4            A   188.06  material_7  material_8            9   \n",
       "...      ...          ...      ...         ...         ...          ...   \n",
       "21453  26565            E   158.95  material_7  material_6            6   \n",
       "21454  26566            E   146.02  material_7  material_6            6   \n",
       "21455  26567            E   115.62  material_7  material_6            6   \n",
       "21456  26568            E   106.38  material_7  material_6            6   \n",
       "21457  26569            E   131.20  material_7  material_6            6   \n",
       "\n",
       "       attribute_3  measurement_0  measurement_1  measurement_2  ...  isna_8  \\\n",
       "0                5              7              8              4  ...   False   \n",
       "1                5             14              3              3  ...   False   \n",
       "2                5             12              1              5  ...   False   \n",
       "3                5             13              2              6  ...   False   \n",
       "4                5              9              2              8  ...   False   \n",
       "...            ...            ...            ...            ...  ...     ...   \n",
       "21453            9              6             16              4  ...   False   \n",
       "21454            9             10             12              8  ...   False   \n",
       "21455            9              1             10              1  ...   False   \n",
       "21456            9              2              9              4  ...   False   \n",
       "21457            9              6             19              1  ...   False   \n",
       "\n",
       "       isna_9  isna_10  isna_11  isna_12  isna_13  isna_14  isna_15  isna_16  \\\n",
       "0       False    False    False    False    False     True    False    False   \n",
       "1       False    False    False    False    False    False    False    False   \n",
       "2       False    False     True    False    False    False    False    False   \n",
       "3       False    False    False    False    False    False    False    False   \n",
       "4       False    False    False    False    False    False    False    False   \n",
       "...       ...      ...      ...      ...      ...      ...      ...      ...   \n",
       "21453    True    False    False    False    False    False    False     True   \n",
       "21454   False    False    False    False    False    False    False    False   \n",
       "21455   False    False    False    False    False    False    False    False   \n",
       "21456   False    False    False    False    False    False    False    False   \n",
       "21457   False    False    False    False    False    False    False    False   \n",
       "\n",
       "       isna_17  \n",
       "0        False  \n",
       "1        False  \n",
       "2        False  \n",
       "3        False  \n",
       "4        False  \n",
       "...        ...  \n",
       "21453    False  \n",
       "21454    False  \n",
       "21455    False  \n",
       "21456    False  \n",
       "21457    False  \n",
       "\n",
       "[21458 rows x 41 columns]"
      ]
     },
     "execution_count": 8,
     "metadata": {},
     "output_type": "execute_result"
    }
   ],
   "source": [
    "org"
   ]
  },
  {
   "cell_type": "markdown",
   "id": "c2fb7c22",
   "metadata": {},
   "source": [
    "## 단계 2"
   ]
  },
  {
   "cell_type": "code",
   "execution_count": 9,
   "id": "f7a3b955",
   "metadata": {},
   "outputs": [],
   "source": [
    "from sklearn.experimental import enable_iterative_imputer\n",
    "from sklearn.impute import IterativeImputer\n",
    "from sklearn.linear_model import LinearRegression"
   ]
  },
  {
   "cell_type": "code",
   "execution_count": 10,
   "id": "3d34133b",
   "metadata": {},
   "outputs": [
    {
     "data": {
      "text/plain": [
       "Index(['id', 'product_code', 'loading', 'attribute_0', 'attribute_1',\n",
       "       'attribute_2', 'attribute_3', 'measurement_0', 'measurement_1',\n",
       "       'measurement_2', 'measurement_3', 'measurement_4', 'measurement_5',\n",
       "       'measurement_6', 'measurement_7', 'measurement_8', 'measurement_9',\n",
       "       'measurement_10', 'measurement_11', 'measurement_12', 'measurement_13',\n",
       "       'measurement_14', 'measurement_15', 'measurement_16', 'measurement_17',\n",
       "       'failure', 'isna_3', 'isna_4', 'isna_5', 'isna_6', 'isna_7', 'isna_8',\n",
       "       'isna_9', 'isna_10', 'isna_11', 'isna_12', 'isna_13', 'isna_14',\n",
       "       'isna_15', 'isna_16', 'isna_17'],\n",
       "      dtype='object')"
      ]
     },
     "execution_count": 10,
     "metadata": {},
     "output_type": "execute_result"
    }
   ],
   "source": [
    "org.columns"
   ]
  },
  {
   "cell_type": "code",
   "execution_count": 11,
   "id": "50efa071",
   "metadata": {},
   "outputs": [],
   "source": [
    "cols = [ \n",
    "    'measurement_3', 'measurement_4', 'measurement_5',\n",
    "    'measurement_6', 'measurement_7', 'measurement_8', 'measurement_9', 'measurement_17', \n",
    "]"
   ]
  },
  {
   "cell_type": "code",
   "execution_count": 12,
   "id": "922ae704",
   "metadata": {},
   "outputs": [],
   "source": [
    "imputer = IterativeImputer( LinearRegression(), random_state=123 )\n",
    "\n",
    "for i in org.product_code.unique():\n",
    "    org.loc[ org.product_code == i, cols ] = imputer.fit_transform( org.loc[ org.product_code == i, cols] )"
   ]
  },
  {
   "cell_type": "code",
   "execution_count": 13,
   "id": "baf62c65",
   "metadata": {},
   "outputs": [
    {
     "data": {
      "text/plain": [
       "<AxesSubplot:>"
      ]
     },
     "execution_count": 13,
     "metadata": {},
     "output_type": "execute_result"
    },
    {
     "data": {
      "image/png": "[encoded data removed]",
      "text/plain": [
       "<Figure size 640x480 with 2 Axes>"
      ]
     },
     "metadata": {},
     "output_type": "display_data"
    }
   ],
   "source": [
    "sns.heatmap( org.isna() )"
   ]
  },
  {
   "cell_type": "markdown",
   "id": "cd6d1a8e",
   "metadata": {},
   "source": [
    "## 단계 3"
   ]
  },
  {
   "cell_type": "code",
   "execution_count": 14,
   "id": "1db4ec68",
   "metadata": {},
   "outputs": [
    {
     "data": {
      "text/html": [
       "<div>\n",
       "<style scoped>\n",
       "    .dataframe tbody tr th:only-of-type {\n",
       "        vertical-align: middle;\n",
       "    }\n",
       "\n",
       "    .dataframe tbody tr th {\n",
       "        vertical-align: top;\n",
       "    }\n",
       "\n",
       "    .dataframe thead th {\n",
       "        text-align: right;\n",
       "    }\n",
       "</style>\n",
       "<table border=\"1\" class=\"dataframe\">\n",
       "  <thead>\n",
       "    <tr style=\"text-align: right;\">\n",
       "      <th></th>\n",
       "      <th>id</th>\n",
       "      <th>product_code</th>\n",
       "      <th>loading</th>\n",
       "      <th>attribute_0</th>\n",
       "      <th>attribute_1</th>\n",
       "      <th>attribute_2</th>\n",
       "      <th>attribute_3</th>\n",
       "      <th>measurement_0</th>\n",
       "      <th>measurement_1</th>\n",
       "      <th>measurement_2</th>\n",
       "      <th>...</th>\n",
       "      <th>isna_8</th>\n",
       "      <th>isna_9</th>\n",
       "      <th>isna_10</th>\n",
       "      <th>isna_11</th>\n",
       "      <th>isna_12</th>\n",
       "      <th>isna_13</th>\n",
       "      <th>isna_14</th>\n",
       "      <th>isna_15</th>\n",
       "      <th>isna_16</th>\n",
       "      <th>isna_17</th>\n",
       "    </tr>\n",
       "  </thead>\n",
       "  <tbody>\n",
       "    <tr>\n",
       "      <td>0</td>\n",
       "      <td>0</td>\n",
       "      <td>A</td>\n",
       "      <td>80.10</td>\n",
       "      <td>material_7</td>\n",
       "      <td>material_8</td>\n",
       "      <td>9</td>\n",
       "      <td>5</td>\n",
       "      <td>7</td>\n",
       "      <td>8</td>\n",
       "      <td>4</td>\n",
       "      <td>...</td>\n",
       "      <td>False</td>\n",
       "      <td>False</td>\n",
       "      <td>False</td>\n",
       "      <td>False</td>\n",
       "      <td>False</td>\n",
       "      <td>False</td>\n",
       "      <td>True</td>\n",
       "      <td>False</td>\n",
       "      <td>False</td>\n",
       "      <td>False</td>\n",
       "    </tr>\n",
       "    <tr>\n",
       "      <td>1</td>\n",
       "      <td>1</td>\n",
       "      <td>A</td>\n",
       "      <td>84.89</td>\n",
       "      <td>material_7</td>\n",
       "      <td>material_8</td>\n",
       "      <td>9</td>\n",
       "      <td>5</td>\n",
       "      <td>14</td>\n",
       "      <td>3</td>\n",
       "      <td>3</td>\n",
       "      <td>...</td>\n",
       "      <td>False</td>\n",
       "      <td>False</td>\n",
       "      <td>False</td>\n",
       "      <td>False</td>\n",
       "      <td>False</td>\n",
       "      <td>False</td>\n",
       "      <td>False</td>\n",
       "      <td>False</td>\n",
       "      <td>False</td>\n",
       "      <td>False</td>\n",
       "    </tr>\n",
       "    <tr>\n",
       "      <td>2</td>\n",
       "      <td>2</td>\n",
       "      <td>A</td>\n",
       "      <td>82.43</td>\n",
       "      <td>material_7</td>\n",
       "      <td>material_8</td>\n",
       "      <td>9</td>\n",
       "      <td>5</td>\n",
       "      <td>12</td>\n",
       "      <td>1</td>\n",
       "      <td>5</td>\n",
       "      <td>...</td>\n",
       "      <td>False</td>\n",
       "      <td>False</td>\n",
       "      <td>False</td>\n",
       "      <td>True</td>\n",
       "      <td>False</td>\n",
       "      <td>False</td>\n",
       "      <td>False</td>\n",
       "      <td>False</td>\n",
       "      <td>False</td>\n",
       "      <td>False</td>\n",
       "    </tr>\n",
       "    <tr>\n",
       "      <td>3</td>\n",
       "      <td>3</td>\n",
       "      <td>A</td>\n",
       "      <td>101.07</td>\n",
       "      <td>material_7</td>\n",
       "      <td>material_8</td>\n",
       "      <td>9</td>\n",
       "      <td>5</td>\n",
       "      <td>13</td>\n",
       "      <td>2</td>\n",
       "      <td>6</td>\n",
       "      <td>...</td>\n",
       "      <td>False</td>\n",
       "      <td>False</td>\n",
       "      <td>False</td>\n",
       "      <td>False</td>\n",
       "      <td>False</td>\n",
       "      <td>False</td>\n",
       "      <td>False</td>\n",
       "      <td>False</td>\n",
       "      <td>False</td>\n",
       "      <td>False</td>\n",
       "    </tr>\n",
       "    <tr>\n",
       "      <td>4</td>\n",
       "      <td>4</td>\n",
       "      <td>A</td>\n",
       "      <td>188.06</td>\n",
       "      <td>material_7</td>\n",
       "      <td>material_8</td>\n",
       "      <td>9</td>\n",
       "      <td>5</td>\n",
       "      <td>9</td>\n",
       "      <td>2</td>\n",
       "      <td>8</td>\n",
       "      <td>...</td>\n",
       "      <td>False</td>\n",
       "      <td>False</td>\n",
       "      <td>False</td>\n",
       "      <td>False</td>\n",
       "      <td>False</td>\n",
       "      <td>False</td>\n",
       "      <td>False</td>\n",
       "      <td>False</td>\n",
       "      <td>False</td>\n",
       "      <td>False</td>\n",
       "    </tr>\n",
       "    <tr>\n",
       "      <td>...</td>\n",
       "      <td>...</td>\n",
       "      <td>...</td>\n",
       "      <td>...</td>\n",
       "      <td>...</td>\n",
       "      <td>...</td>\n",
       "      <td>...</td>\n",
       "      <td>...</td>\n",
       "      <td>...</td>\n",
       "      <td>...</td>\n",
       "      <td>...</td>\n",
       "      <td>...</td>\n",
       "      <td>...</td>\n",
       "      <td>...</td>\n",
       "      <td>...</td>\n",
       "      <td>...</td>\n",
       "      <td>...</td>\n",
       "      <td>...</td>\n",
       "      <td>...</td>\n",
       "      <td>...</td>\n",
       "      <td>...</td>\n",
       "      <td>...</td>\n",
       "    </tr>\n",
       "    <tr>\n",
       "      <td>21453</td>\n",
       "      <td>26565</td>\n",
       "      <td>E</td>\n",
       "      <td>158.95</td>\n",
       "      <td>material_7</td>\n",
       "      <td>material_6</td>\n",
       "      <td>6</td>\n",
       "      <td>9</td>\n",
       "      <td>6</td>\n",
       "      <td>16</td>\n",
       "      <td>4</td>\n",
       "      <td>...</td>\n",
       "      <td>False</td>\n",
       "      <td>True</td>\n",
       "      <td>False</td>\n",
       "      <td>False</td>\n",
       "      <td>False</td>\n",
       "      <td>False</td>\n",
       "      <td>False</td>\n",
       "      <td>False</td>\n",
       "      <td>True</td>\n",
       "      <td>False</td>\n",
       "    </tr>\n",
       "    <tr>\n",
       "      <td>21454</td>\n",
       "      <td>26566</td>\n",
       "      <td>E</td>\n",
       "      <td>146.02</td>\n",
       "      <td>material_7</td>\n",
       "      <td>material_6</td>\n",
       "      <td>6</td>\n",
       "      <td>9</td>\n",
       "      <td>10</td>\n",
       "      <td>12</td>\n",
       "      <td>8</td>\n",
       "      <td>...</td>\n",
       "      <td>False</td>\n",
       "      <td>False</td>\n",
       "      <td>False</td>\n",
       "      <td>False</td>\n",
       "      <td>False</td>\n",
       "      <td>False</td>\n",
       "      <td>False</td>\n",
       "      <td>False</td>\n",
       "      <td>False</td>\n",
       "      <td>False</td>\n",
       "    </tr>\n",
       "    <tr>\n",
       "      <td>21455</td>\n",
       "      <td>26567</td>\n",
       "      <td>E</td>\n",
       "      <td>115.62</td>\n",
       "      <td>material_7</td>\n",
       "      <td>material_6</td>\n",
       "      <td>6</td>\n",
       "      <td>9</td>\n",
       "      <td>1</td>\n",
       "      <td>10</td>\n",
       "      <td>1</td>\n",
       "      <td>...</td>\n",
       "      <td>False</td>\n",
       "      <td>False</td>\n",
       "      <td>False</td>\n",
       "      <td>False</td>\n",
       "      <td>False</td>\n",
       "      <td>False</td>\n",
       "      <td>False</td>\n",
       "      <td>False</td>\n",
       "      <td>False</td>\n",
       "      <td>False</td>\n",
       "    </tr>\n",
       "    <tr>\n",
       "      <td>21456</td>\n",
       "      <td>26568</td>\n",
       "      <td>E</td>\n",
       "      <td>106.38</td>\n",
       "      <td>material_7</td>\n",
       "      <td>material_6</td>\n",
       "      <td>6</td>\n",
       "      <td>9</td>\n",
       "      <td>2</td>\n",
       "      <td>9</td>\n",
       "      <td>4</td>\n",
       "      <td>...</td>\n",
       "      <td>False</td>\n",
       "      <td>False</td>\n",
       "      <td>False</td>\n",
       "      <td>False</td>\n",
       "      <td>False</td>\n",
       "      <td>False</td>\n",
       "      <td>False</td>\n",
       "      <td>False</td>\n",
       "      <td>False</td>\n",
       "      <td>False</td>\n",
       "    </tr>\n",
       "    <tr>\n",
       "      <td>21457</td>\n",
       "      <td>26569</td>\n",
       "      <td>E</td>\n",
       "      <td>131.20</td>\n",
       "      <td>material_7</td>\n",
       "      <td>material_6</td>\n",
       "      <td>6</td>\n",
       "      <td>9</td>\n",
       "      <td>6</td>\n",
       "      <td>19</td>\n",
       "      <td>1</td>\n",
       "      <td>...</td>\n",
       "      <td>False</td>\n",
       "      <td>False</td>\n",
       "      <td>False</td>\n",
       "      <td>False</td>\n",
       "      <td>False</td>\n",
       "      <td>False</td>\n",
       "      <td>False</td>\n",
       "      <td>False</td>\n",
       "      <td>False</td>\n",
       "      <td>False</td>\n",
       "    </tr>\n",
       "  </tbody>\n",
       "</table>\n",
       "<p>21458 rows × 41 columns</p>\n",
       "</div>"
      ],
      "text/plain": [
       "          id product_code  loading attribute_0 attribute_1  attribute_2  \\\n",
       "0          0            A    80.10  material_7  material_8            9   \n",
       "1          1            A    84.89  material_7  material_8            9   \n",
       "2          2            A    82.43  material_7  material_8            9   \n",
       "3          3            A   101.07  material_7  material_8            9   \n",
       "4          4            A   188.06  material_7  material_8            9   \n",
       "...      ...          ...      ...         ...         ...          ...   \n",
       "21453  26565            E   158.95  material_7  material_6            6   \n",
       "21454  26566            E   146.02  material_7  material_6            6   \n",
       "21455  26567            E   115.62  material_7  material_6            6   \n",
       "21456  26568            E   106.38  material_7  material_6            6   \n",
       "21457  26569            E   131.20  material_7  material_6            6   \n",
       "\n",
       "       attribute_3  measurement_0  measurement_1  measurement_2  ...  isna_8  \\\n",
       "0                5              7              8              4  ...   False   \n",
       "1                5             14              3              3  ...   False   \n",
       "2                5             12              1              5  ...   False   \n",
       "3                5             13              2              6  ...   False   \n",
       "4                5              9              2              8  ...   False   \n",
       "...            ...            ...            ...            ...  ...     ...   \n",
       "21453            9              6             16              4  ...   False   \n",
       "21454            9             10             12              8  ...   False   \n",
       "21455            9              1             10              1  ...   False   \n",
       "21456            9              2              9              4  ...   False   \n",
       "21457            9              6             19              1  ...   False   \n",
       "\n",
       "       isna_9  isna_10  isna_11  isna_12  isna_13  isna_14  isna_15  isna_16  \\\n",
       "0       False    False    False    False    False     True    False    False   \n",
       "1       False    False    False    False    False    False    False    False   \n",
       "2       False    False     True    False    False    False    False    False   \n",
       "3       False    False    False    False    False    False    False    False   \n",
       "4       False    False    False    False    False    False    False    False   \n",
       "...       ...      ...      ...      ...      ...      ...      ...      ...   \n",
       "21453    True    False    False    False    False    False    False     True   \n",
       "21454   False    False    False    False    False    False    False    False   \n",
       "21455   False    False    False    False    False    False    False    False   \n",
       "21456   False    False    False    False    False    False    False    False   \n",
       "21457   False    False    False    False    False    False    False    False   \n",
       "\n",
       "       isna_17  \n",
       "0        False  \n",
       "1        False  \n",
       "2        False  \n",
       "3        False  \n",
       "4        False  \n",
       "...        ...  \n",
       "21453    False  \n",
       "21454    False  \n",
       "21455    False  \n",
       "21456    False  \n",
       "21457    False  \n",
       "\n",
       "[21458 rows x 41 columns]"
      ]
     },
     "execution_count": 14,
     "metadata": {},
     "output_type": "execute_result"
    }
   ],
   "source": [
    "cols = org.loc[ :, 'measurement_10':'measurement_16'].columns\n",
    "\n",
    "org[cols] = org.groupby('product_code')[cols].apply( lambda x : x.fillna( x.mean(), axis=0 ) ).reset_index()[cols]\n",
    "org"
   ]
  },
  {
   "cell_type": "code",
   "execution_count": 15,
   "id": "f4cbc342",
   "metadata": {
    "scrolled": true
   },
   "outputs": [
    {
     "data": {
      "text/plain": [
       "<AxesSubplot:>"
      ]
     },
     "execution_count": 15,
     "metadata": {},
     "output_type": "execute_result"
    },
    {
     "data": {
      "image/png": "[encoded data removed]",
      "text/plain": [
       "<Figure size 640x480 with 2 Axes>"
      ]
     },
     "metadata": {},
     "output_type": "display_data"
    }
   ],
   "source": [
    "sns.heatmap( org.isna() )"
   ]
  },
  {
   "cell_type": "code",
   "execution_count": 16,
   "id": "44ed7bea",
   "metadata": {},
   "outputs": [
    {
     "data": {
      "text/html": [
       "<div>\n",
       "<style scoped>\n",
       "    .dataframe tbody tr th:only-of-type {\n",
       "        vertical-align: middle;\n",
       "    }\n",
       "\n",
       "    .dataframe tbody tr th {\n",
       "        vertical-align: top;\n",
       "    }\n",
       "\n",
       "    .dataframe thead th {\n",
       "        text-align: right;\n",
       "    }\n",
       "</style>\n",
       "<table border=\"1\" class=\"dataframe\">\n",
       "  <thead>\n",
       "    <tr style=\"text-align: right;\">\n",
       "      <th></th>\n",
       "      <th>measurement_3</th>\n",
       "      <th>measurement_4</th>\n",
       "      <th>measurement_5</th>\n",
       "      <th>measurement_6</th>\n",
       "      <th>measurement_7</th>\n",
       "      <th>measurement_8</th>\n",
       "      <th>measurement_9</th>\n",
       "      <th>measurement_10</th>\n",
       "      <th>measurement_11</th>\n",
       "      <th>measurement_12</th>\n",
       "      <th>measurement_13</th>\n",
       "      <th>measurement_14</th>\n",
       "      <th>measurement_15</th>\n",
       "      <th>measurement_16</th>\n",
       "      <th>measurement_17</th>\n",
       "    </tr>\n",
       "  </thead>\n",
       "  <tbody>\n",
       "    <tr>\n",
       "      <td>mean</td>\n",
       "      <td>17.796</td>\n",
       "      <td>11.736</td>\n",
       "      <td>17.131</td>\n",
       "      <td>17.506</td>\n",
       "      <td>11.719</td>\n",
       "      <td>19.022</td>\n",
       "      <td>11.434</td>\n",
       "      <td>16.034</td>\n",
       "      <td>19.194</td>\n",
       "      <td>11.734</td>\n",
       "      <td>15.666</td>\n",
       "      <td>16.033</td>\n",
       "      <td>15.051</td>\n",
       "      <td>16.398</td>\n",
       "      <td>701.768</td>\n",
       "    </tr>\n",
       "    <tr>\n",
       "      <td>std</td>\n",
       "      <td>0.997</td>\n",
       "      <td>0.994</td>\n",
       "      <td>0.994</td>\n",
       "      <td>0.992</td>\n",
       "      <td>0.993</td>\n",
       "      <td>1.005</td>\n",
       "      <td>0.997</td>\n",
       "      <td>1.278</td>\n",
       "      <td>1.579</td>\n",
       "      <td>1.433</td>\n",
       "      <td>1.149</td>\n",
       "      <td>1.461</td>\n",
       "      <td>1.478</td>\n",
       "      <td>1.671</td>\n",
       "      <td>119.180</td>\n",
       "    </tr>\n",
       "  </tbody>\n",
       "</table>\n",
       "</div>"
      ],
      "text/plain": [
       "      measurement_3  measurement_4  measurement_5  measurement_6  \\\n",
       "mean         17.796         11.736         17.131         17.506   \n",
       "std           0.997          0.994          0.994          0.992   \n",
       "\n",
       "      measurement_7  measurement_8  measurement_9  measurement_10  \\\n",
       "mean         11.719         19.022         11.434          16.034   \n",
       "std           0.993          1.005          0.997           1.278   \n",
       "\n",
       "      measurement_11  measurement_12  measurement_13  measurement_14  \\\n",
       "mean          19.194          11.734          15.666          16.033   \n",
       "std            1.579           1.433           1.149           1.461   \n",
       "\n",
       "      measurement_15  measurement_16  measurement_17  \n",
       "mean          15.051          16.398         701.768  \n",
       "std            1.478           1.671         119.180  "
      ]
     },
     "execution_count": 16,
     "metadata": {},
     "output_type": "execute_result"
    }
   ],
   "source": [
    "org.describe().loc[ 'mean':'std', 'measurement_3':'measurement_17'].round(3)"
   ]
  },
  {
   "cell_type": "code",
   "execution_count": 17,
   "id": "a6b206ce",
   "metadata": {},
   "outputs": [],
   "source": [
    "basetable = org.copy()"
   ]
  },
  {
   "cell_type": "markdown",
   "id": "c4771237",
   "metadata": {},
   "source": [
    "# 문제 1"
   ]
  },
  {
   "cell_type": "markdown",
   "id": "f5039770",
   "metadata": {},
   "source": [
    "## 단계 1"
   ]
  },
  {
   "cell_type": "code",
   "execution_count": 18,
   "id": "e58fed2d",
   "metadata": {},
   "outputs": [],
   "source": [
    "p = 0.2114"
   ]
  },
  {
   "cell_type": "markdown",
   "id": "55325266",
   "metadata": {},
   "source": [
    "증거계산"
   ]
  },
  {
   "cell_type": "code",
   "execution_count": 19,
   "id": "18a1973c",
   "metadata": {},
   "outputs": [
    {
     "data": {
      "text/plain": [
       "0.14423076923076922"
      ]
     },
     "execution_count": 19,
     "metadata": {},
     "output_type": "execute_result"
    }
   ],
   "source": [
    "# 관측된 전체 수는 measurement_3이 결측일 때의 총합\n",
    "n = basetable['isna_3'].sum()\n",
    "\n",
    "# measurement_3이 결측일 때, 실패하는 경우의 수\n",
    "x = basetable.loc[ basetable['isna_3'] == True, 'failure'].sum()\n",
    "\n",
    "# p_hat = x / n\n",
    "p_hat = x / n\n",
    "p_hat"
   ]
  },
  {
   "cell_type": "code",
   "execution_count": 20,
   "id": "5095b4e3",
   "metadata": {},
   "outputs": [
    {
     "data": {
      "text/plain": [
       "-2.905807189028007"
      ]
     },
     "execution_count": 20,
     "metadata": {},
     "output_type": "execute_result"
    }
   ],
   "source": [
    "z_value = (p_hat - p) / np.sqrt( p * (1-p) / n)\n",
    "z_value"
   ]
  },
  {
   "cell_type": "code",
   "execution_count": 21,
   "id": "24eea9fd",
   "metadata": {},
   "outputs": [
    {
     "data": {
      "text/plain": [
       "0.0036630709140241546"
      ]
     },
     "execution_count": 21,
     "metadata": {},
     "output_type": "execute_result"
    }
   ],
   "source": [
    "# 단측검정\n",
    "# 1 - sps.norm.cdf( z_value, loc=0, scale=1 )\n",
    "# sps.norm.cdf( z_value, loc=0, scale=1 )\n",
    "\n",
    "# 양측검정\n",
    "2 * sps.norm.cdf( z_value, loc=0, scale=1 )"
   ]
  },
  {
   "cell_type": "code",
   "execution_count": 22,
   "id": "3c47689c",
   "metadata": {},
   "outputs": [],
   "source": [
    "from statsmodels.stats.proportion import proportions_ztest"
   ]
  },
  {
   "cell_type": "code",
   "execution_count": 23,
   "id": "81cbbe81",
   "metadata": {},
   "outputs": [
    {
     "data": {
      "text/plain": [
       "(-2.905807189028007, 0.0036630709140241546)"
      ]
     },
     "execution_count": 23,
     "metadata": {},
     "output_type": "execute_result"
    }
   ],
   "source": [
    "proportions_ztest( count=x, nobs=n, value=p, prop_var=p, alternative='two-sided')"
   ]
  },
  {
   "cell_type": "markdown",
   "id": "4c2c2d32",
   "metadata": {},
   "source": [
    "## 단계 3"
   ]
  },
  {
   "cell_type": "code",
   "execution_count": 24,
   "id": "757db816",
   "metadata": {},
   "outputs": [],
   "source": [
    "p = 0.2114\n",
    "ans = 0"
   ]
  },
  {
   "cell_type": "code",
   "execution_count": 25,
   "id": "a296eb90",
   "metadata": {},
   "outputs": [
    {
     "name": "stdout",
     "output_type": "stream",
     "text": [
      "0.0036630709140241546 isna_3 o\n",
      "0.17803686833140808 isna_4 x\n",
      "0.026325008335499278 isna_5 o\n",
      "0.793491357072205 isna_6 x\n",
      "0.37298091572329806 isna_7 x\n",
      "0.48514534123655306 isna_8 x\n",
      "0.589649524697301 isna_9 x\n",
      "0.44594047726157915 isna_10 x\n",
      "0.9175464043670771 isna_11 x\n",
      "0.5421744277936988 isna_12 x\n",
      "0.6507952588133231 isna_13 x\n",
      "0.49582912857498873 isna_14 x\n",
      "0.9938599942603648 isna_15 x\n",
      "0.6324265724265041 isna_16 x\n",
      "0.8485233234124769 isna_17 x\n"
     ]
    }
   ],
   "source": [
    "for col in basetable.loc[ :, 'isna_3':'isna_17'].columns:\n",
    "    n = basetable[col].sum()\n",
    "    x = basetable.loc[ basetable[col] == True, 'failure'].sum()\n",
    "    _, pvalue = proportions_ztest( count=x, nobs=n, value=p, prop_var=p, alternative='two-sided')\n",
    "    \n",
    "    if pvalue < 0.05: # 귀무가설 기각, 대립가설 채택\n",
    "        ans += pvalue\n",
    "        print( pvalue, col, 'o')\n",
    "    else:\n",
    "        print( pvalue, col, 'x')"
   ]
  },
  {
   "cell_type": "code",
   "execution_count": 26,
   "id": "f93b3bb5",
   "metadata": {},
   "outputs": [
    {
     "data": {
      "text/plain": [
       "0.03"
      ]
     },
     "execution_count": 26,
     "metadata": {},
     "output_type": "execute_result"
    }
   ],
   "source": [
    "round(ans, 3)"
   ]
  },
  {
   "cell_type": "code",
   "execution_count": 27,
   "id": "bf6a3911",
   "metadata": {},
   "outputs": [
    {
     "data": {
      "text/html": [
       "<div>\n",
       "<style scoped>\n",
       "    .dataframe tbody tr th:only-of-type {\n",
       "        vertical-align: middle;\n",
       "    }\n",
       "\n",
       "    .dataframe tbody tr th {\n",
       "        vertical-align: top;\n",
       "    }\n",
       "\n",
       "    .dataframe thead th {\n",
       "        text-align: right;\n",
       "    }\n",
       "</style>\n",
       "<table border=\"1\" class=\"dataframe\">\n",
       "  <thead>\n",
       "    <tr style=\"text-align: right;\">\n",
       "      <th></th>\n",
       "      <th>id</th>\n",
       "      <th>product_code</th>\n",
       "      <th>loading</th>\n",
       "      <th>attribute_0</th>\n",
       "      <th>attribute_1</th>\n",
       "      <th>attribute_2</th>\n",
       "      <th>attribute_3</th>\n",
       "      <th>measurement_0</th>\n",
       "      <th>measurement_1</th>\n",
       "      <th>measurement_2</th>\n",
       "      <th>...</th>\n",
       "      <th>isna_10</th>\n",
       "      <th>isna_11</th>\n",
       "      <th>isna_12</th>\n",
       "      <th>isna_13</th>\n",
       "      <th>isna_14</th>\n",
       "      <th>isna_15</th>\n",
       "      <th>isna_16</th>\n",
       "      <th>isna_17</th>\n",
       "      <th>na_1</th>\n",
       "      <th>na_2</th>\n",
       "    </tr>\n",
       "  </thead>\n",
       "  <tbody>\n",
       "    <tr>\n",
       "      <td>0</td>\n",
       "      <td>0</td>\n",
       "      <td>A</td>\n",
       "      <td>80.10</td>\n",
       "      <td>material_7</td>\n",
       "      <td>material_8</td>\n",
       "      <td>9</td>\n",
       "      <td>5</td>\n",
       "      <td>7</td>\n",
       "      <td>8</td>\n",
       "      <td>4</td>\n",
       "      <td>...</td>\n",
       "      <td>False</td>\n",
       "      <td>False</td>\n",
       "      <td>False</td>\n",
       "      <td>False</td>\n",
       "      <td>True</td>\n",
       "      <td>False</td>\n",
       "      <td>False</td>\n",
       "      <td>False</td>\n",
       "      <td>False</td>\n",
       "      <td>False</td>\n",
       "    </tr>\n",
       "    <tr>\n",
       "      <td>1</td>\n",
       "      <td>1</td>\n",
       "      <td>A</td>\n",
       "      <td>84.89</td>\n",
       "      <td>material_7</td>\n",
       "      <td>material_8</td>\n",
       "      <td>9</td>\n",
       "      <td>5</td>\n",
       "      <td>14</td>\n",
       "      <td>3</td>\n",
       "      <td>3</td>\n",
       "      <td>...</td>\n",
       "      <td>False</td>\n",
       "      <td>False</td>\n",
       "      <td>False</td>\n",
       "      <td>False</td>\n",
       "      <td>False</td>\n",
       "      <td>False</td>\n",
       "      <td>False</td>\n",
       "      <td>False</td>\n",
       "      <td>False</td>\n",
       "      <td>False</td>\n",
       "    </tr>\n",
       "    <tr>\n",
       "      <td>2</td>\n",
       "      <td>2</td>\n",
       "      <td>A</td>\n",
       "      <td>82.43</td>\n",
       "      <td>material_7</td>\n",
       "      <td>material_8</td>\n",
       "      <td>9</td>\n",
       "      <td>5</td>\n",
       "      <td>12</td>\n",
       "      <td>1</td>\n",
       "      <td>5</td>\n",
       "      <td>...</td>\n",
       "      <td>False</td>\n",
       "      <td>True</td>\n",
       "      <td>False</td>\n",
       "      <td>False</td>\n",
       "      <td>False</td>\n",
       "      <td>False</td>\n",
       "      <td>False</td>\n",
       "      <td>False</td>\n",
       "      <td>False</td>\n",
       "      <td>False</td>\n",
       "    </tr>\n",
       "    <tr>\n",
       "      <td>3</td>\n",
       "      <td>3</td>\n",
       "      <td>A</td>\n",
       "      <td>101.07</td>\n",
       "      <td>material_7</td>\n",
       "      <td>material_8</td>\n",
       "      <td>9</td>\n",
       "      <td>5</td>\n",
       "      <td>13</td>\n",
       "      <td>2</td>\n",
       "      <td>6</td>\n",
       "      <td>...</td>\n",
       "      <td>False</td>\n",
       "      <td>False</td>\n",
       "      <td>False</td>\n",
       "      <td>False</td>\n",
       "      <td>False</td>\n",
       "      <td>False</td>\n",
       "      <td>False</td>\n",
       "      <td>False</td>\n",
       "      <td>False</td>\n",
       "      <td>False</td>\n",
       "    </tr>\n",
       "    <tr>\n",
       "      <td>4</td>\n",
       "      <td>4</td>\n",
       "      <td>A</td>\n",
       "      <td>188.06</td>\n",
       "      <td>material_7</td>\n",
       "      <td>material_8</td>\n",
       "      <td>9</td>\n",
       "      <td>5</td>\n",
       "      <td>9</td>\n",
       "      <td>2</td>\n",
       "      <td>8</td>\n",
       "      <td>...</td>\n",
       "      <td>False</td>\n",
       "      <td>False</td>\n",
       "      <td>False</td>\n",
       "      <td>False</td>\n",
       "      <td>False</td>\n",
       "      <td>False</td>\n",
       "      <td>False</td>\n",
       "      <td>False</td>\n",
       "      <td>False</td>\n",
       "      <td>False</td>\n",
       "    </tr>\n",
       "    <tr>\n",
       "      <td>...</td>\n",
       "      <td>...</td>\n",
       "      <td>...</td>\n",
       "      <td>...</td>\n",
       "      <td>...</td>\n",
       "      <td>...</td>\n",
       "      <td>...</td>\n",
       "      <td>...</td>\n",
       "      <td>...</td>\n",
       "      <td>...</td>\n",
       "      <td>...</td>\n",
       "      <td>...</td>\n",
       "      <td>...</td>\n",
       "      <td>...</td>\n",
       "      <td>...</td>\n",
       "      <td>...</td>\n",
       "      <td>...</td>\n",
       "      <td>...</td>\n",
       "      <td>...</td>\n",
       "      <td>...</td>\n",
       "      <td>...</td>\n",
       "      <td>...</td>\n",
       "    </tr>\n",
       "    <tr>\n",
       "      <td>21453</td>\n",
       "      <td>26565</td>\n",
       "      <td>E</td>\n",
       "      <td>158.95</td>\n",
       "      <td>material_7</td>\n",
       "      <td>material_6</td>\n",
       "      <td>6</td>\n",
       "      <td>9</td>\n",
       "      <td>6</td>\n",
       "      <td>16</td>\n",
       "      <td>4</td>\n",
       "      <td>...</td>\n",
       "      <td>False</td>\n",
       "      <td>False</td>\n",
       "      <td>False</td>\n",
       "      <td>False</td>\n",
       "      <td>False</td>\n",
       "      <td>False</td>\n",
       "      <td>True</td>\n",
       "      <td>False</td>\n",
       "      <td>False</td>\n",
       "      <td>False</td>\n",
       "    </tr>\n",
       "    <tr>\n",
       "      <td>21454</td>\n",
       "      <td>26566</td>\n",
       "      <td>E</td>\n",
       "      <td>146.02</td>\n",
       "      <td>material_7</td>\n",
       "      <td>material_6</td>\n",
       "      <td>6</td>\n",
       "      <td>9</td>\n",
       "      <td>10</td>\n",
       "      <td>12</td>\n",
       "      <td>8</td>\n",
       "      <td>...</td>\n",
       "      <td>False</td>\n",
       "      <td>False</td>\n",
       "      <td>False</td>\n",
       "      <td>False</td>\n",
       "      <td>False</td>\n",
       "      <td>False</td>\n",
       "      <td>False</td>\n",
       "      <td>False</td>\n",
       "      <td>False</td>\n",
       "      <td>False</td>\n",
       "    </tr>\n",
       "    <tr>\n",
       "      <td>21455</td>\n",
       "      <td>26567</td>\n",
       "      <td>E</td>\n",
       "      <td>115.62</td>\n",
       "      <td>material_7</td>\n",
       "      <td>material_6</td>\n",
       "      <td>6</td>\n",
       "      <td>9</td>\n",
       "      <td>1</td>\n",
       "      <td>10</td>\n",
       "      <td>1</td>\n",
       "      <td>...</td>\n",
       "      <td>False</td>\n",
       "      <td>False</td>\n",
       "      <td>False</td>\n",
       "      <td>False</td>\n",
       "      <td>False</td>\n",
       "      <td>False</td>\n",
       "      <td>False</td>\n",
       "      <td>False</td>\n",
       "      <td>False</td>\n",
       "      <td>False</td>\n",
       "    </tr>\n",
       "    <tr>\n",
       "      <td>21456</td>\n",
       "      <td>26568</td>\n",
       "      <td>E</td>\n",
       "      <td>106.38</td>\n",
       "      <td>material_7</td>\n",
       "      <td>material_6</td>\n",
       "      <td>6</td>\n",
       "      <td>9</td>\n",
       "      <td>2</td>\n",
       "      <td>9</td>\n",
       "      <td>4</td>\n",
       "      <td>...</td>\n",
       "      <td>False</td>\n",
       "      <td>False</td>\n",
       "      <td>False</td>\n",
       "      <td>False</td>\n",
       "      <td>False</td>\n",
       "      <td>False</td>\n",
       "      <td>False</td>\n",
       "      <td>False</td>\n",
       "      <td>False</td>\n",
       "      <td>False</td>\n",
       "    </tr>\n",
       "    <tr>\n",
       "      <td>21457</td>\n",
       "      <td>26569</td>\n",
       "      <td>E</td>\n",
       "      <td>131.20</td>\n",
       "      <td>material_7</td>\n",
       "      <td>material_6</td>\n",
       "      <td>6</td>\n",
       "      <td>9</td>\n",
       "      <td>6</td>\n",
       "      <td>19</td>\n",
       "      <td>1</td>\n",
       "      <td>...</td>\n",
       "      <td>False</td>\n",
       "      <td>False</td>\n",
       "      <td>False</td>\n",
       "      <td>False</td>\n",
       "      <td>False</td>\n",
       "      <td>False</td>\n",
       "      <td>False</td>\n",
       "      <td>False</td>\n",
       "      <td>False</td>\n",
       "      <td>False</td>\n",
       "    </tr>\n",
       "  </tbody>\n",
       "</table>\n",
       "<p>21458 rows × 43 columns</p>\n",
       "</div>"
      ],
      "text/plain": [
       "          id product_code  loading attribute_0 attribute_1  attribute_2  \\\n",
       "0          0            A    80.10  material_7  material_8            9   \n",
       "1          1            A    84.89  material_7  material_8            9   \n",
       "2          2            A    82.43  material_7  material_8            9   \n",
       "3          3            A   101.07  material_7  material_8            9   \n",
       "4          4            A   188.06  material_7  material_8            9   \n",
       "...      ...          ...      ...         ...         ...          ...   \n",
       "21453  26565            E   158.95  material_7  material_6            6   \n",
       "21454  26566            E   146.02  material_7  material_6            6   \n",
       "21455  26567            E   115.62  material_7  material_6            6   \n",
       "21456  26568            E   106.38  material_7  material_6            6   \n",
       "21457  26569            E   131.20  material_7  material_6            6   \n",
       "\n",
       "       attribute_3  measurement_0  measurement_1  measurement_2  ...  isna_10  \\\n",
       "0                5              7              8              4  ...    False   \n",
       "1                5             14              3              3  ...    False   \n",
       "2                5             12              1              5  ...    False   \n",
       "3                5             13              2              6  ...    False   \n",
       "4                5              9              2              8  ...    False   \n",
       "...            ...            ...            ...            ...  ...      ...   \n",
       "21453            9              6             16              4  ...    False   \n",
       "21454            9             10             12              8  ...    False   \n",
       "21455            9              1             10              1  ...    False   \n",
       "21456            9              2              9              4  ...    False   \n",
       "21457            9              6             19              1  ...    False   \n",
       "\n",
       "       isna_11  isna_12  isna_13  isna_14  isna_15  isna_16  isna_17   na_1  \\\n",
       "0        False    False    False     True    False    False    False  False   \n",
       "1        False    False    False    False    False    False    False  False   \n",
       "2         True    False    False    False    False    False    False  False   \n",
       "3        False    False    False    False    False    False    False  False   \n",
       "4        False    False    False    False    False    False    False  False   \n",
       "...        ...      ...      ...      ...      ...      ...      ...    ...   \n",
       "21453    False    False    False    False    False     True    False  False   \n",
       "21454    False    False    False    False    False    False    False  False   \n",
       "21455    False    False    False    False    False    False    False  False   \n",
       "21456    False    False    False    False    False    False    False  False   \n",
       "21457    False    False    False    False    False    False    False  False   \n",
       "\n",
       "        na_2  \n",
       "0      False  \n",
       "1      False  \n",
       "2      False  \n",
       "3      False  \n",
       "4      False  \n",
       "...      ...  \n",
       "21453  False  \n",
       "21454  False  \n",
       "21455  False  \n",
       "21456  False  \n",
       "21457  False  \n",
       "\n",
       "[21458 rows x 43 columns]"
      ]
     },
     "execution_count": 27,
     "metadata": {},
     "output_type": "execute_result"
    }
   ],
   "source": [
    "prob1 = basetable.copy()\n",
    "prob1['na_1'] = basetable['isna_3']\n",
    "prob1['na_2'] = basetable['isna_5']\n",
    "prob1"
   ]
  },
  {
   "cell_type": "markdown",
   "id": "f2523e81",
   "metadata": {},
   "source": [
    "# 문제 2"
   ]
  },
  {
   "cell_type": "markdown",
   "id": "6eae8486",
   "metadata": {},
   "source": [
    "## 단계 1"
   ]
  },
  {
   "cell_type": "code",
   "execution_count": 28,
   "id": "cef41d84",
   "metadata": {},
   "outputs": [
    {
     "data": {
      "text/html": [
       "<div>\n",
       "<style scoped>\n",
       "    .dataframe tbody tr th:only-of-type {\n",
       "        vertical-align: middle;\n",
       "    }\n",
       "\n",
       "    .dataframe tbody tr th {\n",
       "        vertical-align: top;\n",
       "    }\n",
       "\n",
       "    .dataframe thead th {\n",
       "        text-align: right;\n",
       "    }\n",
       "</style>\n",
       "<table border=\"1\" class=\"dataframe\">\n",
       "  <thead>\n",
       "    <tr style=\"text-align: right;\">\n",
       "      <th></th>\n",
       "      <th>id</th>\n",
       "      <th>product_code</th>\n",
       "      <th>loading</th>\n",
       "      <th>attribute_0</th>\n",
       "      <th>attribute_1</th>\n",
       "      <th>attribute_2</th>\n",
       "      <th>attribute_3</th>\n",
       "      <th>measurement_0</th>\n",
       "      <th>measurement_1</th>\n",
       "      <th>measurement_2</th>\n",
       "      <th>...</th>\n",
       "      <th>isna_10</th>\n",
       "      <th>isna_11</th>\n",
       "      <th>isna_12</th>\n",
       "      <th>isna_13</th>\n",
       "      <th>isna_14</th>\n",
       "      <th>isna_15</th>\n",
       "      <th>isna_16</th>\n",
       "      <th>isna_17</th>\n",
       "      <th>na_1</th>\n",
       "      <th>na_2</th>\n",
       "    </tr>\n",
       "  </thead>\n",
       "  <tbody>\n",
       "    <tr>\n",
       "      <td>0</td>\n",
       "      <td>0</td>\n",
       "      <td>A</td>\n",
       "      <td>80.10</td>\n",
       "      <td>material_7</td>\n",
       "      <td>material_8</td>\n",
       "      <td>9</td>\n",
       "      <td>5</td>\n",
       "      <td>7</td>\n",
       "      <td>8</td>\n",
       "      <td>4</td>\n",
       "      <td>...</td>\n",
       "      <td>False</td>\n",
       "      <td>False</td>\n",
       "      <td>False</td>\n",
       "      <td>False</td>\n",
       "      <td>True</td>\n",
       "      <td>False</td>\n",
       "      <td>False</td>\n",
       "      <td>False</td>\n",
       "      <td>False</td>\n",
       "      <td>False</td>\n",
       "    </tr>\n",
       "    <tr>\n",
       "      <td>1</td>\n",
       "      <td>1</td>\n",
       "      <td>A</td>\n",
       "      <td>84.89</td>\n",
       "      <td>material_7</td>\n",
       "      <td>material_8</td>\n",
       "      <td>9</td>\n",
       "      <td>5</td>\n",
       "      <td>14</td>\n",
       "      <td>3</td>\n",
       "      <td>3</td>\n",
       "      <td>...</td>\n",
       "      <td>False</td>\n",
       "      <td>False</td>\n",
       "      <td>False</td>\n",
       "      <td>False</td>\n",
       "      <td>False</td>\n",
       "      <td>False</td>\n",
       "      <td>False</td>\n",
       "      <td>False</td>\n",
       "      <td>False</td>\n",
       "      <td>False</td>\n",
       "    </tr>\n",
       "    <tr>\n",
       "      <td>2</td>\n",
       "      <td>2</td>\n",
       "      <td>A</td>\n",
       "      <td>82.43</td>\n",
       "      <td>material_7</td>\n",
       "      <td>material_8</td>\n",
       "      <td>9</td>\n",
       "      <td>5</td>\n",
       "      <td>12</td>\n",
       "      <td>1</td>\n",
       "      <td>5</td>\n",
       "      <td>...</td>\n",
       "      <td>False</td>\n",
       "      <td>True</td>\n",
       "      <td>False</td>\n",
       "      <td>False</td>\n",
       "      <td>False</td>\n",
       "      <td>False</td>\n",
       "      <td>False</td>\n",
       "      <td>False</td>\n",
       "      <td>False</td>\n",
       "      <td>False</td>\n",
       "    </tr>\n",
       "    <tr>\n",
       "      <td>3</td>\n",
       "      <td>3</td>\n",
       "      <td>A</td>\n",
       "      <td>101.07</td>\n",
       "      <td>material_7</td>\n",
       "      <td>material_8</td>\n",
       "      <td>9</td>\n",
       "      <td>5</td>\n",
       "      <td>13</td>\n",
       "      <td>2</td>\n",
       "      <td>6</td>\n",
       "      <td>...</td>\n",
       "      <td>False</td>\n",
       "      <td>False</td>\n",
       "      <td>False</td>\n",
       "      <td>False</td>\n",
       "      <td>False</td>\n",
       "      <td>False</td>\n",
       "      <td>False</td>\n",
       "      <td>False</td>\n",
       "      <td>False</td>\n",
       "      <td>False</td>\n",
       "    </tr>\n",
       "    <tr>\n",
       "      <td>4</td>\n",
       "      <td>4</td>\n",
       "      <td>A</td>\n",
       "      <td>188.06</td>\n",
       "      <td>material_7</td>\n",
       "      <td>material_8</td>\n",
       "      <td>9</td>\n",
       "      <td>5</td>\n",
       "      <td>9</td>\n",
       "      <td>2</td>\n",
       "      <td>8</td>\n",
       "      <td>...</td>\n",
       "      <td>False</td>\n",
       "      <td>False</td>\n",
       "      <td>False</td>\n",
       "      <td>False</td>\n",
       "      <td>False</td>\n",
       "      <td>False</td>\n",
       "      <td>False</td>\n",
       "      <td>False</td>\n",
       "      <td>False</td>\n",
       "      <td>False</td>\n",
       "    </tr>\n",
       "    <tr>\n",
       "      <td>...</td>\n",
       "      <td>...</td>\n",
       "      <td>...</td>\n",
       "      <td>...</td>\n",
       "      <td>...</td>\n",
       "      <td>...</td>\n",
       "      <td>...</td>\n",
       "      <td>...</td>\n",
       "      <td>...</td>\n",
       "      <td>...</td>\n",
       "      <td>...</td>\n",
       "      <td>...</td>\n",
       "      <td>...</td>\n",
       "      <td>...</td>\n",
       "      <td>...</td>\n",
       "      <td>...</td>\n",
       "      <td>...</td>\n",
       "      <td>...</td>\n",
       "      <td>...</td>\n",
       "      <td>...</td>\n",
       "      <td>...</td>\n",
       "      <td>...</td>\n",
       "    </tr>\n",
       "    <tr>\n",
       "      <td>21453</td>\n",
       "      <td>26565</td>\n",
       "      <td>E</td>\n",
       "      <td>158.95</td>\n",
       "      <td>material_7</td>\n",
       "      <td>material_6</td>\n",
       "      <td>6</td>\n",
       "      <td>9</td>\n",
       "      <td>6</td>\n",
       "      <td>16</td>\n",
       "      <td>4</td>\n",
       "      <td>...</td>\n",
       "      <td>False</td>\n",
       "      <td>False</td>\n",
       "      <td>False</td>\n",
       "      <td>False</td>\n",
       "      <td>False</td>\n",
       "      <td>False</td>\n",
       "      <td>True</td>\n",
       "      <td>False</td>\n",
       "      <td>False</td>\n",
       "      <td>False</td>\n",
       "    </tr>\n",
       "    <tr>\n",
       "      <td>21454</td>\n",
       "      <td>26566</td>\n",
       "      <td>E</td>\n",
       "      <td>146.02</td>\n",
       "      <td>material_7</td>\n",
       "      <td>material_6</td>\n",
       "      <td>6</td>\n",
       "      <td>9</td>\n",
       "      <td>10</td>\n",
       "      <td>12</td>\n",
       "      <td>8</td>\n",
       "      <td>...</td>\n",
       "      <td>False</td>\n",
       "      <td>False</td>\n",
       "      <td>False</td>\n",
       "      <td>False</td>\n",
       "      <td>False</td>\n",
       "      <td>False</td>\n",
       "      <td>False</td>\n",
       "      <td>False</td>\n",
       "      <td>False</td>\n",
       "      <td>False</td>\n",
       "    </tr>\n",
       "    <tr>\n",
       "      <td>21455</td>\n",
       "      <td>26567</td>\n",
       "      <td>E</td>\n",
       "      <td>115.62</td>\n",
       "      <td>material_7</td>\n",
       "      <td>material_6</td>\n",
       "      <td>6</td>\n",
       "      <td>9</td>\n",
       "      <td>1</td>\n",
       "      <td>10</td>\n",
       "      <td>1</td>\n",
       "      <td>...</td>\n",
       "      <td>False</td>\n",
       "      <td>False</td>\n",
       "      <td>False</td>\n",
       "      <td>False</td>\n",
       "      <td>False</td>\n",
       "      <td>False</td>\n",
       "      <td>False</td>\n",
       "      <td>False</td>\n",
       "      <td>False</td>\n",
       "      <td>False</td>\n",
       "    </tr>\n",
       "    <tr>\n",
       "      <td>21456</td>\n",
       "      <td>26568</td>\n",
       "      <td>E</td>\n",
       "      <td>106.38</td>\n",
       "      <td>material_7</td>\n",
       "      <td>material_6</td>\n",
       "      <td>6</td>\n",
       "      <td>9</td>\n",
       "      <td>2</td>\n",
       "      <td>9</td>\n",
       "      <td>4</td>\n",
       "      <td>...</td>\n",
       "      <td>False</td>\n",
       "      <td>False</td>\n",
       "      <td>False</td>\n",
       "      <td>False</td>\n",
       "      <td>False</td>\n",
       "      <td>False</td>\n",
       "      <td>False</td>\n",
       "      <td>False</td>\n",
       "      <td>False</td>\n",
       "      <td>False</td>\n",
       "    </tr>\n",
       "    <tr>\n",
       "      <td>21457</td>\n",
       "      <td>26569</td>\n",
       "      <td>E</td>\n",
       "      <td>131.20</td>\n",
       "      <td>material_7</td>\n",
       "      <td>material_6</td>\n",
       "      <td>6</td>\n",
       "      <td>9</td>\n",
       "      <td>6</td>\n",
       "      <td>19</td>\n",
       "      <td>1</td>\n",
       "      <td>...</td>\n",
       "      <td>False</td>\n",
       "      <td>False</td>\n",
       "      <td>False</td>\n",
       "      <td>False</td>\n",
       "      <td>False</td>\n",
       "      <td>False</td>\n",
       "      <td>False</td>\n",
       "      <td>False</td>\n",
       "      <td>False</td>\n",
       "      <td>False</td>\n",
       "    </tr>\n",
       "  </tbody>\n",
       "</table>\n",
       "<p>21257 rows × 43 columns</p>\n",
       "</div>"
      ],
      "text/plain": [
       "          id product_code  loading attribute_0 attribute_1  attribute_2  \\\n",
       "0          0            A    80.10  material_7  material_8            9   \n",
       "1          1            A    84.89  material_7  material_8            9   \n",
       "2          2            A    82.43  material_7  material_8            9   \n",
       "3          3            A   101.07  material_7  material_8            9   \n",
       "4          4            A   188.06  material_7  material_8            9   \n",
       "...      ...          ...      ...         ...         ...          ...   \n",
       "21453  26565            E   158.95  material_7  material_6            6   \n",
       "21454  26566            E   146.02  material_7  material_6            6   \n",
       "21455  26567            E   115.62  material_7  material_6            6   \n",
       "21456  26568            E   106.38  material_7  material_6            6   \n",
       "21457  26569            E   131.20  material_7  material_6            6   \n",
       "\n",
       "       attribute_3  measurement_0  measurement_1  measurement_2  ...  isna_10  \\\n",
       "0                5              7              8              4  ...    False   \n",
       "1                5             14              3              3  ...    False   \n",
       "2                5             12              1              5  ...    False   \n",
       "3                5             13              2              6  ...    False   \n",
       "4                5              9              2              8  ...    False   \n",
       "...            ...            ...            ...            ...  ...      ...   \n",
       "21453            9              6             16              4  ...    False   \n",
       "21454            9             10             12              8  ...    False   \n",
       "21455            9              1             10              1  ...    False   \n",
       "21456            9              2              9              4  ...    False   \n",
       "21457            9              6             19              1  ...    False   \n",
       "\n",
       "       isna_11  isna_12  isna_13  isna_14  isna_15  isna_16  isna_17   na_1  \\\n",
       "0        False    False    False     True    False    False    False  False   \n",
       "1        False    False    False    False    False    False    False  False   \n",
       "2         True    False    False    False    False    False    False  False   \n",
       "3        False    False    False    False    False    False    False  False   \n",
       "4        False    False    False    False    False    False    False  False   \n",
       "...        ...      ...      ...      ...      ...      ...      ...    ...   \n",
       "21453    False    False    False    False    False     True    False  False   \n",
       "21454    False    False    False    False    False    False    False  False   \n",
       "21455    False    False    False    False    False    False    False  False   \n",
       "21456    False    False    False    False    False    False    False  False   \n",
       "21457    False    False    False    False    False    False    False  False   \n",
       "\n",
       "        na_2  \n",
       "0      False  \n",
       "1      False  \n",
       "2      False  \n",
       "3      False  \n",
       "4      False  \n",
       "...      ...  \n",
       "21453  False  \n",
       "21454  False  \n",
       "21455  False  \n",
       "21456  False  \n",
       "21457  False  \n",
       "\n",
       "[21257 rows x 43 columns]"
      ]
     },
     "execution_count": 28,
     "metadata": {},
     "output_type": "execute_result"
    }
   ],
   "source": [
    "# 얕은 복사 Vs. 깊은복사\n",
    "prob2 = prob1.loc[ prob1['loading'].notna() ].copy()\n",
    "prob2"
   ]
  },
  {
   "cell_type": "code",
   "execution_count": 29,
   "id": "3dd9a016",
   "metadata": {},
   "outputs": [],
   "source": [
    "prob2['loading_log'] = np.log( prob2['loading'] )"
   ]
  },
  {
   "cell_type": "markdown",
   "id": "aad7ceb3",
   "metadata": {},
   "source": [
    "## 단계 2"
   ]
  },
  {
   "cell_type": "code",
   "execution_count": 30,
   "id": "9215f7ef",
   "metadata": {},
   "outputs": [
    {
     "data": {
      "text/plain": [
       "array(['A', 'B', 'C', 'E'], dtype=object)"
      ]
     },
     "execution_count": 30,
     "metadata": {},
     "output_type": "execute_result"
    }
   ],
   "source": [
    "prob2.product_code.unique()"
   ]
  },
  {
   "cell_type": "code",
   "execution_count": 31,
   "id": "6bea6d4a",
   "metadata": {},
   "outputs": [
    {
     "data": {
      "text/plain": [
       "BartlettResult(statistic=1.928667047072185, pvalue=0.5873433093297675)"
      ]
     },
     "execution_count": 31,
     "metadata": {},
     "output_type": "execute_result"
    }
   ],
   "source": [
    "a = prob2.loc[ prob2.product_code == 'A', 'loading_log' ]\n",
    "b = prob2.loc[ prob2.product_code == 'B', 'loading_log' ]\n",
    "c = prob2.loc[ prob2.product_code == 'C', 'loading_log' ]\n",
    "e = prob2.loc[ prob2.product_code == 'E', 'loading_log' ]\n",
    "\n",
    "sps.bartlett( a, b, c, e )"
   ]
  },
  {
   "cell_type": "code",
   "execution_count": 33,
   "id": "0dd0443c",
   "metadata": {},
   "outputs": [
    {
     "data": {
      "text/plain": [
       "0.5873433093297675"
      ]
     },
     "execution_count": 33,
     "metadata": {},
     "output_type": "execute_result"
    }
   ],
   "source": [
    "B = sps.bartlett( *prob2.groupby('product_code')['loading_log'].agg(list).tolist() ).pvalue\n",
    "B"
   ]
  },
  {
   "cell_type": "markdown",
   "id": "0ea25893",
   "metadata": {},
   "source": [
    "## 단계 3"
   ]
  },
  {
   "cell_type": "code",
   "execution_count": 34,
   "id": "8a7094e5",
   "metadata": {},
   "outputs": [
    {
     "data": {
      "text/plain": [
       "3"
      ]
     },
     "execution_count": 34,
     "metadata": {},
     "output_type": "execute_result"
    }
   ],
   "source": [
    "C = prob2.groupby('product_code')['loading_log'].apply( lambda x : sps.jarque_bera(x).pvalue > 0.05 ).sum()\n",
    "C"
   ]
  },
  {
   "cell_type": "markdown",
   "id": "cb4d9be3",
   "metadata": {},
   "source": [
    "## 단계 4"
   ]
  },
  {
   "cell_type": "code",
   "execution_count": 35,
   "id": "f94a9c7f",
   "metadata": {},
   "outputs": [
    {
     "data": {
      "text/plain": [
       "0.7733782072320899"
      ]
     },
     "execution_count": 35,
     "metadata": {},
     "output_type": "execute_result"
    }
   ],
   "source": [
    "D = sps.f_oneway( *prob2.groupby('product_code')['loading_log'].agg(list).tolist() ).pvalue\n",
    "D"
   ]
  },
  {
   "cell_type": "code",
   "execution_count": 36,
   "id": "3fef1185",
   "metadata": {},
   "outputs": [
    {
     "data": {
      "text/html": [
       "<div>\n",
       "<style scoped>\n",
       "    .dataframe tbody tr th:only-of-type {\n",
       "        vertical-align: middle;\n",
       "    }\n",
       "\n",
       "    .dataframe tbody tr th {\n",
       "        vertical-align: top;\n",
       "    }\n",
       "\n",
       "    .dataframe thead th {\n",
       "        text-align: right;\n",
       "    }\n",
       "</style>\n",
       "<table border=\"1\" class=\"dataframe\">\n",
       "  <thead>\n",
       "    <tr style=\"text-align: right;\">\n",
       "      <th>failure</th>\n",
       "      <th>0</th>\n",
       "      <th>1</th>\n",
       "    </tr>\n",
       "    <tr>\n",
       "      <th>attribute_0</th>\n",
       "      <th></th>\n",
       "      <th></th>\n",
       "    </tr>\n",
       "  </thead>\n",
       "  <tbody>\n",
       "    <tr>\n",
       "      <td>material_5material_5</td>\n",
       "      <td>4162</td>\n",
       "      <td>1047</td>\n",
       "    </tr>\n",
       "    <tr>\n",
       "      <td>material_7material_6</td>\n",
       "      <td>4181</td>\n",
       "      <td>1100</td>\n",
       "    </tr>\n",
       "    <tr>\n",
       "      <td>material_7material_8</td>\n",
       "      <td>8413</td>\n",
       "      <td>2354</td>\n",
       "    </tr>\n",
       "  </tbody>\n",
       "</table>\n",
       "</div>"
      ],
      "text/plain": [
       "failure                  0     1\n",
       "attribute_0                     \n",
       "material_5material_5  4162  1047\n",
       "material_7material_6  4181  1100\n",
       "material_7material_8  8413  2354"
      ]
     },
     "execution_count": 36,
     "metadata": {},
     "output_type": "execute_result"
    }
   ],
   "source": [
    "# 빈도수 테이블을 만듭니다.\n",
    "table = pd.crosstab( index=prob2['attribute_0'].str.cat( prob2['attribute_1']), columns=prob2['failure'] )\n",
    "table"
   ]
  },
  {
   "cell_type": "code",
   "execution_count": 37,
   "id": "cdf7fdf0",
   "metadata": {},
   "outputs": [
    {
     "data": {
      "text/plain": [
       "0"
      ]
     },
     "execution_count": 37,
     "metadata": {},
     "output_type": "execute_result"
    }
   ],
   "source": [
    "pvalue = sps.chi2_contingency(table)[1]\n",
    "E = 1 if pvalue < 0.01 else 0\n",
    "E"
   ]
  },
  {
   "cell_type": "code",
   "execution_count": 38,
   "id": "9400c4a3",
   "metadata": {},
   "outputs": [
    {
     "data": {
      "text/plain": [
       "4.36"
      ]
     },
     "execution_count": 38,
     "metadata": {},
     "output_type": "execute_result"
    }
   ],
   "source": [
    "round( B + C + D + E, 2 )"
   ]
  },
  {
   "cell_type": "markdown",
   "id": "8b295f02",
   "metadata": {},
   "source": [
    "### Packing Vs. Unpacking"
   ]
  },
  {
   "cell_type": "code",
   "execution_count": 39,
   "id": "5209e532",
   "metadata": {},
   "outputs": [],
   "source": [
    "# 가변 인자\n",
    "def func( *args ): # packing\n",
    "    return args"
   ]
  },
  {
   "cell_type": "code",
   "execution_count": 40,
   "id": "99bc24c1",
   "metadata": {},
   "outputs": [
    {
     "data": {
      "text/plain": [
       "(10, 20, 30)"
      ]
     },
     "execution_count": 40,
     "metadata": {},
     "output_type": "execute_result"
    }
   ],
   "source": [
    "# 함수의 정의와 동일한 개수와 순서로 입력값을 전달\n",
    "# unpacking\n",
    "func( *[10, 20, 30] )"
   ]
  },
  {
   "cell_type": "markdown",
   "id": "06ae755d",
   "metadata": {},
   "source": [
    "# 문제 3"
   ]
  },
  {
   "cell_type": "markdown",
   "id": "534092fa",
   "metadata": {},
   "source": [
    "## 단계 1"
   ]
  },
  {
   "cell_type": "code",
   "execution_count": 41,
   "id": "2cb04a86",
   "metadata": {},
   "outputs": [],
   "source": [
    "from sklearn.model_selection import train_test_split\n",
    "from sklearn.preprocessing import StandardScaler\n",
    "from sklearn.metrics import roc_auc_score\n",
    "from sklearn.linear_model import LogisticRegression"
   ]
  },
  {
   "cell_type": "code",
   "execution_count": 42,
   "id": "35b9ccb6",
   "metadata": {},
   "outputs": [],
   "source": [
    "prob3 = prob1.copy()"
   ]
  },
  {
   "cell_type": "code",
   "execution_count": 43,
   "id": "96fb960d",
   "metadata": {},
   "outputs": [],
   "source": [
    "# loading 결측치는 평균으로 대체\n",
    "prob3.loading = prob3.loading.fillna( prob3.loading.mean() )"
   ]
  },
  {
   "cell_type": "code",
   "execution_count": 44,
   "id": "8cb505b9",
   "metadata": {},
   "outputs": [
    {
     "data": {
      "text/plain": [
       "Index(['id', 'product_code', 'loading', 'attribute_0', 'attribute_1',\n",
       "       'attribute_2', 'attribute_3', 'measurement_0', 'measurement_1',\n",
       "       'measurement_2', 'measurement_3', 'measurement_4', 'measurement_5',\n",
       "       'measurement_6', 'measurement_7', 'measurement_8', 'measurement_9',\n",
       "       'measurement_10', 'measurement_11', 'measurement_12', 'measurement_13',\n",
       "       'measurement_14', 'measurement_15', 'measurement_16', 'measurement_17',\n",
       "       'failure', 'isna_3', 'isna_4', 'isna_5', 'isna_6', 'isna_7', 'isna_8',\n",
       "       'isna_9', 'isna_10', 'isna_11', 'isna_12', 'isna_13', 'isna_14',\n",
       "       'isna_15', 'isna_16', 'isna_17', 'na_1', 'na_2'],\n",
       "      dtype='object')"
      ]
     },
     "execution_count": 44,
     "metadata": {},
     "output_type": "execute_result"
    }
   ],
   "source": [
    "prob3.columns"
   ]
  },
  {
   "cell_type": "code",
   "execution_count": 45,
   "id": "d0dbe09a",
   "metadata": {},
   "outputs": [],
   "source": [
    "# 입력변수 21개\n",
    "# 연속형 변수에 대해서만 표준화 처리\n",
    "con_cols = [\n",
    "    'measurement_0', 'measurement_1',\n",
    "    'measurement_2', 'measurement_3', 'measurement_4', 'measurement_5',\n",
    "    'measurement_6', 'measurement_7', 'measurement_8', 'measurement_9',\n",
    "    'measurement_10', 'measurement_11', 'measurement_12', 'measurement_13',\n",
    "    'measurement_14', 'measurement_15', 'measurement_16', 'measurement_17',\n",
    "]\n",
    "cols = ['loading']\n",
    "cat_cols = [ 'na_1', 'na_2' ]\n",
    "target = ['failure']"
   ]
  },
  {
   "cell_type": "code",
   "execution_count": 46,
   "id": "6a831ebe",
   "metadata": {},
   "outputs": [
    {
     "name": "stdout",
     "output_type": "stream",
     "text": [
      "(17166, 21) (4292, 21) (17166, 1) (4292, 1)\n"
     ]
    }
   ],
   "source": [
    "x_train, x_test, y_train, y_test = train_test_split( prob3[ cols + con_cols + cat_cols ], prob3[target], train_size=0.8, random_state=123 )\n",
    "print( x_train.shape, x_test.shape, y_train.shape, y_test.shape )"
   ]
  },
  {
   "cell_type": "code",
   "execution_count": 47,
   "id": "9a777621",
   "metadata": {},
   "outputs": [
    {
     "data": {
      "text/plain": [
       "StandardScaler(copy=True, with_mean=True, with_std=True)"
      ]
     },
     "execution_count": 47,
     "metadata": {},
     "output_type": "execute_result"
    }
   ],
   "source": [
    "scaler = StandardScaler()\n",
    "scaler.fit( x_train[con_cols] )"
   ]
  },
  {
   "cell_type": "code",
   "execution_count": 48,
   "id": "d45d44fb",
   "metadata": {},
   "outputs": [],
   "source": [
    "x_train[ con_cols ] = scaler.transform( x_train[con_cols] )\n",
    "x_test[ con_cols ] = scaler.transform( x_test[con_cols] )"
   ]
  },
  {
   "cell_type": "markdown",
   "id": "b8367d66",
   "metadata": {},
   "source": [
    "## 단계 2"
   ]
  },
  {
   "cell_type": "code",
   "execution_count": 71,
   "id": "dba6b604",
   "metadata": {},
   "outputs": [],
   "source": [
    "model = LogisticRegression( solver='lbfgs', random_state=123 ).fit( x_train[['loading', 'measurement_17']], y_train )"
   ]
  },
  {
   "cell_type": "code",
   "execution_count": 72,
   "id": "72fe756c",
   "metadata": {},
   "outputs": [
    {
     "data": {
      "text/plain": [
       "0.5862805653930709"
      ]
     },
     "execution_count": 72,
     "metadata": {},
     "output_type": "execute_result"
    }
   ],
   "source": [
    "y_hat = model.predict_proba( x_test[ ['loading', 'measurement_17'] ] )[:, 1]\n",
    "best_auc = roc_auc_score( y_test, y_hat )\n",
    "best_auc"
   ]
  },
  {
   "cell_type": "markdown",
   "id": "224d9f1a",
   "metadata": {},
   "source": [
    "## 단계 3"
   ]
  },
  {
   "cell_type": "code",
   "execution_count": 51,
   "id": "eec5f064",
   "metadata": {},
   "outputs": [
    {
     "name": "stderr",
     "output_type": "stream",
     "text": [
      "c:\\users\\student\\appdata\\local\\programs\\python\\python37\\lib\\site-packages\\sklearn\\externals\\joblib\\__init__.py:15: DeprecationWarning: sklearn.externals.joblib is deprecated in 0.21 and will be removed in 0.23. Please import this functionality directly from joblib, which can be installed with: pip install joblib. If this warning is raised when loading pickled models, you may need to re-serialize those models with scikit-learn 0.21+.\n",
      "  warnings.warn(msg, category=DeprecationWarning)\n"
     ]
    }
   ],
   "source": [
    "from mlxtend.feature_selection import SequentialFeatureSelector as SFS"
   ]
  },
  {
   "cell_type": "code",
   "execution_count": 73,
   "id": "e43e4d08",
   "metadata": {},
   "outputs": [],
   "source": [
    "model = LogisticRegression( solver='lbfgs', random_state=123 )\n",
    "selection = SFS( model, k_features='best', forward=True, scoring='roc_auc' ).fit(x_train[cols+con_cols+cat_cols], y_train)"
   ]
  },
  {
   "cell_type": "code",
   "execution_count": 74,
   "id": "9b73f89c",
   "metadata": {},
   "outputs": [
    {
     "data": {
      "text/plain": [
       "0.5903086655691363"
      ]
     },
     "execution_count": 74,
     "metadata": {},
     "output_type": "execute_result"
    }
   ],
   "source": [
    "selection.k_score_"
   ]
  },
  {
   "cell_type": "code",
   "execution_count": 75,
   "id": "bcdb7f85",
   "metadata": {},
   "outputs": [
    {
     "data": {
      "text/plain": [
       "('loading',\n",
       " 'measurement_2',\n",
       " 'measurement_4',\n",
       " 'measurement_6',\n",
       " 'measurement_7',\n",
       " 'measurement_11',\n",
       " 'measurement_14',\n",
       " 'measurement_17',\n",
       " 'na_1')"
      ]
     },
     "execution_count": 75,
     "metadata": {},
     "output_type": "execute_result"
    }
   ],
   "source": [
    "selection.k_feature_names_"
   ]
  },
  {
   "cell_type": "code",
   "execution_count": 76,
   "id": "1fcd3edc",
   "metadata": {},
   "outputs": [
    {
     "data": {
      "text/plain": [
       "0.59"
      ]
     },
     "execution_count": 76,
     "metadata": {},
     "output_type": "execute_result"
    }
   ],
   "source": [
    "round( selection.k_score_, 3 )"
   ]
  },
  {
   "cell_type": "code",
   "execution_count": 78,
   "id": "cbba5a83",
   "metadata": {},
   "outputs": [
    {
     "data": {
      "text/html": [
       "<div>\n",
       "<style scoped>\n",
       "    .dataframe tbody tr th:only-of-type {\n",
       "        vertical-align: middle;\n",
       "    }\n",
       "\n",
       "    .dataframe tbody tr th {\n",
       "        vertical-align: top;\n",
       "    }\n",
       "\n",
       "    .dataframe thead th {\n",
       "        text-align: right;\n",
       "    }\n",
       "</style>\n",
       "<table border=\"1\" class=\"dataframe\">\n",
       "  <thead>\n",
       "    <tr style=\"text-align: right;\">\n",
       "      <th></th>\n",
       "      <th>1</th>\n",
       "      <th>2</th>\n",
       "      <th>3</th>\n",
       "      <th>4</th>\n",
       "      <th>5</th>\n",
       "      <th>6</th>\n",
       "      <th>7</th>\n",
       "      <th>8</th>\n",
       "      <th>9</th>\n",
       "      <th>10</th>\n",
       "      <th>...</th>\n",
       "      <th>12</th>\n",
       "      <th>13</th>\n",
       "      <th>14</th>\n",
       "      <th>15</th>\n",
       "      <th>16</th>\n",
       "      <th>17</th>\n",
       "      <th>18</th>\n",
       "      <th>19</th>\n",
       "      <th>20</th>\n",
       "      <th>21</th>\n",
       "    </tr>\n",
       "  </thead>\n",
       "  <tbody>\n",
       "    <tr>\n",
       "      <td>feature_idx</td>\n",
       "      <td>(0,)</td>\n",
       "      <td>(0, 18)</td>\n",
       "      <td>(0, 5, 18)</td>\n",
       "      <td>(0, 5, 7, 18)</td>\n",
       "      <td>(0, 5, 7, 15, 18)</td>\n",
       "      <td>(0, 5, 7, 15, 18, 19)</td>\n",
       "      <td>(0, 5, 7, 12, 15, 18, 19)</td>\n",
       "      <td>(0, 5, 7, 8, 12, 15, 18, 19)</td>\n",
       "      <td>(0, 3, 5, 7, 8, 12, 15, 18, 19)</td>\n",
       "      <td>(0, 3, 5, 7, 8, 12, 15, 16, 18, 19)</td>\n",
       "      <td>...</td>\n",
       "      <td>(0, 3, 5, 6, 7, 8, 12, 14, 15, 16, 18, 19)</td>\n",
       "      <td>(0, 3, 5, 6, 7, 8, 12, 14, 15, 16, 17, 18, 19)</td>\n",
       "      <td>(0, 2, 3, 5, 6, 7, 8, 12, 14, 15, 16, 17, 18, 19)</td>\n",
       "      <td>(0, 1, 2, 3, 5, 6, 7, 8, 12, 14, 15, 16, 17, 1...</td>\n",
       "      <td>(0, 1, 2, 3, 4, 5, 6, 7, 8, 12, 14, 15, 16, 17...</td>\n",
       "      <td>(0, 1, 2, 3, 4, 5, 6, 7, 8, 12, 14, 15, 16, 17...</td>\n",
       "      <td>(0, 1, 2, 3, 4, 5, 6, 7, 8, 10, 12, 14, 15, 16...</td>\n",
       "      <td>(0, 1, 2, 3, 4, 5, 6, 7, 8, 9, 10, 12, 14, 15,...</td>\n",
       "      <td>(0, 1, 2, 3, 4, 5, 6, 7, 8, 9, 10, 12, 13, 14,...</td>\n",
       "      <td>(0, 1, 2, 3, 4, 5, 6, 7, 8, 9, 10, 11, 12, 13,...</td>\n",
       "    </tr>\n",
       "    <tr>\n",
       "      <td>cv_scores</td>\n",
       "      <td>[0.5815787363043461, 0.6032190083483984, 0.579...</td>\n",
       "      <td>[0.5864242464852221, 0.602686315532896, 0.5800...</td>\n",
       "      <td>[0.5850856460612558, 0.6071555523958481, 0.582...</td>\n",
       "      <td>[0.5859678938947231, 0.6065690317076639, 0.583...</td>\n",
       "      <td>[0.5847963012597159, 0.6063593061282525, 0.583...</td>\n",
       "      <td>[0.5809216190313751, 0.6085967175153867, 0.580...</td>\n",
       "      <td>[0.579887592082714, 0.6086028112368224, 0.5835...</td>\n",
       "      <td>[0.581648026769978, 0.6082950783043204, 0.5819...</td>\n",
       "      <td>[0.5807926829268293, 0.6088795677520261, 0.582...</td>\n",
       "      <td>[0.5805728824021507, 0.6081864069387175, 0.581...</td>\n",
       "      <td>...</td>\n",
       "      <td>[0.5821419434224312, 0.6067335621864273, 0.579...</td>\n",
       "      <td>[0.5825084468377151, 0.6058367695151429, 0.579...</td>\n",
       "      <td>[0.5817982830177952, 0.5993027767057342, 0.578...</td>\n",
       "      <td>[0.5811266985047472, 0.5992519956937702, 0.580...</td>\n",
       "      <td>[0.5811805064853846, 0.5992103552639597, 0.580...</td>\n",
       "      <td>[0.5827688571591011, 0.5971659117222887, 0.577...</td>\n",
       "      <td>[0.581137358576383, 0.598150555544271, 0.57701...</td>\n",
       "      <td>[0.582065292431146, 0.5975909487924276, 0.5806...</td>\n",
       "      <td>[0.5812063952307855, 0.5981678210883387, 0.577...</td>\n",
       "      <td>[0.5803835392250026, 0.5952854908492616, 0.577...</td>\n",
       "    </tr>\n",
       "    <tr>\n",
       "      <td>avg_score</td>\n",
       "      <td>0.58726</td>\n",
       "      <td>0.58871</td>\n",
       "      <td>0.589472</td>\n",
       "      <td>0.589487</td>\n",
       "      <td>0.589511</td>\n",
       "      <td>0.589787</td>\n",
       "      <td>0.590065</td>\n",
       "      <td>0.590082</td>\n",
       "      <td>0.590309</td>\n",
       "      <td>0.589889</td>\n",
       "      <td>...</td>\n",
       "      <td>0.589477</td>\n",
       "      <td>0.589465</td>\n",
       "      <td>0.588394</td>\n",
       "      <td>0.588077</td>\n",
       "      <td>0.58762</td>\n",
       "      <td>0.587099</td>\n",
       "      <td>0.586531</td>\n",
       "      <td>0.586571</td>\n",
       "      <td>0.586301</td>\n",
       "      <td>0.584912</td>\n",
       "    </tr>\n",
       "    <tr>\n",
       "      <td>feature_names</td>\n",
       "      <td>(loading,)</td>\n",
       "      <td>(loading, measurement_17)</td>\n",
       "      <td>(loading, measurement_4, measurement_17)</td>\n",
       "      <td>(loading, measurement_4, measurement_6, measur...</td>\n",
       "      <td>(loading, measurement_4, measurement_6, measur...</td>\n",
       "      <td>(loading, measurement_4, measurement_6, measur...</td>\n",
       "      <td>(loading, measurement_4, measurement_6, measur...</td>\n",
       "      <td>(loading, measurement_4, measurement_6, measur...</td>\n",
       "      <td>(loading, measurement_2, measurement_4, measur...</td>\n",
       "      <td>(loading, measurement_2, measurement_4, measur...</td>\n",
       "      <td>...</td>\n",
       "      <td>(loading, measurement_2, measurement_4, measur...</td>\n",
       "      <td>(loading, measurement_2, measurement_4, measur...</td>\n",
       "      <td>(loading, measurement_1, measurement_2, measur...</td>\n",
       "      <td>(loading, measurement_0, measurement_1, measur...</td>\n",
       "      <td>(loading, measurement_0, measurement_1, measur...</td>\n",
       "      <td>(loading, measurement_0, measurement_1, measur...</td>\n",
       "      <td>(loading, measurement_0, measurement_1, measur...</td>\n",
       "      <td>(loading, measurement_0, measurement_1, measur...</td>\n",
       "      <td>(loading, measurement_0, measurement_1, measur...</td>\n",
       "      <td>(loading, measurement_0, measurement_1, measur...</td>\n",
       "    </tr>\n",
       "  </tbody>\n",
       "</table>\n",
       "<p>4 rows × 21 columns</p>\n",
       "</div>"
      ],
      "text/plain": [
       "                                                              1   \\\n",
       "feature_idx                                                 (0,)   \n",
       "cv_scores      [0.5815787363043461, 0.6032190083483984, 0.579...   \n",
       "avg_score                                                0.58726   \n",
       "feature_names                                         (loading,)   \n",
       "\n",
       "                                                              2   \\\n",
       "feature_idx                                              (0, 18)   \n",
       "cv_scores      [0.5864242464852221, 0.602686315532896, 0.5800...   \n",
       "avg_score                                                0.58871   \n",
       "feature_names                          (loading, measurement_17)   \n",
       "\n",
       "                                                              3   \\\n",
       "feature_idx                                           (0, 5, 18)   \n",
       "cv_scores      [0.5850856460612558, 0.6071555523958481, 0.582...   \n",
       "avg_score                                               0.589472   \n",
       "feature_names           (loading, measurement_4, measurement_17)   \n",
       "\n",
       "                                                              4   \\\n",
       "feature_idx                                        (0, 5, 7, 18)   \n",
       "cv_scores      [0.5859678938947231, 0.6065690317076639, 0.583...   \n",
       "avg_score                                               0.589487   \n",
       "feature_names  (loading, measurement_4, measurement_6, measur...   \n",
       "\n",
       "                                                              5   \\\n",
       "feature_idx                                    (0, 5, 7, 15, 18)   \n",
       "cv_scores      [0.5847963012597159, 0.6063593061282525, 0.583...   \n",
       "avg_score                                               0.589511   \n",
       "feature_names  (loading, measurement_4, measurement_6, measur...   \n",
       "\n",
       "                                                              6   \\\n",
       "feature_idx                                (0, 5, 7, 15, 18, 19)   \n",
       "cv_scores      [0.5809216190313751, 0.6085967175153867, 0.580...   \n",
       "avg_score                                               0.589787   \n",
       "feature_names  (loading, measurement_4, measurement_6, measur...   \n",
       "\n",
       "                                                              7   \\\n",
       "feature_idx                            (0, 5, 7, 12, 15, 18, 19)   \n",
       "cv_scores      [0.579887592082714, 0.6086028112368224, 0.5835...   \n",
       "avg_score                                               0.590065   \n",
       "feature_names  (loading, measurement_4, measurement_6, measur...   \n",
       "\n",
       "                                                              8   \\\n",
       "feature_idx                         (0, 5, 7, 8, 12, 15, 18, 19)   \n",
       "cv_scores      [0.581648026769978, 0.6082950783043204, 0.5819...   \n",
       "avg_score                                               0.590082   \n",
       "feature_names  (loading, measurement_4, measurement_6, measur...   \n",
       "\n",
       "                                                              9   \\\n",
       "feature_idx                      (0, 3, 5, 7, 8, 12, 15, 18, 19)   \n",
       "cv_scores      [0.5807926829268293, 0.6088795677520261, 0.582...   \n",
       "avg_score                                               0.590309   \n",
       "feature_names  (loading, measurement_2, measurement_4, measur...   \n",
       "\n",
       "                                                              10  ...  \\\n",
       "feature_idx                  (0, 3, 5, 7, 8, 12, 15, 16, 18, 19)  ...   \n",
       "cv_scores      [0.5805728824021507, 0.6081864069387175, 0.581...  ...   \n",
       "avg_score                                               0.589889  ...   \n",
       "feature_names  (loading, measurement_2, measurement_4, measur...  ...   \n",
       "\n",
       "                                                              12  \\\n",
       "feature_idx           (0, 3, 5, 6, 7, 8, 12, 14, 15, 16, 18, 19)   \n",
       "cv_scores      [0.5821419434224312, 0.6067335621864273, 0.579...   \n",
       "avg_score                                               0.589477   \n",
       "feature_names  (loading, measurement_2, measurement_4, measur...   \n",
       "\n",
       "                                                              13  \\\n",
       "feature_idx       (0, 3, 5, 6, 7, 8, 12, 14, 15, 16, 17, 18, 19)   \n",
       "cv_scores      [0.5825084468377151, 0.6058367695151429, 0.579...   \n",
       "avg_score                                               0.589465   \n",
       "feature_names  (loading, measurement_2, measurement_4, measur...   \n",
       "\n",
       "                                                              14  \\\n",
       "feature_idx    (0, 2, 3, 5, 6, 7, 8, 12, 14, 15, 16, 17, 18, 19)   \n",
       "cv_scores      [0.5817982830177952, 0.5993027767057342, 0.578...   \n",
       "avg_score                                               0.588394   \n",
       "feature_names  (loading, measurement_1, measurement_2, measur...   \n",
       "\n",
       "                                                              15  \\\n",
       "feature_idx    (0, 1, 2, 3, 5, 6, 7, 8, 12, 14, 15, 16, 17, 1...   \n",
       "cv_scores      [0.5811266985047472, 0.5992519956937702, 0.580...   \n",
       "avg_score                                               0.588077   \n",
       "feature_names  (loading, measurement_0, measurement_1, measur...   \n",
       "\n",
       "                                                              16  \\\n",
       "feature_idx    (0, 1, 2, 3, 4, 5, 6, 7, 8, 12, 14, 15, 16, 17...   \n",
       "cv_scores      [0.5811805064853846, 0.5992103552639597, 0.580...   \n",
       "avg_score                                                0.58762   \n",
       "feature_names  (loading, measurement_0, measurement_1, measur...   \n",
       "\n",
       "                                                              17  \\\n",
       "feature_idx    (0, 1, 2, 3, 4, 5, 6, 7, 8, 12, 14, 15, 16, 17...   \n",
       "cv_scores      [0.5827688571591011, 0.5971659117222887, 0.577...   \n",
       "avg_score                                               0.587099   \n",
       "feature_names  (loading, measurement_0, measurement_1, measur...   \n",
       "\n",
       "                                                              18  \\\n",
       "feature_idx    (0, 1, 2, 3, 4, 5, 6, 7, 8, 10, 12, 14, 15, 16...   \n",
       "cv_scores      [0.581137358576383, 0.598150555544271, 0.57701...   \n",
       "avg_score                                               0.586531   \n",
       "feature_names  (loading, measurement_0, measurement_1, measur...   \n",
       "\n",
       "                                                              19  \\\n",
       "feature_idx    (0, 1, 2, 3, 4, 5, 6, 7, 8, 9, 10, 12, 14, 15,...   \n",
       "cv_scores      [0.582065292431146, 0.5975909487924276, 0.5806...   \n",
       "avg_score                                               0.586571   \n",
       "feature_names  (loading, measurement_0, measurement_1, measur...   \n",
       "\n",
       "                                                              20  \\\n",
       "feature_idx    (0, 1, 2, 3, 4, 5, 6, 7, 8, 9, 10, 12, 13, 14,...   \n",
       "cv_scores      [0.5812063952307855, 0.5981678210883387, 0.577...   \n",
       "avg_score                                               0.586301   \n",
       "feature_names  (loading, measurement_0, measurement_1, measur...   \n",
       "\n",
       "                                                              21  \n",
       "feature_idx    (0, 1, 2, 3, 4, 5, 6, 7, 8, 9, 10, 11, 12, 13,...  \n",
       "cv_scores      [0.5803835392250026, 0.5952854908492616, 0.577...  \n",
       "avg_score                                               0.584912  \n",
       "feature_names  (loading, measurement_0, measurement_1, measur...  \n",
       "\n",
       "[4 rows x 21 columns]"
      ]
     },
     "execution_count": 78,
     "metadata": {},
     "output_type": "execute_result"
    }
   ],
   "source": [
    "pd.DataFrame( selection.subsets_ )"
   ]
  },
  {
   "cell_type": "code",
   "execution_count": 79,
   "id": "a6e5ec27",
   "metadata": {},
   "outputs": [],
   "source": [
    "from mlxtend.plotting import plot_sequential_feature_selection as plot_sfs"
   ]
  },
  {
   "cell_type": "code",
   "execution_count": 80,
   "id": "b68bc0ea",
   "metadata": {},
   "outputs": [
    {
     "data": {
      "image/png": "[encoded data removed]",
      "text/plain": [
       "<Figure size 640x480 with 1 Axes>"
      ]
     },
     "metadata": {},
     "output_type": "display_data"
    }
   ],
   "source": [
    "fig1 = plot_sfs( selection.get_metric_dict(), kind='std_dev')\n",
    "\n",
    "plt.title('Sequential Forward Selection (w. StdDev)')\n",
    "plt.grid()\n",
    "plt.show()"
   ]
  },
  {
   "cell_type": "markdown",
   "id": "2995488a",
   "metadata": {},
   "source": [
    "# 문제 4"
   ]
  },
  {
   "cell_type": "markdown",
   "id": "a0cb931f",
   "metadata": {},
   "source": [
    "## 단계 1"
   ]
  },
  {
   "cell_type": "code",
   "execution_count": 81,
   "id": "5a63567e",
   "metadata": {},
   "outputs": [],
   "source": [
    "from sklearn.discriminant_analysis import LinearDiscriminantAnalysis"
   ]
  },
  {
   "cell_type": "code",
   "execution_count": 84,
   "id": "03b5be14",
   "metadata": {},
   "outputs": [
    {
     "data": {
      "text/plain": [
       "Index(['measurement_0', 'measurement_1', 'measurement_2', 'measurement_3',\n",
       "       'measurement_4', 'measurement_5', 'measurement_6', 'measurement_7',\n",
       "       'measurement_8', 'measurement_9', 'measurement_10', 'measurement_11',\n",
       "       'measurement_12', 'measurement_13', 'measurement_14', 'measurement_15',\n",
       "       'measurement_16', 'measurement_17'],\n",
       "      dtype='object')"
      ]
     },
     "execution_count": 84,
     "metadata": {},
     "output_type": "execute_result"
    }
   ],
   "source": [
    "cols = x_train.loc[ :, 'measurement_0':'measurement_17'].columns\n",
    "cols"
   ]
  },
  {
   "cell_type": "code",
   "execution_count": 85,
   "id": "0c1eb6ed",
   "metadata": {},
   "outputs": [],
   "source": [
    "lda = LinearDiscriminantAnalysis()"
   ]
  },
  {
   "cell_type": "code",
   "execution_count": 86,
   "id": "6ec31b15",
   "metadata": {},
   "outputs": [
    {
     "data": {
      "text/plain": [
       "LinearDiscriminantAnalysis(n_components=None, priors=None, shrinkage=None,\n",
       "                           solver='svd', store_covariance=False, tol=0.0001)"
      ]
     },
     "execution_count": 86,
     "metadata": {},
     "output_type": "execute_result"
    }
   ],
   "source": [
    "lda.fit( x_train[ cols ], y_train )"
   ]
  },
  {
   "cell_type": "code",
   "execution_count": 87,
   "id": "932dde4f",
   "metadata": {},
   "outputs": [
    {
     "data": {
      "text/plain": [
       "array([1.])"
      ]
     },
     "execution_count": 87,
     "metadata": {},
     "output_type": "execute_result"
    }
   ],
   "source": [
    "lda.explained_variance_ratio_"
   ]
  },
  {
   "cell_type": "code",
   "execution_count": 89,
   "id": "2d99a179",
   "metadata": {},
   "outputs": [
    {
     "data": {
      "text/plain": [
       "array([[0.76210336],\n",
       "       [1.1637211 ],\n",
       "       [1.20687717],\n",
       "       ...,\n",
       "       [0.31494685],\n",
       "       [0.39097403],\n",
       "       [0.32880796]])"
      ]
     },
     "execution_count": 89,
     "metadata": {},
     "output_type": "execute_result"
    }
   ],
   "source": [
    "x_lda = lda.transform( x_train[ cols ] )\n",
    "x_lda"
   ]
  },
  {
   "cell_type": "code",
   "execution_count": 92,
   "id": "1cadcff0",
   "metadata": {},
   "outputs": [
    {
     "data": {
      "text/plain": [
       "0.05892147168923654"
      ]
     },
     "execution_count": 92,
     "metadata": {},
     "output_type": "execute_result"
    }
   ],
   "source": [
    "F = sps.spearmanr( x_lda, x_train['loading'] ).pvalue\n",
    "F"
   ]
  },
  {
   "cell_type": "code",
   "execution_count": 93,
   "id": "33b6f0b7",
   "metadata": {},
   "outputs": [],
   "source": [
    "from sklearn.decomposition import PCA"
   ]
  },
  {
   "cell_type": "code",
   "execution_count": 103,
   "id": "c98c88b8",
   "metadata": {},
   "outputs": [],
   "source": [
    "pca = PCA(n_components=0.5)"
   ]
  },
  {
   "cell_type": "code",
   "execution_count": 104,
   "id": "2d7af0ce",
   "metadata": {},
   "outputs": [
    {
     "data": {
      "text/plain": [
       "PCA(copy=True, iterated_power='auto', n_components=0.5, random_state=None,\n",
       "    svd_solver='auto', tol=0.0, whiten=False)"
      ]
     },
     "execution_count": 104,
     "metadata": {},
     "output_type": "execute_result"
    }
   ],
   "source": [
    "pca.fit( x_train[cols] )"
   ]
  },
  {
   "cell_type": "code",
   "execution_count": 108,
   "id": "167be81d",
   "metadata": {},
   "outputs": [
    {
     "data": {
      "text/plain": [
       "8"
      ]
     },
     "execution_count": 108,
     "metadata": {},
     "output_type": "execute_result"
    }
   ],
   "source": [
    "G = pca.transform( x_train[cols] ).shape[1]\n",
    "G"
   ]
  },
  {
   "cell_type": "markdown",
   "id": "12386253",
   "metadata": {},
   "source": [
    "## 단계 3"
   ]
  },
  {
   "cell_type": "code",
   "execution_count": 112,
   "id": "9d4ec89f",
   "metadata": {},
   "outputs": [],
   "source": [
    "# 어차피 PCA 변환값의 순서는 분산설명력이 높은 순으로 나온다.\n",
    "# 내용상 모든 컴포넌트를 사용해야 하므로, 모든 컴포넌트를 파생변수로 두고 선택하는 방법이 더 효율적일 것\n",
    "x_train_pca = pd.DataFrame( pca.transform( x_train[cols] ), index=x_train.index, columns=[ f'pc_{i}' for i in range(1, 9)] )\n",
    "x_test_pca = pd.DataFrame( pca.transform( x_test[cols] ), index=x_test.index, columns=[ f'pc_{i}' for i in range(1, 9)] )"
   ]
  },
  {
   "cell_type": "code",
   "execution_count": 114,
   "id": "6fd29e24",
   "metadata": {},
   "outputs": [],
   "source": [
    "x_train_pca['loading'] = x_train.loading\n",
    "x_test_pca['loading'] = x_test.loading"
   ]
  },
  {
   "cell_type": "code",
   "execution_count": 127,
   "id": "f49867f2",
   "metadata": {},
   "outputs": [],
   "source": [
    "# 하나만 추가하는 경우\n",
    "model = LogisticRegression( solver='lbfgs' ).fit( x_train_pca[ ['pc_1', 'loading']], y_train )"
   ]
  },
  {
   "cell_type": "code",
   "execution_count": 128,
   "id": "c3e39107",
   "metadata": {},
   "outputs": [
    {
     "data": {
      "text/plain": [
       "0.5848587091975707"
      ]
     },
     "execution_count": 128,
     "metadata": {},
     "output_type": "execute_result"
    }
   ],
   "source": [
    "y_hat = model.predict_proba( x_test_pca[['pc_1', 'loading']] )[:, 1]\n",
    "auc = roc_auc_score( y_test, y_hat )\n",
    "auc"
   ]
  },
  {
   "cell_type": "code",
   "execution_count": null,
   "id": "020a0a35",
   "metadata": {},
   "outputs": [],
   "source": [
    "loading + G개의 컴포넌트"
   ]
  },
  {
   "cell_type": "code",
   "execution_count": 122,
   "id": "3844e06c",
   "metadata": {},
   "outputs": [
    {
     "name": "stdout",
     "output_type": "stream",
     "text": [
      "[0]\n",
      "0.515273132664437\n",
      "[0, 1]\n",
      "0.515579504911643\n",
      "[0, 1, 2]\n",
      "0.5161331422200988\n",
      "[0, 1, 2, 3]\n",
      "0.5240068761359662\n",
      "[0, 1, 2, 3, 4]\n",
      "0.5245027197514871\n",
      "[0, 1, 2, 3, 4, 5]\n",
      "0.5266594752923753\n",
      "[0, 1, 2, 3, 4, 5, 6]\n",
      "0.5338318039348967\n",
      "[0, 1, 2, 3, 4, 5, 6, 7]\n",
      "0.5349420339111061\n",
      "[0, 1, 2, 3, 4, 5, 6, 7, 8]\n",
      "0.591330617686512\n"
     ]
    }
   ],
   "source": [
    "selected_cols = []\n",
    "for i in range(9):\n",
    "    selected_cols.append(i)\n",
    "    print( selected_cols )\n",
    "    model = LogisticRegression( solver='lbfgs' ).fit( x_train_pca.iloc[:, selected_cols], y_train )\n",
    "    y_hat = model.predict_proba( x_test_pca.iloc[:, selected_cols] )[:, 1]\n",
    "    auc = roc_auc_score( y_test, y_hat )\n",
    "    print(auc)"
   ]
  },
  {
   "cell_type": "code",
   "execution_count": 123,
   "id": "db1bf3e9",
   "metadata": {},
   "outputs": [],
   "source": [
    "H = 8"
   ]
  },
  {
   "cell_type": "code",
   "execution_count": 124,
   "id": "56a458ac",
   "metadata": {},
   "outputs": [
    {
     "data": {
      "text/plain": [
       "16.06"
      ]
     },
     "execution_count": 124,
     "metadata": {},
     "output_type": "execute_result"
    }
   ],
   "source": [
    "round( F + G + H, 2)"
   ]
  },
  {
   "cell_type": "markdown",
   "id": "74ea5c21",
   "metadata": {},
   "source": [
    "# 문제 5"
   ]
  },
  {
   "cell_type": "markdown",
   "id": "eaf6d0bc",
   "metadata": {},
   "source": [
    "## 단계 1"
   ]
  },
  {
   "cell_type": "code",
   "execution_count": 133,
   "id": "4923086e",
   "metadata": {},
   "outputs": [],
   "source": [
    "from sklearn.model_selection import StratifiedKFold, GridSearchCV\n",
    "from sklearn.ensemble import RandomForestClassifier"
   ]
  },
  {
   "cell_type": "code",
   "execution_count": 143,
   "id": "16034b12",
   "metadata": {},
   "outputs": [],
   "source": [
    "kFold = StratifiedKFold( n_splits=5, random_state=123, shuffle=True )"
   ]
  },
  {
   "cell_type": "code",
   "execution_count": 144,
   "id": "b9fcfc8a",
   "metadata": {},
   "outputs": [],
   "source": [
    "params = dict(\n",
    "    n_estimators = [5, 10, 15],\n",
    "    max_depth = [5, 6, 7],\n",
    "    min_samples_split = [256, 512]\n",
    ")\n",
    "\n",
    "model = RandomForestClassifier( random_state=123 )\n",
    "search = GridSearchCV( estimator=model, param_grid=params, scoring='roc_auc', cv=kFold ).\\\n",
    "    fit( x_train[ ['loading'] + con_cols + cat_cols ], y_train )"
   ]
  },
  {
   "cell_type": "code",
   "execution_count": 145,
   "id": "3504c9d0",
   "metadata": {},
   "outputs": [
    {
     "data": {
      "text/plain": [
       "({'max_depth': 5, 'min_samples_split': 256, 'n_estimators': 15},\n",
       " 0.5798395032186698)"
      ]
     },
     "execution_count": 145,
     "metadata": {},
     "output_type": "execute_result"
    }
   ],
   "source": [
    "search.best_params_, search.best_score_"
   ]
  },
  {
   "cell_type": "markdown",
   "id": "a9df57cb",
   "metadata": {},
   "source": [
    "## 단계 2"
   ]
  },
  {
   "cell_type": "code",
   "execution_count": 140,
   "id": "210f8dbe",
   "metadata": {},
   "outputs": [],
   "source": [
    "model = RandomForestClassifier( max_depth=5, min_samples_split=256, n_estimators=15, random_state=123).\\\n",
    "    fit( x_train[ ['loading'] + con_cols + cat_cols ], y_train )"
   ]
  },
  {
   "cell_type": "code",
   "execution_count": 141,
   "id": "9bf01442",
   "metadata": {},
   "outputs": [
    {
     "data": {
      "text/plain": [
       "0.5779940662952765"
      ]
     },
     "execution_count": 141,
     "metadata": {},
     "output_type": "execute_result"
    }
   ],
   "source": [
    "y_hat = model.predict_proba( x_test[ ['loading'] + con_cols + cat_cols ] )[:, 1]\n",
    "auc = roc_auc_score( y_test, y_hat )\n",
    "auc"
   ]
  },
  {
   "cell_type": "code",
   "execution_count": 142,
   "id": "99253861",
   "metadata": {},
   "outputs": [
    {
     "data": {
      "text/plain": [
       "0.578"
      ]
     },
     "execution_count": 142,
     "metadata": {},
     "output_type": "execute_result"
    }
   ],
   "source": [
    "round( auc, 3 )"
   ]
  },
  {
   "cell_type": "markdown",
   "id": "43468c1e",
   "metadata": {},
   "source": [
    "# 문제 6"
   ]
  },
  {
   "cell_type": "code",
   "execution_count": 171,
   "id": "fc42ff36",
   "metadata": {},
   "outputs": [],
   "source": [
    "train = pd.read_csv('../00. Data/train_prob-1.csv')\n",
    "test = pd.read_csv('../00. Data/test_prob-1.csv')\n",
    "\n",
    "# 실제 시험에서는 알 수 없지만\n",
    "# 모의 문제에서는 직접 확인해보도록 합니다.\n",
    "ans = pd.read_csv('../00. Data/test_prob_ans-1.csv')"
   ]
  },
  {
   "cell_type": "code",
   "execution_count": 172,
   "id": "2e4c5236",
   "metadata": {},
   "outputs": [],
   "source": [
    "train = train.fillna(0)\n",
    "test = test.fillna(0)"
   ]
  },
  {
   "cell_type": "code",
   "execution_count": 173,
   "id": "320de51f",
   "metadata": {},
   "outputs": [],
   "source": [
    "train = train.drop( columns=['id', 'product_code', 'attribute_0', 'attribute_1'] )\n",
    "test = test.drop( columns=['product_code', 'attribute_0', 'attribute_1'] )"
   ]
  },
  {
   "cell_type": "code",
   "execution_count": 174,
   "id": "6dd710b2",
   "metadata": {},
   "outputs": [],
   "source": [
    "model = LogisticRegression().fit( train.drop( columns=['failure']), train['failure'] )"
   ]
  },
  {
   "cell_type": "code",
   "execution_count": 175,
   "id": "c2b70d3d",
   "metadata": {},
   "outputs": [
    {
     "data": {
      "text/plain": [
       "0.5861094413814293"
      ]
     },
     "execution_count": 175,
     "metadata": {},
     "output_type": "execute_result"
    }
   ],
   "source": [
    "y_hat = model.predict_proba( train.drop( columns=['failure']) )[:, 1]\n",
    "auc = roc_auc_score( train['failure'], y_hat )\n",
    "auc"
   ]
  },
  {
   "cell_type": "markdown",
   "id": "0fd3f6ba",
   "metadata": {},
   "source": [
    "실제로 제출해야 되는 내용은 아래와 같습니다. "
   ]
  },
  {
   "cell_type": "code",
   "execution_count": 176,
   "id": "c3806262",
   "metadata": {},
   "outputs": [
    {
     "data": {
      "text/plain": [
       "array([0.17549859, 0.22825883, 0.19905798, ..., 0.18004455, 0.26722356,\n",
       "       0.21679316])"
      ]
     },
     "execution_count": 176,
     "metadata": {},
     "output_type": "execute_result"
    }
   ],
   "source": [
    "y_hat = model.predict_proba( test.drop(columns='id') )[:, 1]\n",
    "y_hat"
   ]
  },
  {
   "cell_type": "code",
   "execution_count": 179,
   "id": "3d941067",
   "metadata": {},
   "outputs": [
    {
     "data": {
      "text/html": [
       "<div>\n",
       "<style scoped>\n",
       "    .dataframe tbody tr th:only-of-type {\n",
       "        vertical-align: middle;\n",
       "    }\n",
       "\n",
       "    .dataframe tbody tr th {\n",
       "        vertical-align: top;\n",
       "    }\n",
       "\n",
       "    .dataframe thead th {\n",
       "        text-align: right;\n",
       "    }\n",
       "</style>\n",
       "<table border=\"1\" class=\"dataframe\">\n",
       "  <thead>\n",
       "    <tr style=\"text-align: right;\">\n",
       "      <th></th>\n",
       "      <th>failure</th>\n",
       "    </tr>\n",
       "    <tr>\n",
       "      <th>id</th>\n",
       "      <th></th>\n",
       "    </tr>\n",
       "  </thead>\n",
       "  <tbody>\n",
       "    <tr>\n",
       "      <td>16115</td>\n",
       "      <td>0.175499</td>\n",
       "    </tr>\n",
       "    <tr>\n",
       "      <td>16116</td>\n",
       "      <td>0.228259</td>\n",
       "    </tr>\n",
       "    <tr>\n",
       "      <td>16117</td>\n",
       "      <td>0.199058</td>\n",
       "    </tr>\n",
       "    <tr>\n",
       "      <td>16118</td>\n",
       "      <td>0.321018</td>\n",
       "    </tr>\n",
       "    <tr>\n",
       "      <td>16119</td>\n",
       "      <td>0.214863</td>\n",
       "    </tr>\n",
       "    <tr>\n",
       "      <td>...</td>\n",
       "      <td>...</td>\n",
       "    </tr>\n",
       "    <tr>\n",
       "      <td>21222</td>\n",
       "      <td>0.228836</td>\n",
       "    </tr>\n",
       "    <tr>\n",
       "      <td>21223</td>\n",
       "      <td>0.338577</td>\n",
       "    </tr>\n",
       "    <tr>\n",
       "      <td>21224</td>\n",
       "      <td>0.180045</td>\n",
       "    </tr>\n",
       "    <tr>\n",
       "      <td>21225</td>\n",
       "      <td>0.267224</td>\n",
       "    </tr>\n",
       "    <tr>\n",
       "      <td>21226</td>\n",
       "      <td>0.216793</td>\n",
       "    </tr>\n",
       "  </tbody>\n",
       "</table>\n",
       "<p>5112 rows × 1 columns</p>\n",
       "</div>"
      ],
      "text/plain": [
       "        failure\n",
       "id             \n",
       "16115  0.175499\n",
       "16116  0.228259\n",
       "16117  0.199058\n",
       "16118  0.321018\n",
       "16119  0.214863\n",
       "...         ...\n",
       "21222  0.228836\n",
       "21223  0.338577\n",
       "21224  0.180045\n",
       "21225  0.267224\n",
       "21226  0.216793\n",
       "\n",
       "[5112 rows x 1 columns]"
      ]
     },
     "execution_count": 179,
     "metadata": {},
     "output_type": "execute_result"
    }
   ],
   "source": [
    "predict = pd.DataFrame( y_hat, index=test.id, columns=['failure'] )\n",
    "predict"
   ]
  },
  {
   "cell_type": "code",
   "execution_count": 180,
   "id": "976229a8",
   "metadata": {},
   "outputs": [
    {
     "data": {
      "text/plain": [
       "0.5886427607913669"
      ]
     },
     "execution_count": 180,
     "metadata": {},
     "output_type": "execute_result"
    }
   ],
   "source": [
    "# 실제 시험에서는 확인할 수 없지마 \n",
    "# 정답과 예측값을 비교\n",
    "roc_auc_score( ans['failure'], predict['failure'] )"
   ]
  }
 ],
 "metadata": {
  "kernelspec": {
   "display_name": "Python 3 (ipykernel)",
   "language": "python",
   "name": "python3"
  },
  "language_info": {
   "codemirror_mode": {
    "name": "ipython",
    "version": 3
   },
   "file_extension": ".py",
   "mimetype": "text/x-python",
   "name": "python",
   "nbconvert_exporter": "python",
   "pygments_lexer": "ipython3",
   "version": "3.7.4"
  }
 },
 "nbformat": 4,
 "nbformat_minor": 5
}
