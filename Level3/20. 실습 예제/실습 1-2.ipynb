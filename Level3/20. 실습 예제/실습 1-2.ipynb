{
 "cells": [
  {
   "cell_type": "code",
   "execution_count": 4,
   "metadata": {},
   "outputs": [],
   "source": [
    "import warnings\n",
    "warnings.filterwarnings('always')\n",
    "warnings.filterwarnings('ignore')\n",
    "\n",
    "import pandas as pd\n",
    "import numpy as np\n",
    "\n",
    "import matplotlib.pyplot as plt\n",
    "import seaborn as sns\n",
    "\n",
    "plt.style.use('ggplot')"
   ]
  },
  {
   "attachments": {},
   "cell_type": "markdown",
   "metadata": {},
   "source": [
    "# 두 집단의 평균을 비교하는 검정 방법"
   ]
  },
  {
   "attachments": {},
   "cell_type": "markdown",
   "metadata": {},
   "source": [
    "## 1-표본 t-검정"
   ]
  },
  {
   "attachments": {},
   "cell_type": "markdown",
   "metadata": {},
   "source": [
    "### scipy.stats.ttest_1samp\n",
    "- [바로가기](https://docs.scipy.org/doc/scipy/reference/generated/scipy.stats.ttest_1samp.html#scipy.stats.ttest_1samp)\n",
    "- 함수 원형\n",
    "```\n",
    "scipy.stats.ttest_1samp(\n",
    "    a, \n",
    "    popmean, \n",
    "    axis=0, \n",
    "    nan_policy='propagate', \n",
    "    alternative='two-sided', \n",
    "    *, \n",
    "    keepdims=False\n",
    ")\n",
    "```"
   ]
  },
  {
   "cell_type": "code",
   "execution_count": 6,
   "metadata": {},
   "outputs": [],
   "source": [
    "from scipy import stats\n",
    "from scipy.stats import ttest_1samp"
   ]
  },
  {
   "cell_type": "code",
   "execution_count": 7,
   "metadata": {},
   "outputs": [
    {
     "data": {
      "text/plain": [
       "array([0.25691911, 0.43241898, 0.7326889 , 0.63158396, 0.2808299 ,\n",
       "       0.25246772, 0.56543942, 0.82385406, 0.76467736, 0.4472907 ,\n",
       "       0.86489482, 0.47100526, 0.51030858, 0.37065626, 0.18033817,\n",
       "       0.64428006, 0.36896558, 0.55330826, 0.92948127, 0.02073572,\n",
       "       0.35590362, 0.96954492, 0.46370323, 0.85590093, 0.50330489,\n",
       "       0.76555636, 0.91585124, 0.16673639, 0.27592016, 0.90471617,\n",
       "       0.0603725 , 0.45840118, 0.37958094, 0.39954663, 0.77094704,\n",
       "       0.04780625, 0.48910092, 0.75954953, 0.8612784 , 0.0216658 ,\n",
       "       0.68094188, 0.19456357, 0.44886555, 0.92208057, 0.86952715,\n",
       "       0.10335217, 0.23461862, 0.77008103, 0.30421902, 0.2421083 ])"
      ]
     },
     "execution_count": 7,
     "metadata": {},
     "output_type": "execute_result"
    }
   ],
   "source": [
    "rvs = stats.uniform.rvs( size=50 )\n",
    "rvs"
   ]
  },
  {
   "cell_type": "code",
   "execution_count": 8,
   "metadata": {},
   "outputs": [
    {
     "data": {
      "text/plain": [
       "Ttest_1sampResult(statistic=0.15041820561146496, pvalue=0.8810521735195176)"
      ]
     },
     "execution_count": 8,
     "metadata": {},
     "output_type": "execute_result"
    }
   ],
   "source": [
    "ttest_1samp( rvs, popmean=0.5 )"
   ]
  },
  {
   "cell_type": "code",
   "execution_count": 10,
   "metadata": {},
   "outputs": [
    {
     "data": {
      "text/plain": [
       "Ttest_1sampResult(statistic=-3.15977004064562, pvalue=0.00270547830242588)"
      ]
     },
     "execution_count": 10,
     "metadata": {},
     "output_type": "execute_result"
    }
   ],
   "source": [
    "rvs = stats.norm.rvs( size=50 )\n",
    "ttest_1samp( rvs, popmean=0.5 )"
   ]
  },
  {
   "attachments": {},
   "cell_type": "markdown",
   "metadata": {},
   "source": [
    "## 독립표본 t-검정"
   ]
  },
  {
   "attachments": {},
   "cell_type": "markdown",
   "metadata": {},
   "source": [
    "### scipy.stats.ttest_ind\n",
    "- [바로가기](https://docs.scipy.org/doc/scipy/reference/generated/scipy.stats.ttest_ind.html#scipy.stats.ttest_ind)\n",
    "- 함수 원형\n",
    "```\n",
    "scipy.stats.ttest_ind(\n",
    "    a, b, \n",
    "    axis=0, \n",
    "    equal_var=True, \n",
    "    nan_policy='propagate', \n",
    "    permutations=None, \n",
    "    random_state=None, \n",
    "    alternative='two-sided', \n",
    "    trim=0\n",
    ")\n",
    "```"
   ]
  },
  {
   "cell_type": "code",
   "execution_count": 11,
   "metadata": {},
   "outputs": [],
   "source": [
    "from scipy.stats import ttest_ind"
   ]
  },
  {
   "cell_type": "code",
   "execution_count": 17,
   "metadata": {},
   "outputs": [],
   "source": [
    "rvs1 = stats.norm.rvs(loc=5, scale=10, size=500 )\n",
    "rvs2 = stats.norm.rvs(loc=5, scale=10, size=500 )"
   ]
  },
  {
   "cell_type": "code",
   "execution_count": 18,
   "metadata": {},
   "outputs": [
    {
     "data": {
      "text/plain": [
       "Ttest_indResult(statistic=-0.5100072468266222, pvalue=0.6101591522653469)"
      ]
     },
     "execution_count": 18,
     "metadata": {},
     "output_type": "execute_result"
    }
   ],
   "source": [
    "ttest_ind(rvs1, rvs2)"
   ]
  },
  {
   "cell_type": "code",
   "execution_count": 23,
   "metadata": {},
   "outputs": [
    {
     "name": "stdout",
     "output_type": "stream",
     "text": [
      "Ttest_indResult(statistic=-1.057508488707401, pvalue=0.2907065809390743)\n",
      "Ttest_indResult(statistic=-0.6743455315767852, pvalue=0.501531096392113)\n"
     ]
    }
   ],
   "source": [
    "rvs3 = stats.norm.rvs(loc=5, scale=20, size=100 )\n",
    "print( ttest_ind(rvs1, rvs3) )\n",
    "print( ttest_ind(rvs1, rvs3, equal_var=False ) )"
   ]
  },
  {
   "cell_type": "code",
   "execution_count": 25,
   "metadata": {},
   "outputs": [
    {
     "name": "stdout",
     "output_type": "stream",
     "text": [
      "Ttest_indResult(statistic=-2.6730441206912032, pvalue=0.0077218051227199115)\n",
      "Ttest_indResult(statistic=-1.727698920566838, pvalue=0.08688409419284876)\n"
     ]
    }
   ],
   "source": [
    "rvs4 = stats.norm.rvs( loc=8, scale=20, size=100 )\n",
    "print( ttest_ind( rvs1, rvs4 ) )\n",
    "print( ttest_ind( rvs1, rvs4, equal_var=False ) )"
   ]
  },
  {
   "attachments": {},
   "cell_type": "markdown",
   "metadata": {},
   "source": [
    "## 대응표본 t-검정"
   ]
  },
  {
   "attachments": {},
   "cell_type": "markdown",
   "metadata": {},
   "source": [
    "### scipy.stats.ttest_rel\n",
    "- [바로가기](https://docs.scipy.org/doc/scipy/reference/generated/scipy.stats.ttest_rel.html#scipy.stats.ttest_rel)\n",
    "- 함수 원형\n",
    "```\n",
    "scipy.stats.ttest_rel(\n",
    "    a, b, \n",
    "    axis=0, \n",
    "    nan_policy='propagate', \n",
    "    alternative='two-sided', \n",
    "    *, \n",
    "    keepdims=False\n",
    ")\n",
    "```"
   ]
  },
  {
   "cell_type": "code",
   "execution_count": 26,
   "metadata": {},
   "outputs": [],
   "source": [
    "from scipy.stats import ttest_rel"
   ]
  },
  {
   "cell_type": "code",
   "execution_count": 27,
   "metadata": {},
   "outputs": [],
   "source": [
    "rvs1 = stats.norm.rvs(loc=5, scale=10, size=500 )\n",
    "rvs2 = (\n",
    "\tstats.norm.rvs(loc=5, scale=10, size=500 ) + \n",
    "\tstats.norm.rvs(scale=0.2, size=500 )\n",
    ")"
   ]
  },
  {
   "cell_type": "code",
   "execution_count": 28,
   "metadata": {},
   "outputs": [
    {
     "data": {
      "text/plain": [
       "Ttest_relResult(statistic=1.6087429083883615, pvalue=0.10830501950364764)"
      ]
     },
     "execution_count": 28,
     "metadata": {},
     "output_type": "execute_result"
    }
   ],
   "source": [
    "stats.ttest_rel(rvs1, rvs2)"
   ]
  },
  {
   "cell_type": "code",
   "execution_count": 29,
   "metadata": {},
   "outputs": [],
   "source": [
    "rvs3 = (\n",
    "    stats.norm.rvs(loc=8, scale=10, size=500 ) + \n",
    "    stats.norm.rvs(scale=0.2, size=500 )\n",
    ")"
   ]
  },
  {
   "cell_type": "code",
   "execution_count": 30,
   "metadata": {},
   "outputs": [
    {
     "data": {
      "text/plain": [
       "Ttest_relResult(statistic=-3.2730639987375207, pvalue=0.0011376410245255264)"
      ]
     },
     "execution_count": 30,
     "metadata": {},
     "output_type": "execute_result"
    }
   ],
   "source": [
    "stats.ttest_rel(rvs1, rvs3)"
   ]
  }
 ],
 "metadata": {
  "kernelspec": {
   "display_name": "exam",
   "language": "python",
   "name": "python3"
  },
  "language_info": {
   "codemirror_mode": {
    "name": "ipython",
    "version": 3
   },
   "file_extension": ".py",
   "mimetype": "text/x-python",
   "name": "python",
   "nbconvert_exporter": "python",
   "pygments_lexer": "ipython3",
   "version": "3.7.4"
  },
  "orig_nbformat": 4,
  "vscode": {
   "interpreter": {
    "hash": "1f017810c1c394a354833b19fdf24d2ab77af603d5933853027f9bd32adeba14"
   }
  }
 },
 "nbformat": 4,
 "nbformat_minor": 2
}
