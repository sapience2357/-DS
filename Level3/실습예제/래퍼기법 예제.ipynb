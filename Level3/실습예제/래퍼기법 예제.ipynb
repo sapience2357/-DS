{
 "cells": [
  {
   "cell_type": "code",
   "execution_count": 1,
   "metadata": {},
   "outputs": [],
   "source": [
    "import warnings\n",
    "warnings.filterwarnings('always')\n",
    "warnings.filterwarnings('ignore')\n",
    "\n",
    "import pandas as pd\n",
    "import numpy as np\n",
    "\n",
    "import matplotlib.pyplot as plt\n",
    "import seaborn as sns\n",
    "\n",
    "plt.style.use('ggplot')"
   ]
  },
  {
   "attachments": {},
   "cell_type": "markdown",
   "metadata": {},
   "source": [
    "# ColumnSelector\n",
    "- 데이터 셋에서 특정 열을 선택하는 매우 단순한 기능\n",
    "- make_pipelines를 활용할 수 있다\n",
    "\n",
    "- 클래스원형\n",
    "```\n",
    "ColumnSelector(cols=None, drop_axis=False)\n",
    "```"
   ]
  },
  {
   "cell_type": "code",
   "execution_count": 2,
   "metadata": {},
   "outputs": [],
   "source": [
    "from sklearn.datasets import load_iris\n",
    "\n",
    "# sklearn >= 2.0 포함\n",
    "# 시험에서는 mlxtend를 사용해야 합니다.\n",
    "from mlxtend.feature_selection import ColumnSelector"
   ]
  },
  {
   "cell_type": "code",
   "execution_count": 3,
   "metadata": {},
   "outputs": [],
   "source": [
    "iris = load_iris()\n",
    "x = iris.data\n",
    "y = iris.target"
   ]
  },
  {
   "cell_type": "code",
   "execution_count": 11,
   "metadata": {},
   "outputs": [
    {
     "data": {
      "text/plain": [
       "array([[5.1, 3.5, 1.4, 0.2],\n",
       "       [4.9, 3. , 1.4, 0.2],\n",
       "       [4.7, 3.2, 1.3, 0.2],\n",
       "       [4.6, 3.1, 1.5, 0.2],\n",
       "       [5. , 3.6, 1.4, 0.2]])"
      ]
     },
     "execution_count": 11,
     "metadata": {},
     "output_type": "execute_result"
    }
   ],
   "source": [
    "x[:5, :]"
   ]
  },
  {
   "cell_type": "code",
   "execution_count": 14,
   "metadata": {},
   "outputs": [
    {
     "data": {
      "text/plain": [
       "array([[3.5, 1.4],\n",
       "       [3. , 1.4],\n",
       "       [3.2, 1.3],\n",
       "       [3.1, 1.5],\n",
       "       [3.6, 1.4]])"
      ]
     },
     "execution_count": 14,
     "metadata": {},
     "output_type": "execute_result"
    }
   ],
   "source": [
    "# 원본 데이터 셋에서 두 번째, 세 번째 컬럼만 선택\n",
    "# 그냥 슬라이스 하거나, 배열 인덱싱을 사용해도 무방\n",
    "selected_cols = ColumnSelector( cols=(1,2) )\n",
    "selected_cols.transform(x)[:5, :]"
   ]
  },
  {
   "attachments": {},
   "cell_type": "markdown",
   "metadata": {},
   "source": [
    "## 응용예제"
   ]
  },
  {
   "cell_type": "code",
   "execution_count": 20,
   "metadata": {},
   "outputs": [
    {
     "name": "stdout",
     "output_type": "stream",
     "text": [
      "[(0,), (1,), (2,), (3,), (0, 1), (0, 2), (0, 3), (1, 2), (1, 3), (2, 3), (0, 1, 2), (0, 1, 3), (0, 2, 3), (1, 2, 3), (0, 1, 2, 3)]\n"
     ]
    }
   ],
   "source": [
    "# 모든 컬럼의 조합\n",
    "from itertools import combinations\n",
    "\n",
    "# 4개의 컬럼으로 만들 수 있는 모든 컬럼들의 조합을 찾는다.\n",
    "comb = []\n",
    "for size in range(1, 5):\n",
    "  comb += list( combinations( range(4), r=size) )\n",
    "print(comb)"
   ]
  },
  {
   "cell_type": "code",
   "execution_count": 21,
   "metadata": {},
   "outputs": [],
   "source": [
    "from sklearn.neighbors import KNeighborsClassifier\n",
    "from sklearn.preprocessing import StandardScaler\n",
    "from sklearn.model_selection import GridSearchCV\n",
    "from sklearn.pipeline import make_pipeline"
   ]
  },
  {
   "cell_type": "code",
   "execution_count": 24,
   "metadata": {},
   "outputs": [],
   "source": [
    "pipe = make_pipeline(\n",
    "  StandardScaler(), \n",
    "  ColumnSelector(), \n",
    "  KNeighborsClassifier()\n",
    ")\n",
    "\n",
    "# 그리드 서치를 통해서 모든 변수의 조합을 테스트해본다.\n",
    "params = {\n",
    "  'columnselector__cols': comb,\n",
    "  'kneighborsclassifier__n_neighbors': range(1, 11)\n",
    "}\n",
    "\n",
    "search = GridSearchCV( pipe, params, cv=10 ).fit(x, y)"
   ]
  },
  {
   "cell_type": "code",
   "execution_count": 25,
   "metadata": {},
   "outputs": [
    {
     "data": {
      "text/plain": [
       "({'columnselector__cols': (2, 3), 'kneighborsclassifier__n_neighbors': 1},\n",
       " 0.9733333333333334)"
      ]
     },
     "execution_count": 25,
     "metadata": {},
     "output_type": "execute_result"
    }
   ],
   "source": [
    "# 3번째, 4번째 컬럼을 이용해서 k가 1일때, 가장 좋은 점수를 내었다.\n",
    "# k가 1이라면... 과적합의 가능성도 있습니다.\n",
    "search.best_params_, search.best_score_"
   ]
  },
  {
   "attachments": {},
   "cell_type": "markdown",
   "metadata": {},
   "source": [
    "# ExhaustiveFeatureSelector\n",
    "- 분류 및 회귀를 이용한 변수 선택 방법\n",
    "- 클래스 원형\n",
    "```\n",
    "ExhaustiveFeatureSelector(\n",
    "  estimator, min_features=1, max_features=1, \n",
    "  print_progress=True, scoring='accuracy', cv=5, \n",
    "  n_jobs=1, pre_dispatch='2n_jobs', clone_estimator=True, \n",
    "  fixed_features=None, feature_groups=None)\n",
    "```\n",
    "\n",
    "- 주요 파라미터\n",
    "  - estimator: 변수 선택에 사용할 분류기 또는 회귀모델\n",
    "  - min_features: 선택할 변수의 최소 개수, default=1\n",
    "  - max_features: 선택할 변수의 최대 개수, default=1\n",
    "  - scoring: 사용할 평가 방법, default=accuracy\n",
    "    - 분류기: accuracy, f1, precision, recall, roc_auc\n",
    "    - 회귀: mean_absolute_error, mean_squared_error, median_absolute_error, r2"
   ]
  },
  {
   "attachments": {},
   "cell_type": "markdown",
   "metadata": {},
   "source": [
    "## 예제"
   ]
  },
  {
   "cell_type": "code",
   "execution_count": 26,
   "metadata": {},
   "outputs": [],
   "source": [
    "from mlxtend.feature_selection import ExhaustiveFeatureSelector as EFS"
   ]
  },
  {
   "cell_type": "code",
   "execution_count": 27,
   "metadata": {},
   "outputs": [
    {
     "name": "stderr",
     "output_type": "stream",
     "text": [
      "Features: 15/15"
     ]
    },
    {
     "data": {
      "text/plain": [
       "ExhaustiveFeatureSelector(clone_estimator=True, cv=5,\n",
       "                          estimator=KNeighborsClassifier(algorithm='auto',\n",
       "                                                         leaf_size=30,\n",
       "                                                         metric='minkowski',\n",
       "                                                         metric_params=None,\n",
       "                                                         n_jobs=None,\n",
       "                                                         n_neighbors=3, p=2,\n",
       "                                                         weights='uniform'),\n",
       "                          max_features=4, min_features=1, n_jobs=1,\n",
       "                          pre_dispatch='2*n_jobs', print_progress=True,\n",
       "                          scoring='accuracy')"
      ]
     },
     "execution_count": 27,
     "metadata": {},
     "output_type": "execute_result"
    }
   ],
   "source": [
    "# 사용할 분류기 선택\n",
    "knn = KNeighborsClassifier( n_neighbors=3 )\n",
    "\n",
    "# 변수 선택기 객체 생성\n",
    "efs = EFS(\n",
    "  knn,\n",
    "  min_features = 1,\n",
    "  max_features = 4,\n",
    ")\n",
    "\n",
    "efs.fit(x, y)"
   ]
  },
  {
   "cell_type": "code",
   "execution_count": 28,
   "metadata": {},
   "outputs": [
    {
     "data": {
      "text/plain": [
       "(0.9733333333333334, ('0', '2', '3'))"
      ]
     },
     "execution_count": 28,
     "metadata": {},
     "output_type": "execute_result"
    }
   ],
   "source": [
    "efs.best_score_, efs.best_feature_names_"
   ]
  },
  {
   "attachments": {},
   "cell_type": "markdown",
   "metadata": {},
   "source": [
    "# SequentialFeatureSelector\n",
    "- 분류 및 회귀를 이용한 순차적 변수 선택\n",
    "- 클래스 원형\n",
    "```\n",
    "SequentialFeatureSelector(\n",
    "  estimator, k_features=1, forward=True, floating=False, verbose=0, score=None, cv=5, \n",
    "  n_jobs=1, pre_dispatch='2 n_jobs', clone_estimator=True, fixed_features=None, feature_groups= None )\n",
    "```\n",
    "\n",
    "- 주요 파라미터\n",
    "  - estimator: 변수 선택에 사용할 분류기 또는 회귀\n",
    "  - k_features: 선택할 변수의 수\n",
    "    - 튜플인 경우 (최소개수, 최대개수) 사이에 가장 높은 점수를 받은 조합을 반환\n",
    "  - forward: 전진선택(True), 후진제거(False)\n",
    "  - floating: Step-wise(True)"
   ]
  },
  {
   "attachments": {},
   "cell_type": "markdown",
   "metadata": {},
   "source": [
    "## 예제"
   ]
  },
  {
   "cell_type": "code",
   "execution_count": 29,
   "metadata": {},
   "outputs": [],
   "source": [
    "from mlxtend.feature_selection import SequentialFeatureSelector as SFS"
   ]
  },
  {
   "cell_type": "code",
   "execution_count": 30,
   "metadata": {},
   "outputs": [
    {
     "data": {
      "text/plain": [
       "SequentialFeatureSelector(clone_estimator=True, cv=5,\n",
       "                          estimator=KNeighborsClassifier(algorithm='auto',\n",
       "                                                         leaf_size=30,\n",
       "                                                         metric='minkowski',\n",
       "                                                         metric_params=None,\n",
       "                                                         n_jobs=None,\n",
       "                                                         n_neighbors=4, p=2,\n",
       "                                                         weights='uniform'),\n",
       "                          floating=False, forward=True, k_features=(1, 4),\n",
       "                          n_jobs=1, pre_dispatch='2*n_jobs', scoring=None,\n",
       "                          verbose=0)"
      ]
     },
     "execution_count": 30,
     "metadata": {},
     "output_type": "execute_result"
    }
   ],
   "source": [
    "knn = KNeighborsClassifier( n_neighbors=4 )\n",
    "\n",
    "sfs = SFS(\n",
    "  knn, \n",
    "  k_features=(1, 4),\n",
    "  forward=True,\n",
    "  floating=False,\n",
    ")\n",
    "sfs.fit(x, y)"
   ]
  },
  {
   "cell_type": "code",
   "execution_count": 31,
   "metadata": {},
   "outputs": [
    {
     "data": {
      "text/plain": [
       "(0.9733333333333334, (0, 1, 2, 3))"
      ]
     },
     "execution_count": 31,
     "metadata": {},
     "output_type": "execute_result"
    }
   ],
   "source": [
    "sfs.k_score_, sfs.k_feature_idx_"
   ]
  }
 ],
 "metadata": {
  "kernelspec": {
   "display_name": "Python 3",
   "language": "python",
   "name": "python3"
  },
  "language_info": {
   "codemirror_mode": {
    "name": "ipython",
    "version": 3
   },
   "file_extension": ".py",
   "mimetype": "text/x-python",
   "name": "python",
   "nbconvert_exporter": "python",
   "pygments_lexer": "ipython3",
   "version": "3.7.4"
  },
  "orig_nbformat": 4,
  "vscode": {
   "interpreter": {
    "hash": "3ad933181bd8a04b432d3370b9dc3b0662ad032c4dfaa4e4f1596c548f763858"
   }
  }
 },
 "nbformat": 4,
 "nbformat_minor": 2
}
